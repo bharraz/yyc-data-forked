{
 "cells": [
  {
   "cell_type": "markdown",
   "metadata": {},
   "source": [
    "## Off-resonance scattering rate from Na Trap"
   ]
  },
  {
   "cell_type": "code",
   "execution_count": 1,
   "metadata": {
    "collapsed": false
   },
   "outputs": [
    {
     "data": {
      "text/plain": [
       "3.196422140351015e15"
      ]
     },
     "execution_count": 1,
     "metadata": {},
     "output_type": "execute_result"
    }
   ],
   "source": [
    "## Na properties\n",
    "\n",
    "# Line width: 9.7946MHz\n",
    "Γ = 2π * 9.7946e6\n",
    "# Effective far-detuned saturation intensity: 9.3901 mW / cm^2\n",
    "I_sat = 9.3901e-3 / 1e-2^2\n",
    "# Wavelength\n",
    "λ_res = 589.3e-9\n",
    "# Frequency\n",
    "ω_res = 2π * 299792458 / λ_res"
   ]
  },
  {
   "cell_type": "code",
   "execution_count": 2,
   "metadata": {
    "collapsed": false
   },
   "outputs": [
    {
     "data": {
      "text/plain": [
       "3.848451000647496e-13"
      ]
     },
     "execution_count": 2,
     "metadata": {},
     "output_type": "execute_result"
    }
   ],
   "source": [
    "## Trap properties\n",
    "\n",
    "# Power\n",
    "P_trap = 20e-3\n",
    "# Wavelength\n",
    "λ_trap = 0.7e-6\n",
    "# Frequency\n",
    "ω_trap = 2π * 299792458 / λ_trap\n",
    "# Size\n",
    "d_trap = λ_trap\n",
    "# Area\n",
    "s_trap = π / 4 * d_trap^2"
   ]
  },
  {
   "cell_type": "code",
   "execution_count": 3,
   "metadata": {
    "collapsed": false
   },
   "outputs": [
    {
     "data": {
      "text/plain": [
       "R_sc (generic function with 1 method)"
      ]
     },
     "execution_count": 3,
     "metadata": {},
     "output_type": "execute_result"
    }
   ],
   "source": [
    "R_sc(Γ, s, Δ) = (Γ / 2) * s / (1 + 4 * (Δ / Γ)^2 + s)"
   ]
  },
  {
   "cell_type": "code",
   "execution_count": 4,
   "metadata": {
    "collapsed": false
   },
   "outputs": [
    {
     "data": {
      "text/plain": [
       "5.196896100959849e10"
      ]
     },
     "execution_count": 4,
     "metadata": {},
     "output_type": "execute_result"
    }
   ],
   "source": [
    "I_trap = P_trap / s_trap"
   ]
  },
  {
   "cell_type": "code",
   "execution_count": 5,
   "metadata": {
    "collapsed": false
   },
   "outputs": [
    {
     "data": {
      "text/plain": [
       "63.10375984495282"
      ]
     },
     "execution_count": 5,
     "metadata": {},
     "output_type": "execute_result"
    }
   ],
   "source": [
    "R_sc(Γ, I_trap / I_sat, ω_trap - ω_res)"
   ]
  }
 ],
 "metadata": {
  "kernelspec": {
   "display_name": "Julia 0.4.0-dev",
   "language": "julia",
   "name": "julia-0.4"
  },
  "language_info": {
   "file_extension": ".jl",
   "mimetype": "application/julia",
   "name": "julia",
   "version": "0.4.0"
  }
 },
 "nbformat": 4,
 "nbformat_minor": 0
}
