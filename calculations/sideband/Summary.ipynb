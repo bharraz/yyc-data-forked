{
 "cells": [
  {
   "cell_type": "markdown",
   "metadata": {},
   "source": [
    "# Simulation of 3D cooling"
   ]
  },
  {
   "cell_type": "markdown",
   "metadata": {},
   "source": [
    "## Model\n",
    "\n",
    "### Effects included\n",
    "\n",
    "1. Dark state fidelity\n",
    "\n",
    "    The F2 optical pumping is assumed to address the dark state (`2, -2` state)\n",
    "    `1%` of the time. This should be a reasonable goal to achieve in the experiment.\n",
    "\n",
    "2. High $\\eta$ parameter\n",
    "\n",
    "    This is mainly a disadvantage for the OP.\n",
    "\n",
    "3. High initial $\\bar n$\n",
    "\n",
    "    We use the initial average energy closed to what measured in the experiment.\n",
    "    As expected, this is mainly an issue for initial coolng but doesn't affect\n",
    "    the final ground state cooling very much.\n",
    "\n",
    "### Imperfections not included\n",
    "\n",
    "1. Coupling between axis.\n",
    "\n",
    "    The new vertical beam should help reducing this.\n",
    "\n",
    "2. Off-resonance coupling of Raman beam\n",
    "\n",
    "    Pulse shaping should reduce this in the experiment for pulse cooling.\n",
    "\n",
    "3. Spontaneous emission from the Raman beam\n",
    "\n",
    "    We should be able to reduce this by increasing the detuning and\n",
    "    optimizing the Raman beams polarizations. This is harder to implement\n",
    "    and also need more input from the experiment."
   ]
  },
  {
   "cell_type": "markdown",
   "metadata": {},
   "source": [
    "## Result\n",
    "\n",
    "\n",
    "### $\\bar n$ and ground state population changes\n",
    "\n",
    "![N bar](imgs/cycles/nbar.svg)\n",
    "\n",
    "![Ground state](imgs/cycles/ground.svg)\n",
    "\n",
    "### Highlights\n",
    "\n",
    "* Reduced F2 OP power\n",
    "\n",
    "    Different from the simulation with an ideal dark state,\n",
    "    the cooling performance with a grey dark state depends sensitively\n",
    "    on the F2 OP power. A too weak F2 OP will leave too much population in the\n",
    "    2, -1 state that are not being cooled where as a too strong F2 OP will heat\n",
    "    2, -2 dark state atom too much when they are already cold.\n",
    "\n",
    "    From the changes in HF distribution, we can see that there is usually\n",
    "    significant population left in other hyperfine state after each cooling cycle\n",
    "    (i.e. OP)\n",
    "\n",
    "    ![HF distribution](imgs/cycles/hf.svg)\n",
    "\n",
    "* Raman pulse length\n",
    "\n",
    "    The Raman coupling (matrix element) of different order\n",
    "    on different axes as a function of the state is\n",
    "\n",
    "    Axial\n",
    "\n",
    "    ![Axial](../sideband_strength/imgs/coupling_0.46_0-6.svg)\n",
    "\n",
    "    Radial\n",
    "\n",
    "    ![Radial](../sideband_strength/imgs/coupling_0.35_0-2.svg)"
   ]
  }
 ],
 "metadata": {
  "kernelspec": {
   "display_name": "Julia 0.6.0-dev",
   "language": "julia",
   "name": "julia-0.6"
  },
  "language_info": {
   "file_extension": ".jl",
   "mimetype": "application/julia",
   "name": "julia",
   "version": "0.6.0"
  }
 },
 "nbformat": 4,
 "nbformat_minor": 1
}
