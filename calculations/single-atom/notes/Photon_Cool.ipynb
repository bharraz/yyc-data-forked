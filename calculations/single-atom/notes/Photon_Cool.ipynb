{
 "cells": [
  {
   "cell_type": "markdown",
   "metadata": {},
   "source": [
    "# Number of photons to cool into the trap with Doppler cooling"
   ]
  },
  {
   "cell_type": "markdown",
   "metadata": {},
   "source": [
    "Estimated this number for a magic trap using the number of photons scattered during the decay time of the Doppler cooling.\n",
    "\n",
    "This may underestimate the number due to the decrease in cooling efficiency when the atom's kinetic energy increases when it falls into the trap. This may also overestimate the number since the atom doesn't need to be fully cooled to be counted as trapped. However, since the trap depth is expected to be 5-10 times the final temperature and the atom needs to be cooled by a few times the final temperature to overcome the effect of the random walk and be counted as trapped, we expect both of these factors to be small and the estimation stated above should be closed enough for Doppler cooling.\n",
    "\n",
    "In the weak drive limit, the cooling time is,\n",
    "\n",
    "$$\n",
    "\\tau \\approx \\frac{m\\gamma(1+4\\delta^2/\\gamma^2)^2}{8\\hbar k^2\\delta s_0}\n",
    "$$\n",
    "\n",
    "Photon scattering rate (for both beams),\n",
    "\n",
    "$$\n",
    "r \\approx \\frac{2\\gamma s_0}{1+4\\delta^2/\\gamma^2}\n",
    "$$\n",
    "\n",
    "Number of photon scattered (assuming $\\delta = \\dfrac{\\gamma}{2}$),\n",
    "\n",
    "$$\n",
    "\\begin{align*}\n",
    "n\\approx&\\frac{m\\gamma}{\\hbar k^2}\\\\\n",
    "n_{Cs}\\approx&196\\\\\n",
    "n_{Na}\\approx&32\n",
    "\\end{align*}\n",
    "$$\n"
   ]
  }
 ],
 "metadata": {
  "kernelspec": {
   "display_name": "Julia 0.5.0-dev",
   "language": "julia",
   "name": "julia-0.5"
  },
  "language_info": {
   "file_extension": ".jl",
   "mimetype": "application/julia",
   "name": "julia",
   "version": "0.5.0"
  }
 },
 "nbformat": 4,
 "nbformat_minor": 0
}
