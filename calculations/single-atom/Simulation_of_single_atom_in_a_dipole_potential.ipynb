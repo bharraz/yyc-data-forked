{
 "cells": [
  {
   "cell_type": "markdown",
   "metadata": {
    "slideshow": {
     "slide_type": "slide"
    }
   },
   "source": [
    "## Motivation\n",
    "\n",
    "The experiemental effort of loading single Na atom is proven to be quite challenging. Compare to other atoms that people have successfully trapped in a tweezer (Cs, Rb), we have identified many possible reasons including (not necessarily independent)\n",
    "\n",
    "* Smaller exited state hyperfine structure\n",
    "* Not as efficient sub-Doppler cooling\n",
    "* No accessible magic wavelength for D2\n",
    "* Stochastic heating\n",
    "\n",
    "However, due to the characteristic of out system (Lamb-Dicke parameter $\\eta\\approx1$), it is very hard to analytically study these effects. On the other hand, since the system is very simple, a single atom with very few degrees of freedom, it is possible to do a precise numerical study of it."
   ]
  },
  {
   "cell_type": "markdown",
   "metadata": {
    "slideshow": {
     "slide_type": "slide"
    }
   },
   "source": [
    "## Approach\n",
    "\n",
    "1. Quantum jump method\n",
    "\n",
    "    The starting point of the simulation is the master equation\n",
    "\n",
    "        $$\\dot \\rho=\\frac1{i\\hbar}[H,\\rho]+\\sum_mC_m\\rho C_m^\\dagger-\\frac12\\sum_m\\left(C_m^\\dagger C_m\\rho +\\rho C_m^\\dagger C_m\\right)$$\n",
    "\n",
    "    However, doing a deterministic calculation of the master equation requires the whole density matrix and many high dimensional matrix operations which is not very efficient. Instead, we use the [quantum jump method](https://en.wikipedia.org/wiki/Quantum_jump_method) (or Monte Carlo wave function (MCWF) method) to estimate the density matrix (and any measurable quantity derived from it) by evolving a wave function probabilistically.\n",
    "\n",
    "    * Rough scatch of the quantum jump method\n",
    "\n",
    "        We divide the evolution into the coherent part described by the Hamiltonian $H$ and the incoherent part described by the jump operators $C_m$. In each time step of the simulation, we probabilistically choose either to evolve the wave function with the quantum jump or the Hamiltonian. The probability for doing each jump is determined by the expectation value of the jump operator $p_m=\\langle C_m^\\dagger C_m \\rangle$.\n",
    "\n",
    "        * If we decide to jump, the wave function is turned into the projection of $C_m$,\n",
    "\n",
    "            $$|\\psi(t+\\delta t)\\rangle=C_m|\\psi(t)\\rangle$$\n",
    "\n",
    "        * If we decide not to jump, the wave function is evolved with the original hamiltonian, plus a correction term due to the jump.\n",
    "\n",
    "            $$ H'=H-\\frac{i\\hbar}{2}\\sum_m C_m^\\dagger C_m $$\n",
    "\n",
    "        Since none of these operations are unitary, the wave function needs to be normalized at each time step.\n",
    "\n",
    "2. Split operator method\n",
    "\n",
    "    The evolution with the Hamiltonian is done with the split operator method.\n",
    "\n",
    "    The Hamiltonian of the system can be expressed as\n",
    "\n",
    "    $$ H = H_x + H_p $$\n",
    "    \n",
    "    where $H_x$ and $H_p$ are only functions of $x$ and $p$ respectively. The time evolution of the system is described by $e^{iH\\delta t}$. This is hard to calculate since it is not diagonal in a good basis and the diagonalization is very time consuming.\n",
    "\n",
    "    So instead of directly calculation the exponential of the full Hamiltonian, we calculate the transformation $e^{iH_x\\delta t}$ and $e^{iH_p\\delta t}$ separately on the wave function. This is easy to do in the $x$ and $p$ basis and the tranformation of basis can be done very efficiently with [fast Fourier transformation](https://en.wikipedia.org/wiki/Fast_Fourier_transform)\n"
   ]
  }
 ],
 "metadata": {
  "celltoolbar": "Slideshow",
  "kernelspec": {
   "display_name": "Julia 0.4.0-dev",
   "language": "julia",
   "name": "julia-0.4"
  }
 },
 "nbformat": 4,
 "nbformat_minor": 0
}
