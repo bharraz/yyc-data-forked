{
 "cells": [
  {
   "cell_type": "code",
   "execution_count": 1,
   "id": "b790400b-e259-48fb-8a64-9c4e662711bd",
   "metadata": {},
   "outputs": [],
   "source": [
    "using ForwardDiff\n",
    "using QuantumOptics\n",
    "using LinearAlgebra\n",
    "using Markdown"
   ]
  },
  {
   "cell_type": "code",
   "execution_count": 2,
   "id": "6ac06020-4a7a-4b8b-aee0-a29252531dc5",
   "metadata": {},
   "outputs": [
    {
     "data": {
      "text/plain": [
       "apply (generic function with 1 method)"
      ]
     },
     "execution_count": 2,
     "metadata": {},
     "output_type": "execute_result"
    }
   ],
   "source": [
    "struct System{N,S1,S2,P1,P2}\n",
    "    basis1::NLevelBasis{Int}\n",
    "    ψ1s::Vector{S1}\n",
    "    ψ2s::Vector{S2}\n",
    "    proj1s::Vector{P1}\n",
    "    proj1comps::Vector{P1}\n",
    "    proj2s::Matrix{P2}\n",
    "    proj2sub2::Matrix{P2}\n",
    "    proj2oneof::Vector{P2}\n",
    "    function System{N}() where N\n",
    "        basis1 = NLevelBasis(N)\n",
    "        ψ1s = [nlevelstate(basis1, i) for i in 1:N]\n",
    "        S1 = eltype(ψ1s)\n",
    "        ψ2s = [ψ1 ⊗ ψ1 for ψ1 in ψ1s]\n",
    "        S2 = eltype(ψ2s)\n",
    "        proj1s = [projector(ψ1) for ψ1 in ψ1s]\n",
    "        P1 = eltype(proj1s)\n",
    "        proj1full = sum(proj1s)\n",
    "        proj1comps = [proj1full - proj for proj in proj1s]\n",
    "        proj2s = [proj1 ⊗ proj2 for proj1 in proj1s, proj2 in proj1s]\n",
    "        P2 = eltype(proj2s)\n",
    "        proj2sub2 = [proj2s[i, i] + proj2s[i, j] + proj2s[j, i] + proj2s[j, j]\n",
    "                     for i in 1:N, j in 1:N]\n",
    "        proj2oneof = [proj1s[i] ⊗ proj1comps[i] + proj1comps[i] ⊗ proj1s[i] for i in 1:N]\n",
    "        return new{N,S1,S2,P1,P2}(basis1, ψ1s, ψ2s, proj1s, proj1comps,\n",
    "                                  proj2s, proj2sub2, proj2oneof)\n",
    "    end\n",
    "end\n",
    "\n",
    "@inline function Rele(ia, ib, i, j, θ)\n",
    "    if (i == ia && j == ia) || (i == ib && j == ib)\n",
    "        return complex(cos(θ / 2))\n",
    "    elseif (i == ia && j == ib) || (i == ib && j == ia)\n",
    "        return complex(0, -sin(θ / 2))\n",
    "    elseif i == j\n",
    "        return complex(one(θ))\n",
    "    else\n",
    "        return complex(zero(θ))\n",
    "    end\n",
    "end\n",
    "\n",
    "function R(sys::System{N}, ia, ib, θ) where N\n",
    "    return Operator(sys.basis1, [Rele(ia, ib, i, j, θ) for i in 1:N, j in 1:N])\n",
    "end\n",
    "R2(sys::System, ia, ib, θa, θb) = R(sys, ia, ib, θa) ⊗ R(sys, ia, ib, θb)\n",
    "\n",
    "function ratio_angle(r, ε=0)\n",
    "    return 2 * asin(sqrt(r)) * (1 + ε)\n",
    "end\n",
    "R2_ratio(sys::System, ia, ib, r, εa, εb) =\n",
    "    R2(sys, ia, ib, ratio_angle(r, εa), ratio_angle(r, εb))\n",
    "apply(ρ, op) = op * ρ * op'"
   ]
  },
  {
   "cell_type": "code",
   "execution_count": 3,
   "id": "84b922b5-b14a-4f91-a2bd-b4c31126f0d1",
   "metadata": {},
   "outputs": [
    {
     "data": {
      "text/plain": [
       "R2_ratio (generic function with 2 methods)"
      ]
     },
     "execution_count": 3,
     "metadata": {},
     "output_type": "execute_result"
    }
   ],
   "source": [
    "struct SysWrapper{Sys,Ta,Tb}\n",
    "    sys::Sys\n",
    "    εa::Ta\n",
    "    εb::Tb\n",
    "end\n",
    "@inline SysWrapper(sys, εs) = SysWrapper(sys, εs[1], εs[2])\n",
    "@inline R2_ratio(sys::SysWrapper, ia, ib, r) =\n",
    "    R2_ratio(sys.sys, ia, ib, r, sys.εa, sys.εb)"
   ]
  },
  {
   "cell_type": "markdown",
   "id": "cd7cf6c5-c3cb-44e5-b206-8aa70d76b7b5",
   "metadata": {},
   "source": [
    "# Calibration:\n",
    "First calculate how much population error is introduced by rotation angle error when driving a $\\pi$ pulse. We'll use this to convert $\\pi$ pulse population error into variance of rotation angle."
   ]
  },
  {
   "cell_type": "code",
   "execution_count": 4,
   "id": "a62e59d0-1198-44bb-aa4c-eec9cd00824e",
   "metadata": {},
   "outputs": [
    {
     "data": {
      "text/plain": [
       "1.0"
      ]
     },
     "metadata": {},
     "output_type": "display_data"
    },
    {
     "data": {
      "text/plain": [
       "2×2 Matrix{Float64}:\n",
       " -4.9348        3.70051e-32\n",
       "  3.70051e-32  -4.9348"
      ]
     },
     "metadata": {},
     "output_type": "display_data"
    }
   ],
   "source": [
    "const sys2 = System{2}()\n",
    "function fid_π(εs)\n",
    "    sw = SysWrapper(sys2, εs)\n",
    "    ψ = R2_ratio(sw, 1, 2, 1) * sys2.ψ2s[1]\n",
    "    return norm(sys2.proj2s[2, 2] * ψ)^2\n",
    "end\n",
    "display(fid_π([0, 0]))\n",
    "m = ForwardDiff.hessian(fid_π, [0.0, 0.0])\n",
    "display(m)\n",
    "calib_scale = m[1, 1];"
   ]
  },
  {
   "cell_type": "markdown",
   "id": "ff68ca8d-06a5-42a7-b972-7edf211bda31",
   "metadata": {},
   "source": [
    "## $\\pi$ pulse calibration\n",
    "The $\\pi$ pulse population infidelity for the two chambers are measured to be $0.5%$ and $1%$."
   ]
  },
  {
   "cell_type": "code",
   "execution_count": 5,
   "id": "f91ded23-eeb1-4a4e-a2a8-a4021d651b3d",
   "metadata": {},
   "outputs": [],
   "source": [
    "err_a = 0.5e-2;\n",
    "err_b = 3.6e-2;"
   ]
  },
  {
   "cell_type": "code",
   "execution_count": 6,
   "id": "cb57c9d8-c612-4ded-adce-a2cc1b36c648",
   "metadata": {},
   "outputs": [
    {
     "data": {
      "text/plain": [
       "disp_sys (generic function with 1 method)"
      ]
     },
     "execution_count": 6,
     "metadata": {},
     "output_type": "execute_result"
    }
   ],
   "source": [
    "function disp_sys(sys, cb, name)\n",
    "    @assert cb(sys, [0, 0]) ≈ 1\n",
    "    m = ForwardDiff.hessian((x)->cb(sys, x), [0.0, 0.0])\n",
    "    err_ind = m[1, 1] * (err_a + err_b) / calib_scale * 100\n",
    "    err_corr = err_ind + 2 * m[1, 2] * min(err_a, err_b) / calib_scale * 100\n",
    "    display(Markdown.parse(\"## Error for $(name)\"))\n",
    "    display(Markdown.parse(\"**Independent error: $(round(err_ind, digits=2))%**\"))\n",
    "    # display(Markdown.parse(\"**Correlated error: $(round(err_corr, digits=2))%**\"))\n",
    "    display(m)\n",
    "end"
   ]
  },
  {
   "cell_type": "code",
   "execution_count": 7,
   "id": "d2387fef-71bb-429d-87a5-947696c92533",
   "metadata": {},
   "outputs": [
    {
     "data": {
      "text/plain": [
       "init_state (generic function with 1 method)"
      ]
     },
     "execution_count": 7,
     "metadata": {},
     "output_type": "execute_result"
    }
   ],
   "source": [
    "@inline init_state(sw::SysWrapper{Sys} where Sys<:System{2}) =\n",
    "    R2_ratio(sw, 1, 2, 1 / 2) * sw.sys.ψ2s[1]"
   ]
  },
  {
   "cell_type": "code",
   "execution_count": 8,
   "id": "73144186-672e-45f4-a511-3de45b57a81e",
   "metadata": {},
   "outputs": [
    {
     "data": {
      "text/plain": [
       "fid01_12 (generic function with 1 method)"
      ]
     },
     "execution_count": 8,
     "metadata": {},
     "output_type": "execute_result"
    }
   ],
   "source": [
    "function fid01_12(sys::System{2}, εs)\n",
    "    sw = SysWrapper(sys, εs)\n",
    "    ψ = init_state(sw)\n",
    "    ρ = projector(ψ)\n",
    "    ρ = 2 * apply(ρ, sys.proj2s[1, 1]) + apply(ρ, sys.proj2oneof[1])\n",
    "    ρ = apply(ρ, R2_ratio(sw, 1, 2, 1))\n",
    "    ρ = 2 * apply(ρ, sys.proj2s[1, 1]) + apply(ρ, sys.proj2oneof[1])\n",
    "    ρ = apply(ρ, sys.proj2sub2[1, 2])\n",
    "    normalize!(ρ)\n",
    "    P_odd = real(tr(apply(ρ, sys.proj2s[1, 2])) + tr(apply(ρ, sys.proj2s[2, 1]))) / 2\n",
    "    ρ = apply(ρ, R2_ratio(sw, 1, 2, 1 / 2))\n",
    "    c = real(tr(apply(ρ, sys.proj2s[1, 1])) + tr(apply(ρ, sys.proj2s[2, 2]))) / 2\n",
    "    return P_odd + c\n",
    "end"
   ]
  },
  {
   "cell_type": "markdown",
   "id": "e09c6935-7880-4d59-a18b-8c0212d263c5",
   "metadata": {},
   "source": [
    "# $d=2$"
   ]
  },
  {
   "cell_type": "code",
   "execution_count": 9,
   "id": "0531137b-3010-4e0f-954e-f3d095a36ce6",
   "metadata": {},
   "outputs": [
    {
     "data": {
      "text/latex": [
       "\\subsection{Error for 01 -> 12}\n"
      ],
      "text/markdown": [
       "## Error for 01 -> 12\n"
      ],
      "text/plain": [
       "\u001b[1m  Error for 01 -> 12\u001b[22m\n",
       "  \u001b[1m==================\u001b[22m"
      ]
     },
     "metadata": {},
     "output_type": "display_data"
    },
    {
     "data": {
      "text/latex": [
       "\\textbf{Independent error: 5.12\\%}\n",
       "\n"
      ],
      "text/markdown": [
       "**Independent error: 5.12%**\n"
      ],
      "text/plain": [
       "  \u001b[1mIndependent error: 5.12%\u001b[22m"
      ]
     },
     "metadata": {},
     "output_type": "display_data"
    },
    {
     "data": {
      "text/plain": [
       "2×2 Matrix{Float64}:\n",
       " -6.1685  -2.4674\n",
       " -2.4674  -6.1685"
      ]
     },
     "metadata": {},
     "output_type": "display_data"
    }
   ],
   "source": [
    "disp_sys(sys2, fid01_12, \"01 -> 12\")"
   ]
  },
  {
   "cell_type": "code",
   "execution_count": 10,
   "id": "b8f3d97f-9274-4df2-99ca-01fb24292d60",
   "metadata": {},
   "outputs": [
    {
     "data": {
      "text/plain": [
       "init_state (generic function with 2 methods)"
      ]
     },
     "execution_count": 10,
     "metadata": {},
     "output_type": "execute_result"
    }
   ],
   "source": [
    "@inline init_state(sw::SysWrapper{Sys} where Sys<:System{3}) =\n",
    "    R2_ratio(sw, 1, 3, 1 / 2) * R2_ratio(sw, 1, 2, 1 / 3) * sw.sys.ψ2s[1]"
   ]
  },
  {
   "cell_type": "code",
   "execution_count": 11,
   "id": "6b3d0d40-206e-4565-a01c-b850860578e9",
   "metadata": {},
   "outputs": [
    {
     "data": {
      "text/plain": [
       "fid12_20 (generic function with 1 method)"
      ]
     },
     "execution_count": 11,
     "metadata": {},
     "output_type": "execute_result"
    }
   ],
   "source": [
    "function fid01_12(sys::System{3}, εs)\n",
    "    sw = SysWrapper(sys, εs)\n",
    "    ψ = init_state(sw)\n",
    "    ρ = projector(ψ)\n",
    "    ρ = 2 * apply(ρ, sys.proj2s[1, 1]) + apply(ρ, sys.proj2oneof[1])\n",
    "    ρ = apply(ρ, R2_ratio(sw, 1, 2, 1))\n",
    "    ρ = 2 * apply(ρ, sys.proj2s[1, 1]) + apply(ρ, sys.proj2oneof[1])\n",
    "    ρ = apply(ρ, R2_ratio(sw, 1, 3, 1))\n",
    "    ρ = apply(ρ, R2_ratio(sw, 1, 3, 1))\n",
    "    ρ = apply(ρ, sys.proj2sub2[1, 2])\n",
    "    normalize!(ρ)\n",
    "    P_odd = real(tr(apply(ρ, sys.proj2s[1, 2])) + tr(apply(ρ, sys.proj2s[2, 1]))) / 2\n",
    "    ρ = apply(ρ, R2_ratio(sw, 1, 2, 1 / 2))\n",
    "    c = real(tr(apply(ρ, sys.proj2s[1, 1])) + tr(apply(ρ, sys.proj2s[2, 2]))) / 2\n",
    "    return P_odd + c\n",
    "end\n",
    "function fid02_10(sys::System{3}, εs)\n",
    "    sw = SysWrapper(sys, εs)\n",
    "    ψ = init_state(sw)\n",
    "    ρ = projector(ψ)\n",
    "    ρ = 2 * apply(ρ, sys.proj2s[1, 1]) + apply(ρ, sys.proj2oneof[1])\n",
    "    ρ = apply(ρ, R2_ratio(sw, 1, 2, 1))\n",
    "    ρ = apply(ρ, R2_ratio(sw, 1, 3, 1))\n",
    "    ρ = 2 * apply(ρ, sys.proj2s[1, 1]) + apply(ρ, sys.proj2oneof[1])\n",
    "    ρ = apply(ρ, sys.proj2sub2[1, 2])\n",
    "    normalize!(ρ)\n",
    "    P_odd = real(tr(apply(ρ, sys.proj2s[1, 2])) + tr(apply(ρ, sys.proj2s[2, 1]))) / 2\n",
    "    ρ = apply(ρ, R2_ratio(sw, 1, 2, 1 / 2))\n",
    "    c = real(tr(apply(ρ, sys.proj2s[1, 1])) + tr(apply(ρ, sys.proj2s[2, 2]))) / 2\n",
    "    return P_odd + c\n",
    "end\n",
    "function fid12_20(sys::System{3}, εs)\n",
    "    sw = SysWrapper(sys, εs)\n",
    "    ψ = init_state(sw)\n",
    "    ρ = projector(ψ)\n",
    "    ρ = apply(ρ, R2_ratio(sw, 1, 2, 1))\n",
    "    ρ = 2 * apply(ρ, sys.proj2s[1, 1]) + apply(ρ, sys.proj2oneof[1])\n",
    "    ρ = apply(ρ, R2_ratio(sw, 1, 3, 1))\n",
    "    ρ = 2 * apply(ρ, sys.proj2s[1, 1]) + apply(ρ, sys.proj2oneof[1])\n",
    "    normalize!(ρ)\n",
    "    P_odd = real(tr(apply(ρ, sys.proj2s[1, 3])) + tr(apply(ρ, sys.proj2s[3, 1]))) / 2\n",
    "    ρ = apply(ρ, R2_ratio(sw, 1, 3, 1 / 2))\n",
    "    c = real(tr(apply(ρ, sys.proj2s[1, 1])) + tr(apply(ρ, sys.proj2s[3, 3]))) / 2\n",
    "    return P_odd + c\n",
    "end"
   ]
  },
  {
   "cell_type": "markdown",
   "id": "78b55afb-fa1a-49c7-81d0-3a6ae3ef762c",
   "metadata": {},
   "source": [
    "# $d=3$:"
   ]
  },
  {
   "cell_type": "code",
   "execution_count": 12,
   "id": "cb23c7af-ce38-4ac9-a93a-7764f886ea3e",
   "metadata": {},
   "outputs": [
    {
     "data": {
      "text/latex": [
       "\\subsection{Error for 01 -> 12}\n"
      ],
      "text/markdown": [
       "## Error for 01 -> 12\n"
      ],
      "text/plain": [
       "\u001b[1m  Error for 01 -> 12\u001b[22m\n",
       "  \u001b[1m==================\u001b[22m"
      ]
     },
     "metadata": {},
     "output_type": "display_data"
    },
    {
     "data": {
      "text/latex": [
       "\\textbf{Independent error: 5.52\\%}\n",
       "\n"
      ],
      "text/markdown": [
       "**Independent error: 5.52%**\n"
      ],
      "text/plain": [
       "  \u001b[1mIndependent error: 5.52%\u001b[22m"
      ]
     },
     "metadata": {},
     "output_type": "display_data"
    },
    {
     "data": {
      "text/plain": [
       "2×2 Matrix{Float64}:\n",
       " -6.64475  -1.99115\n",
       " -1.99115  -6.64475"
      ]
     },
     "metadata": {},
     "output_type": "display_data"
    },
    {
     "data": {
      "text/latex": [
       "\\subsection{Error for 02 -> 10}\n"
      ],
      "text/markdown": [
       "## Error for 02 -> 10\n"
      ],
      "text/plain": [
       "\u001b[1m  Error for 02 -> 10\u001b[22m\n",
       "  \u001b[1m==================\u001b[22m"
      ]
     },
     "metadata": {},
     "output_type": "display_data"
    },
    {
     "data": {
      "text/latex": [
       "\\textbf{Independent error: 0.51\\%}\n",
       "\n"
      ],
      "text/markdown": [
       "**Independent error: 0.51%**\n"
      ],
      "text/plain": [
       "  \u001b[1mIndependent error: 0.51%\u001b[22m"
      ]
     },
     "metadata": {},
     "output_type": "display_data"
    },
    {
     "data": {
      "text/plain": [
       "2×2 Matrix{Float64}:\n",
       " -0.61685  -0.61685\n",
       " -0.61685  -0.61685"
      ]
     },
     "metadata": {},
     "output_type": "display_data"
    },
    {
     "data": {
      "text/latex": [
       "\\subsection{Error for 12 -> 20}\n"
      ],
      "text/markdown": [
       "## Error for 12 -> 20\n"
      ],
      "text/plain": [
       "\u001b[1m  Error for 12 -> 20\u001b[22m\n",
       "  \u001b[1m==================\u001b[22m"
      ]
     },
     "metadata": {},
     "output_type": "display_data"
    },
    {
     "data": {
      "text/latex": [
       "\\textbf{Independent error: 7.57\\%}\n",
       "\n"
      ],
      "text/markdown": [
       "**Independent error: 7.57%**\n"
      ],
      "text/plain": [
       "  \u001b[1mIndependent error: 7.57%\u001b[22m"
      ]
     },
     "metadata": {},
     "output_type": "display_data"
    },
    {
     "data": {
      "text/plain": [
       "2×2 Matrix{Float64}:\n",
       " -9.11215  -1.99115\n",
       " -1.99115  -9.11215"
      ]
     },
     "metadata": {},
     "output_type": "display_data"
    }
   ],
   "source": [
    "sys3 = System{3}()\n",
    "disp_sys(sys3, fid01_12, \"01 -> 12\")\n",
    "disp_sys(sys3, fid02_10, \"02 -> 10\")\n",
    "disp_sys(sys3, fid12_20, \"12 -> 20\")"
   ]
  },
  {
   "cell_type": "code",
   "execution_count": 13,
   "id": "04b2a22a-3faf-40f0-bd7c-d01fb330212d",
   "metadata": {},
   "outputs": [
    {
     "data": {
      "text/plain": [
       "init_state (generic function with 3 methods)"
      ]
     },
     "execution_count": 13,
     "metadata": {},
     "output_type": "execute_result"
    }
   ],
   "source": [
    "@inline init_state(sw::SysWrapper{Sys} where Sys<:System{4}) =\n",
    "    R2_ratio(sw, 1, 4, 1 / 2) * R2_ratio(sw, 1, 3, 1 / 3) * R2_ratio(sw, 1, 2, 1 / 4) * sw.sys.ψ2s[1]"
   ]
  },
  {
   "cell_type": "code",
   "execution_count": 14,
   "id": "cbea4ec9-73df-48af-9b2b-7f37b8a56fbe",
   "metadata": {},
   "outputs": [
    {
     "data": {
      "text/plain": [
       "fid23_30 (generic function with 1 method)"
      ]
     },
     "execution_count": 14,
     "metadata": {},
     "output_type": "execute_result"
    }
   ],
   "source": [
    "function fid01_12(sys::System{4}, εs)\n",
    "    sw = SysWrapper(sys, εs)\n",
    "    ψ = init_state(sw)\n",
    "    ρ = projector(ψ)\n",
    "    ρ = 2 * apply(ρ, sys.proj2s[1, 1]) + apply(ρ, sys.proj2oneof[1])\n",
    "    ρ = apply(ρ, R2_ratio(sw, 1, 2, 1))\n",
    "    ρ = 2 * apply(ρ, sys.proj2s[1, 1]) + apply(ρ, sys.proj2oneof[1])\n",
    "    ρ = apply(ρ, R2_ratio(sw, 1, 3, 1))\n",
    "    ρ = apply(ρ, R2_ratio(sw, 1, 4, 1))\n",
    "    #\n",
    "    ρ = apply(ρ, R2_ratio(sw, 1, 3, 1))\n",
    "    ρ = apply(ρ, sys.proj2sub2[1, 2])\n",
    "    normalize!(ρ)\n",
    "    P_odd = real(tr(apply(ρ, sys.proj2s[1, 2])) + tr(apply(ρ, sys.proj2s[2, 1]))) / 2\n",
    "    ρ = apply(ρ, R2_ratio(sw, 1, 2, 1 / 2))\n",
    "    c = real(tr(apply(ρ, sys.proj2s[1, 1])) + tr(apply(ρ, sys.proj2s[2, 2]))) / 2\n",
    "    return P_odd + c\n",
    "end\n",
    "function fid02_13(sys::System{4}, εs)\n",
    "    sw = SysWrapper(sys, εs)\n",
    "    ψ = init_state(sw)\n",
    "    ρ = projector(ψ)\n",
    "    ρ = 2 * apply(ρ, sys.proj2s[1, 1]) + apply(ρ, sys.proj2oneof[1])\n",
    "    ρ = apply(ρ, R2_ratio(sw, 1, 2, 1))\n",
    "    ρ = apply(ρ, R2_ratio(sw, 1, 3, 1))\n",
    "    ρ = 2 * apply(ρ, sys.proj2s[1, 1]) + apply(ρ, sys.proj2oneof[1])\n",
    "    ρ = apply(ρ, R2_ratio(sw, 1, 4, 1))\n",
    "    #\n",
    "    ρ = apply(ρ, R2_ratio(sw, 1, 4, 1))\n",
    "    ρ = apply(ρ, sys.proj2sub2[1, 2])\n",
    "    normalize!(ρ)\n",
    "    P_odd = real(tr(apply(ρ, sys.proj2s[1, 2])) + tr(apply(ρ, sys.proj2s[2, 1]))) / 2\n",
    "    ρ = apply(ρ, R2_ratio(sw, 1, 2, 1 / 2))\n",
    "    c = real(tr(apply(ρ, sys.proj2s[1, 1])) + tr(apply(ρ, sys.proj2s[2, 2]))) / 2\n",
    "    return P_odd + c\n",
    "end\n",
    "function fid03_10(sys::System{4}, εs)\n",
    "    sw = SysWrapper(sys, εs)\n",
    "    ψ = init_state(sw)\n",
    "    ρ = projector(ψ)\n",
    "    ρ = 2 * apply(ρ, sys.proj2s[1, 1]) + apply(ρ, sys.proj2oneof[1])\n",
    "    ρ = apply(ρ, R2_ratio(sw, 1, 2, 1))\n",
    "    ρ = apply(ρ, R2_ratio(sw, 1, 3, 1))\n",
    "    ρ = apply(ρ, R2_ratio(sw, 1, 4, 1))\n",
    "    ρ = 2 * apply(ρ, sys.proj2s[1, 1]) + apply(ρ, sys.proj2oneof[1])\n",
    "    #\n",
    "    ρ = apply(ρ, sys.proj2sub2[1, 2])\n",
    "    normalize!(ρ)\n",
    "    P_odd = real(tr(apply(ρ, sys.proj2s[1, 2])) + tr(apply(ρ, sys.proj2s[2, 1]))) / 2\n",
    "    ρ = apply(ρ, R2_ratio(sw, 1, 2, 1 / 2))\n",
    "    c = real(tr(apply(ρ, sys.proj2s[1, 1])) + tr(apply(ρ, sys.proj2s[2, 2]))) / 2\n",
    "    return P_odd + c\n",
    "end\n",
    "function fid12_23(sys::System{4}, εs)\n",
    "    sw = SysWrapper(sys, εs)\n",
    "    ψ = init_state(sw)\n",
    "    ρ = projector(ψ)\n",
    "    ρ = apply(ρ, R2_ratio(sw, 1, 2, 1))\n",
    "    ρ = 2 * apply(ρ, sys.proj2s[1, 1]) + apply(ρ, sys.proj2oneof[1])\n",
    "    ρ = apply(ρ, R2_ratio(sw, 1, 3, 1))\n",
    "    ρ = 2 * apply(ρ, sys.proj2s[1, 1]) + apply(ρ, sys.proj2oneof[1])\n",
    "    ρ = apply(ρ, R2_ratio(sw, 1, 4, 1))\n",
    "    #\n",
    "    ρ = apply(ρ, R2_ratio(sw, 1, 4, 1))\n",
    "    ρ = apply(ρ, sys.proj2sub2[1, 3])\n",
    "    normalize!(ρ)\n",
    "    P_odd = real(tr(apply(ρ, sys.proj2s[1, 3])) + tr(apply(ρ, sys.proj2s[3, 1]))) / 2\n",
    "    ρ = apply(ρ, R2_ratio(sw, 1, 3, 1 / 2))\n",
    "    c = real(tr(apply(ρ, sys.proj2s[1, 1])) + tr(apply(ρ, sys.proj2s[3, 3]))) / 2\n",
    "    return P_odd + c\n",
    "end\n",
    "function fid13_20(sys::System{4}, εs)\n",
    "    sw = SysWrapper(sys, εs)\n",
    "    ψ = init_state(sw)\n",
    "    ρ = projector(ψ)\n",
    "    ρ = apply(ρ, R2_ratio(sw, 1, 2, 1))\n",
    "    ρ = 2 * apply(ρ, sys.proj2s[1, 1]) + apply(ρ, sys.proj2oneof[1])\n",
    "    ρ = apply(ρ, R2_ratio(sw, 1, 3, 1))\n",
    "    ρ = apply(ρ, R2_ratio(sw, 1, 4, 1))\n",
    "    ρ = 2 * apply(ρ, sys.proj2s[1, 1]) + apply(ρ, sys.proj2oneof[1])\n",
    "    #\n",
    "    ρ = apply(ρ, sys.proj2sub2[1, 3])\n",
    "    normalize!(ρ)\n",
    "    P_odd = real(tr(apply(ρ, sys.proj2s[1, 3])) + tr(apply(ρ, sys.proj2s[3, 1]))) / 2\n",
    "    ρ = apply(ρ, R2_ratio(sw, 1, 3, 1 / 2))\n",
    "    c = real(tr(apply(ρ, sys.proj2s[1, 1])) + tr(apply(ρ, sys.proj2s[3, 3]))) / 2\n",
    "    return P_odd + c\n",
    "end\n",
    "function fid23_30(sys::System{4}, εs)\n",
    "    sw = SysWrapper(sys, εs)\n",
    "    ψ = init_state(sw)\n",
    "    ρ = projector(ψ)\n",
    "    ρ = apply(ρ, R2_ratio(sw, 1, 2, 1))\n",
    "    ρ = apply(ρ, R2_ratio(sw, 1, 3, 1))\n",
    "    ρ = 2 * apply(ρ, sys.proj2s[1, 1]) + apply(ρ, sys.proj2oneof[1])\n",
    "    ρ = apply(ρ, R2_ratio(sw, 1, 4, 1))\n",
    "    ρ = 2 * apply(ρ, sys.proj2s[1, 1]) + apply(ρ, sys.proj2oneof[1])\n",
    "    #\n",
    "    ρ = apply(ρ, sys.proj2sub2[1, 4])\n",
    "    normalize!(ρ)\n",
    "    P_odd = real(tr(apply(ρ, sys.proj2s[1, 4])) + tr(apply(ρ, sys.proj2s[4, 1]))) / 2\n",
    "    ρ = apply(ρ, R2_ratio(sw, 1, 4, 1 / 2))\n",
    "    c = real(tr(apply(ρ, sys.proj2s[1, 1])) + tr(apply(ρ, sys.proj2s[4, 4]))) / 2\n",
    "    return P_odd + c\n",
    "end"
   ]
  },
  {
   "cell_type": "markdown",
   "id": "8d913e60-c09b-408e-a107-4ecc83d2f913",
   "metadata": {},
   "source": [
    "# $d=4$:"
   ]
  },
  {
   "cell_type": "code",
   "execution_count": 15,
   "id": "0270ee60-1952-439d-a07c-b24c20953315",
   "metadata": {},
   "outputs": [
    {
     "data": {
      "text/latex": [
       "\\subsection{Error for 01 -> 12}\n"
      ],
      "text/markdown": [
       "## Error for 01 -> 12\n"
      ],
      "text/plain": [
       "\u001b[1m  Error for 01 -> 12\u001b[22m\n",
       "  \u001b[1m==================\u001b[22m"
      ]
     },
     "metadata": {},
     "output_type": "display_data"
    },
    {
     "data": {
      "text/latex": [
       "\\textbf{Independent error: 5.84\\%}\n",
       "\n"
      ],
      "text/markdown": [
       "**Independent error: 5.84%**\n"
      ],
      "text/plain": [
       "  \u001b[1mIndependent error: 5.84%\u001b[22m"
      ]
     },
     "metadata": {},
     "output_type": "display_data"
    },
    {
     "data": {
      "text/plain": [
       "2×2 Matrix{Float64}:\n",
       " -7.02764  -1.60826\n",
       " -1.60826  -7.02764"
      ]
     },
     "metadata": {},
     "output_type": "display_data"
    },
    {
     "data": {
      "text/latex": [
       "\\subsection{Error for 02 -> 13}\n"
      ],
      "text/markdown": [
       "## Error for 02 -> 13\n"
      ],
      "text/plain": [
       "\u001b[1m  Error for 02 -> 13\u001b[22m\n",
       "  \u001b[1m==================\u001b[22m"
      ]
     },
     "metadata": {},
     "output_type": "display_data"
    },
    {
     "data": {
      "text/latex": [
       "\\textbf{Independent error: 0.57\\%}\n",
       "\n"
      ],
      "text/markdown": [
       "**Independent error: 0.57%**\n"
      ],
      "text/plain": [
       "  \u001b[1mIndependent error: 0.57%\u001b[22m"
      ]
     },
     "metadata": {},
     "output_type": "display_data"
    },
    {
     "data": {
      "text/plain": [
       "2×2 Matrix{Float64}:\n",
       " -0.68451  -0.54919\n",
       " -0.54919  -0.68451"
      ]
     },
     "metadata": {},
     "output_type": "display_data"
    },
    {
     "data": {
      "text/latex": [
       "\\subsection{Error for 03 -> 10}\n"
      ],
      "text/markdown": [
       "## Error for 03 -> 10\n"
      ],
      "text/plain": [
       "\u001b[1m  Error for 03 -> 10\u001b[22m\n",
       "  \u001b[1m==================\u001b[22m"
      ]
     },
     "metadata": {},
     "output_type": "display_data"
    },
    {
     "data": {
      "text/latex": [
       "\\textbf{Independent error: 0.51\\%}\n",
       "\n"
      ],
      "text/markdown": [
       "**Independent error: 0.51%**\n"
      ],
      "text/plain": [
       "  \u001b[1mIndependent error: 0.51%\u001b[22m"
      ]
     },
     "metadata": {},
     "output_type": "display_data"
    },
    {
     "data": {
      "text/plain": [
       "2×2 Matrix{Float64}:\n",
       " -0.61685  -0.61685\n",
       " -0.61685  -0.61685"
      ]
     },
     "metadata": {},
     "output_type": "display_data"
    },
    {
     "data": {
      "text/latex": [
       "\\subsection{Error for 12 -> 23}\n"
      ],
      "text/markdown": [
       "## Error for 12 -> 23\n"
      ],
      "text/plain": [
       "\u001b[1m  Error for 12 -> 23\u001b[22m\n",
       "  \u001b[1m==================\u001b[22m"
      ]
     },
     "metadata": {},
     "output_type": "display_data"
    },
    {
     "data": {
      "text/latex": [
       "\\textbf{Independent error: 5.37\\%}\n",
       "\n"
      ],
      "text/markdown": [
       "**Independent error: 5.37%**\n"
      ],
      "text/plain": [
       "  \u001b[1mIndependent error: 5.37%\u001b[22m"
      ]
     },
     "metadata": {},
     "output_type": "display_data"
    },
    {
     "data": {
      "text/plain": [
       "2×2 Matrix{Float64}:\n",
       " -6.46327  -2.17263\n",
       " -2.17263  -6.46327"
      ]
     },
     "metadata": {},
     "output_type": "display_data"
    },
    {
     "data": {
      "text/latex": [
       "\\subsection{Error for 13 -> 20}\n"
      ],
      "text/markdown": [
       "## Error for 13 -> 20\n"
      ],
      "text/plain": [
       "\u001b[1m  Error for 13 -> 20\u001b[22m\n",
       "  \u001b[1m==================\u001b[22m"
      ]
     },
     "metadata": {},
     "output_type": "display_data"
    },
    {
     "data": {
      "text/latex": [
       "\\textbf{Independent error: 3.84\\%}\n",
       "\n"
      ],
      "text/markdown": [
       "**Independent error: 3.84%**\n"
      ],
      "text/plain": [
       "  \u001b[1mIndependent error: 3.84%\u001b[22m"
      ]
     },
     "metadata": {},
     "output_type": "display_data"
    },
    {
     "data": {
      "text/plain": [
       "2×2 Matrix{Float64}:\n",
       " -4.61806   3.38436\n",
       "  3.38436  -4.61806"
      ]
     },
     "metadata": {},
     "output_type": "display_data"
    },
    {
     "data": {
      "text/latex": [
       "\\subsection{Error for 23 -> 30}\n"
      ],
      "text/markdown": [
       "## Error for 23 -> 30\n"
      ],
      "text/plain": [
       "\u001b[1m  Error for 23 -> 30\u001b[22m\n",
       "  \u001b[1m==================\u001b[22m"
      ]
     },
     "metadata": {},
     "output_type": "display_data"
    },
    {
     "data": {
      "text/latex": [
       "\\textbf{Independent error: 4.84\\%}\n",
       "\n"
      ],
      "text/markdown": [
       "**Independent error: 4.84%**\n"
      ],
      "text/plain": [
       "  \u001b[1mIndependent error: 4.84%\u001b[22m"
      ]
     },
     "metadata": {},
     "output_type": "display_data"
    },
    {
     "data": {
      "text/plain": [
       "2×2 Matrix{Float64}:\n",
       " -5.82757  -2.80833\n",
       " -2.80833  -5.82757"
      ]
     },
     "metadata": {},
     "output_type": "display_data"
    }
   ],
   "source": [
    "sys4 = System{4}()\n",
    "disp_sys(sys4, fid01_12, \"01 -> 12\")\n",
    "disp_sys(sys4, fid02_13, \"02 -> 13\")\n",
    "disp_sys(sys4, fid03_10, \"03 -> 10\")\n",
    "disp_sys(sys4, fid12_23, \"12 -> 23\")\n",
    "disp_sys(sys4, fid13_20, \"13 -> 20\")\n",
    "disp_sys(sys4, fid23_30, \"23 -> 30\")"
   ]
  }
 ],
 "metadata": {
  "kernelspec": {
   "display_name": "Julia 1.12.0-DEV",
   "language": "julia",
   "name": "julia-1.12"
  },
  "language_info": {
   "file_extension": ".jl",
   "mimetype": "application/julia",
   "name": "julia",
   "version": "1.12.0"
  }
 },
 "nbformat": 4,
 "nbformat_minor": 5
}
