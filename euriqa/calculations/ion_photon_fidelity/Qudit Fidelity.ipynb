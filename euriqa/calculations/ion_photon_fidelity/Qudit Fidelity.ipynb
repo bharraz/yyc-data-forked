{
 "cells": [
  {
   "cell_type": "code",
   "execution_count": 1,
   "id": "b790400b-e259-48fb-8a64-9c4e662711bd",
   "metadata": {},
   "outputs": [],
   "source": [
    "using ForwardDiff\n",
    "using QuantumOptics\n",
    "using LinearAlgebra"
   ]
  },
  {
   "cell_type": "code",
   "execution_count": 2,
   "id": "6ac06020-4a7a-4b8b-aee0-a29252531dc5",
   "metadata": {},
   "outputs": [
    {
     "data": {
      "text/plain": [
       "R2_ratio (generic function with 1 method)"
      ]
     },
     "execution_count": 2,
     "metadata": {},
     "output_type": "execute_result"
    }
   ],
   "source": [
    "struct System{N,S1,S2,P1,P2}\n",
    "    basis1::NLevelBasis{Int}\n",
    "    ψ1s::Vector{S1}\n",
    "    ψ2s::Vector{S2}\n",
    "    proj1s::Vector{P1}\n",
    "    proj1comps::Vector{P1}\n",
    "    proj2s::Matrix{P2}\n",
    "    proj2sub2::Matrix{P2}\n",
    "    proj2oneof::Vector{P2}\n",
    "    function System{N}() where N\n",
    "        basis1 = NLevelBasis(N)\n",
    "        ψ1s = [nlevelstate(basis1, i) for i in 1:N]\n",
    "        S1 = eltype(ψ1s)\n",
    "        ψ2s = [ψ1 ⊗ ψ1 for ψ1 in ψ1s]\n",
    "        S2 = eltype(ψ2s)\n",
    "        proj1s = [projector(ψ1) for ψ1 in ψ1s]\n",
    "        P1 = eltype(proj1s)\n",
    "        proj1full = sum(proj1s)\n",
    "        proj1comps = [proj1full - proj for proj in proj1s]\n",
    "        proj2s = [proj1 ⊗ proj2 for proj1 in proj1s, proj2 in proj1s]\n",
    "        P2 = eltype(proj2s)\n",
    "        proj2sub2 = [proj2s[i, i] + proj2s[i, j] + proj2s[j, i] + proj2s[j, j]\n",
    "                     for i in 1:N, j in 1:N]\n",
    "        proj2oneof = [proj1s[i] ⊗ proj1comps[i] + proj1comps[i] ⊗ proj1s[i] for i in 1:N]\n",
    "        return new{N,S1,S2,P1,P2}(basis1, ψ1s, ψ2s, proj1s, proj1comps,\n",
    "                                  proj2s, proj2sub2, proj2oneof)\n",
    "    end\n",
    "end\n",
    "\n",
    "@inline function Rele(ia, ib, i, j, θ)\n",
    "    if (i == ia && j == ia) || (i == ib && j == ib)\n",
    "        return complex(cos(θ / 2))\n",
    "    elseif (i == ia && j == ib) || (i == ib && j == ia)\n",
    "        return complex(0, -sin(θ / 2))\n",
    "    elseif i == j\n",
    "        return complex(one(θ))\n",
    "    else\n",
    "        return complex(zero(θ))\n",
    "    end\n",
    "end\n",
    "\n",
    "function R(sys::System{N}, ia, ib, θ) where N\n",
    "    return Operator(sys.basis1, [Rele(ia, ib, i, j, θ) for i in 1:N, j in 1:N])\n",
    "end\n",
    "R2(sys::System, ia, ib, θa, θb) = R(sys, ia, ib, θa) ⊗ R(sys, ia, ib, θb)\n",
    "\n",
    "function ratio_angle(r, ε=0)\n",
    "    return 2 * asin(sqrt(r)) * (1 + ε)\n",
    "end\n",
    "R2_ratio(sys::System, ia, ib, r, εa, εb) =\n",
    "    R2(sys, ia, ib, ratio_angle(r, εa), ratio_angle(r, εb))"
   ]
  },
  {
   "cell_type": "code",
   "execution_count": 3,
   "id": "a62e59d0-1198-44bb-aa4c-eec9cd00824e",
   "metadata": {},
   "outputs": [
    {
     "data": {
      "text/plain": [
       "fid_π (generic function with 1 method)"
      ]
     },
     "execution_count": 3,
     "metadata": {},
     "output_type": "execute_result"
    }
   ],
   "source": [
    "const sys2 = System{2}()\n",
    "function fid_π(εs)\n",
    "    εa, εb = εs\n",
    "    ψ = R2_ratio(sys2, 1, 2, 1, εa, εb) * sys2.ψ2s[1]\n",
    "    return norm(sys2.proj2s[2, 2] * ψ)^2\n",
    "end"
   ]
  },
  {
   "cell_type": "code",
   "execution_count": 4,
   "id": "906eb67e-c0db-440e-a9da-e1d08a54fa92",
   "metadata": {},
   "outputs": [
    {
     "data": {
      "text/plain": [
       "1.0"
      ]
     },
     "metadata": {},
     "output_type": "display_data"
    },
    {
     "data": {
      "text/plain": [
       "2×2 Matrix{Float64}:\n",
       " -4.9348        3.70051e-32\n",
       "  3.70051e-32  -4.9348"
      ]
     },
     "metadata": {},
     "output_type": "display_data"
    }
   ],
   "source": [
    "display(fid_π([0, 0]))\n",
    "display(ForwardDiff.hessian(fid_π, [0.0, 0.0]))"
   ]
  },
  {
   "cell_type": "code",
   "execution_count": 5,
   "id": "b8f3d97f-9274-4df2-99ca-01fb24292d60",
   "metadata": {},
   "outputs": [
    {
     "data": {
      "text/plain": [
       "init_state (generic function with 1 method)"
      ]
     },
     "execution_count": 5,
     "metadata": {},
     "output_type": "execute_result"
    }
   ],
   "source": [
    "init_state(sys::System{3}, εa, εb) =\n",
    "    R2_ratio(sys, 1, 3, 1/2, εa, εb) * R2_ratio(sys, 1, 2, 1/3, εa, εb) * sys.ψ2s[1]"
   ]
  },
  {
   "cell_type": "code",
   "execution_count": 6,
   "id": "6b3d0d40-206e-4565-a01c-b850860578e9",
   "metadata": {},
   "outputs": [
    {
     "data": {
      "text/plain": [
       "fid12_20 (generic function with 1 method)"
      ]
     },
     "execution_count": 6,
     "metadata": {},
     "output_type": "execute_result"
    }
   ],
   "source": [
    "function fid01_12(sys::System{3}, εs)\n",
    "    proj0 = sqrt(2) * sys.proj2s[1, 1] + sys.proj2oneof[1]\n",
    "    εa, εb = εs\n",
    "    ψ = init_state(sys, εa, εb)\n",
    "    ψ = proj0 * ψ\n",
    "    ψ = R2_ratio(sys, 1, 2, 1, εa, εb) * ψ\n",
    "    ψ = proj0 * ψ\n",
    "    ψ = R2_ratio(sys, 1, 3, 1, εa, εb) * ψ\n",
    "    ψ = R2_ratio(sys, 1, 3, 1, εa, εb) * ψ\n",
    "    ψ = sys.proj2sub2[1, 2] * ψ\n",
    "    normalize!(ψ)\n",
    "    P_odd = (norm(sys.proj2s[1, 2] * ψ)^2 + norm(sys.proj2s[2, 1] * ψ)^2) / 2\n",
    "    ψ = R2_ratio(sys, 1, 2, 1 / 2, εa, εb) * ψ\n",
    "    c = (norm(sys.proj2s[1, 1] * ψ)^2 + norm(sys.proj2s[2, 2] * ψ)^2) / 2\n",
    "    return P_odd + c\n",
    "end\n",
    "function fid02_10(sys::System{3}, εs)\n",
    "    proj0 = sqrt(2) * sys.proj2s[1, 1] + sys.proj2oneof[1]\n",
    "    εa, εb = εs\n",
    "    ψ = init_state(sys, εa, εb)\n",
    "    ψ = proj0 * ψ\n",
    "    ψ = R2_ratio(sys, 1, 2, 1, εa, εb) * ψ\n",
    "    ψ = R2_ratio(sys, 1, 3, 1, εa, εb) * ψ\n",
    "    ψ = proj0 * ψ\n",
    "    ψ = sys.proj2sub2[1, 2] * ψ\n",
    "    normalize!(ψ)\n",
    "    P_odd = (norm(sys.proj2s[1, 2] * ψ)^2 + norm(sys.proj2s[2, 1] * ψ)^2) / 2\n",
    "    ψ = R2_ratio(sys, 1, 2, 1 / 2, εa, εb) * ψ\n",
    "    c = (norm(sys.proj2s[1, 1] * ψ)^2 + norm(sys.proj2s[2, 2] * ψ)^2) / 2\n",
    "    return P_odd + c\n",
    "end\n",
    "function fid12_20(sys::System{3}, εs)\n",
    "    proj0 = sqrt(2) * sys.proj2s[1, 1] + sys.proj2oneof[1]\n",
    "    εa, εb = εs\n",
    "    ψ = init_state(sys, εa, εb)\n",
    "    ψ = R2_ratio(sys, 1, 2, 1, εa, εb) * ψ\n",
    "    ψ = proj0 * ψ\n",
    "    ψ = R2_ratio(sys, 1, 3, 1, εa, εb) * ψ\n",
    "    ψ = proj0 * ψ\n",
    "    ψ = sys.proj2sub2[1, 3] * ψ\n",
    "    normalize!(ψ)\n",
    "    P_odd = (norm(sys.proj2s[1, 3] * ψ)^2 + norm(sys.proj2s[3, 1] * ψ)^2) / 2\n",
    "    ψ = R2_ratio(sys, 1, 3, 1 / 2, εa, εb) * ψ\n",
    "    c = (norm(sys.proj2s[1, 1] * ψ)^2 + norm(sys.proj2s[3, 3] * ψ)^2) / 2\n",
    "    return P_odd + c\n",
    "end"
   ]
  },
  {
   "cell_type": "code",
   "execution_count": 8,
   "id": "cb23c7af-ce38-4ac9-a93a-7764f886ea3e",
   "metadata": {},
   "outputs": [
    {
     "data": {
      "text/plain": [
       "1.0"
      ]
     },
     "metadata": {},
     "output_type": "display_data"
    },
    {
     "data": {
      "text/plain": [
       "2×2 Matrix{Float64}:\n",
       " -7.22258   2.07611\n",
       "  2.07611  -7.22258"
      ]
     },
     "metadata": {},
     "output_type": "display_data"
    },
    {
     "data": {
      "text/plain": [
       "0.9999999999999998"
      ]
     },
     "metadata": {},
     "output_type": "display_data"
    },
    {
     "data": {
      "text/plain": [
       "2×2 Matrix{Float64}:\n",
       " -0.61685  -0.61685\n",
       " -0.61685  -0.61685"
      ]
     },
     "metadata": {},
     "output_type": "display_data"
    },
    {
     "data": {
      "text/plain": [
       "0.9999999999999998"
      ]
     },
     "metadata": {},
     "output_type": "display_data"
    },
    {
     "data": {
      "text/plain": [
       "2×2 Matrix{Float64}:\n",
       " -10.712     -1.41332\n",
       "  -1.41332  -10.712"
      ]
     },
     "metadata": {},
     "output_type": "display_data"
    }
   ],
   "source": [
    "sys3 = System{3}()\n",
    "display(fid01_12(sys3, [0, 0]))\n",
    "display(ForwardDiff.hessian((x)->fid01_12(sys3, x), [0.0, 0.0]))\n",
    "display(fid02_10(sys3, [0, 0]))\n",
    "display(ForwardDiff.hessian((x)->fid02_10(sys3, x), [0.0, 0.0]))\n",
    "display(fid12_20(sys3, [0, 0]))\n",
    "display(ForwardDiff.hessian((x)->fid12_20(sys3, x), [0.0, 0.0]))"
   ]
  }
 ],
 "metadata": {
  "kernelspec": {
   "display_name": "Julia 1.12.0-DEV",
   "language": "julia",
   "name": "julia-1.12"
  },
  "language_info": {
   "file_extension": ".jl",
   "mimetype": "application/julia",
   "name": "julia",
   "version": "1.12.0"
  }
 },
 "nbformat": 4,
 "nbformat_minor": 5
}
