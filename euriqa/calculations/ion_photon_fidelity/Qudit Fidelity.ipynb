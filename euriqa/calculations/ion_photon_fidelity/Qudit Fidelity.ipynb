{
 "cells": [
  {
   "cell_type": "code",
   "execution_count": 1,
   "id": "b790400b-e259-48fb-8a64-9c4e662711bd",
   "metadata": {},
   "outputs": [],
   "source": [
    "include(\"fid_utils.jl\");"
   ]
  },
  {
   "cell_type": "markdown",
   "id": "cd7cf6c5-c3cb-44e5-b206-8aa70d76b7b5",
   "metadata": {},
   "source": [
    "# Calibration:\n",
    "First calculate how much population error is introduced by rotation angle error when driving a $\\pi$ pulse. We'll use this to convert $\\pi$ pulse population error into variance of rotation angle."
   ]
  },
  {
   "cell_type": "code",
   "execution_count": 2,
   "id": "a62e59d0-1198-44bb-aa4c-eec9cd00824e",
   "metadata": {},
   "outputs": [
    {
     "data": {
      "text/plain": [
       "1.0"
      ]
     },
     "metadata": {},
     "output_type": "display_data"
    },
    {
     "data": {
      "text/plain": [
       "2×2 Matrix{Float64}:\n",
       " -4.9348        3.70051e-32\n",
       "  3.70051e-32  -4.9348"
      ]
     },
     "metadata": {},
     "output_type": "display_data"
    }
   ],
   "source": [
    "function fid_π(εs)\n",
    "    sw = SysWrapper(sys2, εs)\n",
    "    ψ = R2_ratio(sw, 1, 2, 1) * sys2.ψ2s[1]\n",
    "    return norm(sys2.proj2s[2, 2] * ψ)^2\n",
    "end\n",
    "display(fid_π([0, 0]))\n",
    "m_π = ForwardDiff.hessian(fid_π, [0.0, 0.0])\n",
    "display(m_π)\n",
    "calib_scale = m_π[1, 1];"
   ]
  },
  {
   "cell_type": "markdown",
   "id": "ff68ca8d-06a5-42a7-b972-7edf211bda31",
   "metadata": {},
   "source": [
    "## $\\pi$ pulse calibration\n",
    "The $\\pi$ pulse population infidelity for the two chambers are measured to be $0.5%$ and $1%$."
   ]
  },
  {
   "cell_type": "code",
   "execution_count": 3,
   "id": "f91ded23-eeb1-4a4e-a2a8-a4021d651b3d",
   "metadata": {},
   "outputs": [],
   "source": [
    "err_a::Float64 = 0.5e-2;\n",
    "err_b::Float64 = 3.6e-2;"
   ]
  },
  {
   "cell_type": "code",
   "execution_count": 4,
   "id": "cb57c9d8-c612-4ded-adce-a2cc1b36c648",
   "metadata": {},
   "outputs": [
    {
     "data": {
      "text/plain": [
       "disp_sys (generic function with 1 method)"
      ]
     },
     "execution_count": 4,
     "metadata": {},
     "output_type": "execute_result"
    }
   ],
   "source": [
    "function disp_sys(sys, cb, name)\n",
    "    @assert all(cb(sys, [0, 0]) .≈ (1, 1))\n",
    "    mp = ForwardDiff.hessian((x)->cb(sys, x)[1], [0.0, 0.0])\n",
    "    mc = ForwardDiff.hessian((x)->cb(sys, x)[2], [0.0, 0.0])\n",
    "    err_p = mp[1, 1] * (err_a + err_b) / calib_scale * 100\n",
    "    err_c = mc[1, 1] * (err_a + err_b) / calib_scale * 100\n",
    "    display(Markdown.parse(\"## Error for $(name)\"))\n",
    "    display(Markdown.parse(\"**Population: $(round(err_p, digits=2))%**\"))\n",
    "    display(Markdown.parse(\"**Parity: $(round(err_c, digits=2))%**\"))\n",
    "    display(Markdown.parse(\"**Total: $(round((err_p + err_c) / 2, digits=2))%**\"))\n",
    "    display(mp)\n",
    "    display(mc)\n",
    "    display((mp .+ mc) ./ 2)\n",
    "    return\n",
    "end"
   ]
  },
  {
   "cell_type": "code",
   "execution_count": 5,
   "id": "416d2a35-f869-4ad6-b495-b40795f1a1f1",
   "metadata": {},
   "outputs": [
    {
     "data": {
      "text/plain": [
       "detect_fail (generic function with 1 method)"
      ]
     },
     "execution_count": 5,
     "metadata": {},
     "output_type": "execute_result"
    }
   ],
   "source": [
    "struct EmitWrapper{Sys,Ta,Tb,P}\n",
    "    sys::Sys\n",
    "    pa::Ta\n",
    "    pb::Tb\n",
    "    projs::Vector{P}\n",
    "end\n",
    "function EmitWrapper(sys, pa, pb)\n",
    "    proja1 = sys.proj1s[1] * sqrt(pa)\n",
    "    proja0 = sys.proj1s[1] * sqrt(1 - pa) + sys.proj1comps[1]\n",
    "    projb1 = sys.proj1s[1] * sqrt(pb)\n",
    "    projb0 = sys.proj1s[1] * sqrt(1 - pb) + sys.proj1comps[1]\n",
    "    projs = [proja0 ⊗ projb0, proja1 ⊗ projb0 + proja0 ⊗ projb1, proja1 ⊗ projb1]\n",
    "    return EmitWrapper(sys, pa, pb, projs)\n",
    "end\n",
    "function detect_success(ρ, ew::EmitWrapper)\n",
    "    return 2 * apply(ρ, ew.projs[3]) + apply(ρ, ew.projs[2])\n",
    "end\n",
    "function detect_fail(ρ, ew::EmitWrapper)\n",
    "    return apply(ρ, ew.projs[3]) + apply(ρ, ew.projs[2]) + apply(ρ, ew.projs[1])\n",
    "end"
   ]
  },
  {
   "cell_type": "code",
   "execution_count": 6,
   "id": "1e9943b8-8ebd-43b8-8eb0-2ceac8745a6b",
   "metadata": {},
   "outputs": [],
   "source": [
    "pa::Float64 = 0.7;\n",
    "pb::Float64 = 0.7;"
   ]
  },
  {
   "cell_type": "code",
   "execution_count": 7,
   "id": "73144186-672e-45f4-a511-3de45b57a81e",
   "metadata": {},
   "outputs": [
    {
     "data": {
      "text/plain": [
       "fid01_10 (generic function with 1 method)"
      ]
     },
     "execution_count": 7,
     "metadata": {},
     "output_type": "execute_result"
    }
   ],
   "source": [
    "function init_state(sw::SysWrapper{Sys} where Sys<:System{2}, ew::EmitWrapper, success)\n",
    "    ψ = R2_ratio(sw, 1, 2, 1 / 2) * sw.sys.ψ2s[1]\n",
    "    ρ = projector(ψ)\n",
    "    ρ = 1 in success ? detect_success(ρ, ew) : detect_fail(ρ, ew)\n",
    "    ρ = apply(ρ, R2_ratio(sw, 1, 2, 1))\n",
    "    return 2 in success ? detect_success(ρ, ew) : detect_fail(ρ, ew)\n",
    "end\n",
    "\n",
    "function fid01_10(sys::System{2}, εs)\n",
    "    sw = SysWrapper(sys, εs)\n",
    "    ew = EmitWrapper(sys, pa, pb)\n",
    "    ρ = init_state(sw, ew, (1, 2))\n",
    "    # 01 -> 10\n",
    "    ρ = apply(ρ, sys.proj2sub2[1, 2])\n",
    "    normalize!(ρ)\n",
    "    P_odd = real(tr(apply(ρ, sys.proj2s[1, 2])) + tr(apply(ρ, sys.proj2s[2, 1])))\n",
    "    ρ = apply(ρ, R2_ratio(sw, 1, 2, 1 / 2))\n",
    "    c = real(tr(apply(ρ, sys.proj2s[1, 1])) + tr(apply(ρ, sys.proj2s[2, 2])))\n",
    "    return P_odd, c\n",
    "end"
   ]
  },
  {
   "cell_type": "markdown",
   "id": "e09c6935-7880-4d59-a18b-8c0212d263c5",
   "metadata": {},
   "source": [
    "# $d=2$"
   ]
  },
  {
   "cell_type": "code",
   "execution_count": 8,
   "id": "0531137b-3010-4e0f-954e-f3d095a36ce6",
   "metadata": {},
   "outputs": [
    {
     "data": {
      "text/latex": [
       "\\section{Excitation probability \\textbf{\\$p=0.7\\$}}\n"
      ],
      "text/markdown": [
       "# Excitation probability **$p=0.7$**\n"
      ],
      "text/plain": [
       "\u001b[1m  Excitation probability \u001b[1m$p=0.7$\u001b[22m\u001b[22m\n",
       "  \u001b[1m≡≡≡≡≡≡≡≡≡≡≡≡≡≡≡≡≡≡≡≡≡≡≡≡≡≡≡≡≡≡\u001b[22m"
      ]
     },
     "metadata": {},
     "output_type": "display_data"
    },
    {
     "data": {
      "text/latex": [
       "\\subsection{Error for 01 -> 10}\n"
      ],
      "text/markdown": [
       "## Error for 01 -> 10\n"
      ],
      "text/plain": [
       "\u001b[1m  Error for 01 -> 10\u001b[22m\n",
       "  \u001b[1m==================\u001b[22m"
      ]
     },
     "metadata": {},
     "output_type": "display_data"
    },
    {
     "data": {
      "text/latex": [
       "\\textbf{Population: 5.33\\%}\n",
       "\n"
      ],
      "text/markdown": [
       "**Population: 5.33%**\n"
      ],
      "text/plain": [
       "  \u001b[1mPopulation: 5.33%\u001b[22m"
      ]
     },
     "metadata": {},
     "output_type": "display_data"
    },
    {
     "data": {
      "text/latex": [
       "\\textbf{Parity: 11.87\\%}\n",
       "\n"
      ],
      "text/markdown": [
       "**Parity: 11.87%**\n"
      ],
      "text/plain": [
       "  \u001b[1mParity: 11.87%\u001b[22m"
      ]
     },
     "metadata": {},
     "output_type": "display_data"
    },
    {
     "data": {
      "text/latex": [
       "\\textbf{Total: 8.6\\%}\n",
       "\n"
      ],
      "text/markdown": [
       "**Total: 8.6%**\n"
      ],
      "text/plain": [
       "  \u001b[1mTotal: 8.6%\u001b[22m"
      ]
     },
     "metadata": {},
     "output_type": "display_data"
    },
    {
     "data": {
      "text/plain": [
       "2×2 Matrix{Float64}:\n",
       " -6.41524  -6.41524\n",
       " -6.41524  -6.41524"
      ]
     },
     "metadata": {},
     "output_type": "display_data"
    },
    {
     "data": {
      "text/plain": [
       "2×2 Matrix{Float64}:\n",
       " -14.2884        -4.44089e-16\n",
       "  -4.44089e-15  -14.2884"
      ]
     },
     "metadata": {},
     "output_type": "display_data"
    },
    {
     "data": {
      "text/plain": [
       "2×2 Matrix{Float64}:\n",
       " -10.3518    -3.20762\n",
       "  -3.20762  -10.3518"
      ]
     },
     "metadata": {},
     "output_type": "display_data"
    },
    {
     "data": {
      "text/latex": [
       "\\section{Excitation probability \\textbf{\\$p=1.0\\$}}\n"
      ],
      "text/markdown": [
       "# Excitation probability **$p=1.0$**\n"
      ],
      "text/plain": [
       "\u001b[1m  Excitation probability \u001b[1m$p=1.0$\u001b[22m\u001b[22m\n",
       "  \u001b[1m≡≡≡≡≡≡≡≡≡≡≡≡≡≡≡≡≡≡≡≡≡≡≡≡≡≡≡≡≡≡\u001b[22m"
      ]
     },
     "metadata": {},
     "output_type": "display_data"
    },
    {
     "data": {
      "text/latex": [
       "\\subsection{Error for 01 -> 10}\n"
      ],
      "text/markdown": [
       "## Error for 01 -> 10\n"
      ],
      "text/plain": [
       "\u001b[1m  Error for 01 -> 10\u001b[22m\n",
       "  \u001b[1m==================\u001b[22m"
      ]
     },
     "metadata": {},
     "output_type": "display_data"
    },
    {
     "data": {
      "text/latex": [
       "\\textbf{Population: 4.1\\%}\n",
       "\n"
      ],
      "text/markdown": [
       "**Population: 4.1%**\n"
      ],
      "text/plain": [
       "  \u001b[1mPopulation: 4.1%\u001b[22m"
      ]
     },
     "metadata": {},
     "output_type": "display_data"
    },
    {
     "data": {
      "text/latex": [
       "\\textbf{Parity: 6.15\\%}\n",
       "\n"
      ],
      "text/markdown": [
       "**Parity: 6.15%**\n"
      ],
      "text/plain": [
       "  \u001b[1mParity: 6.15%\u001b[22m"
      ]
     },
     "metadata": {},
     "output_type": "display_data"
    },
    {
     "data": {
      "text/latex": [
       "\\textbf{Total: 5.12\\%}\n",
       "\n"
      ],
      "text/markdown": [
       "**Total: 5.12%**\n"
      ],
      "text/plain": [
       "  \u001b[1mTotal: 5.12%\u001b[22m"
      ]
     },
     "metadata": {},
     "output_type": "display_data"
    },
    {
     "data": {
      "text/plain": [
       "2×2 Matrix{Float64}:\n",
       " -4.9348  -4.9348\n",
       " -4.9348  -4.9348"
      ]
     },
     "metadata": {},
     "output_type": "display_data"
    },
    {
     "data": {
      "text/plain": [
       "2×2 Matrix{Float64}:\n",
       " -7.4022       -1.33227e-15\n",
       " -1.77636e-15  -7.4022"
      ]
     },
     "metadata": {},
     "output_type": "display_data"
    },
    {
     "data": {
      "text/plain": [
       "2×2 Matrix{Float64}:\n",
       " -6.1685  -2.4674\n",
       " -2.4674  -6.1685"
      ]
     },
     "metadata": {},
     "output_type": "display_data"
    }
   ],
   "source": [
    "display(md\"# Excitation probability **\\$p=0.7\\$**\")\n",
    "pa::Float64 = 0.7;\n",
    "pb::Float64 = 0.7;\n",
    "disp_sys(sys2, fid01_10, \"01 -> 10\")\n",
    "display(md\"# Excitation probability **\\$p=1.0\\$**\")\n",
    "pa::Float64 = 1;\n",
    "pb::Float64 = 1;\n",
    "disp_sys(sys2, fid01_10, \"01 -> 10\")"
   ]
  },
  {
   "cell_type": "code",
   "execution_count": 9,
   "id": "6b3d0d40-206e-4565-a01c-b850860578e9",
   "metadata": {},
   "outputs": [
    {
     "data": {
      "text/plain": [
       "fid12_20 (generic function with 1 method)"
      ]
     },
     "execution_count": 9,
     "metadata": {},
     "output_type": "execute_result"
    }
   ],
   "source": [
    "function init_state(sw::SysWrapper{Sys} where Sys<:System{3}, ew::EmitWrapper, success)\n",
    "    ψ = R2_ratio(sw, 1, 3, 1 / 2) * R2_ratio(sw, 1, 2, 1 / 3) * sw.sys.ψ2s[1]\n",
    "    ρ = projector(ψ)\n",
    "    ρ = 1 in success ? detect_success(ρ, ew) : detect_fail(ρ, ew)\n",
    "    ρ = apply(ρ, R2_ratio(sw, 1, 2, 1))\n",
    "    ρ = 2 in success ? detect_success(ρ, ew) : detect_fail(ρ, ew)\n",
    "    ρ = apply(ρ, R2_ratio(sw, 1, 3, 1))\n",
    "    return 3 in success ? detect_success(ρ, ew) : detect_fail(ρ, ew)\n",
    "end\n",
    "\n",
    "function fid01_12(sys::System{3}, εs)\n",
    "    sw = SysWrapper(sys, εs)\n",
    "    ew = EmitWrapper(sys, pa, pb)\n",
    "    ρ = init_state(sw, ew, (1, 2))\n",
    "    # 01 -> 12\n",
    "    ρ = apply(ρ, R2_ratio(sw, 1, 3, 1))\n",
    "    ρ = apply(ρ, sys.proj2sub2[1, 2])\n",
    "    normalize!(ρ)\n",
    "    P_odd = real(tr(apply(ρ, sys.proj2s[1, 2])) + tr(apply(ρ, sys.proj2s[2, 1])))\n",
    "    ρ = apply(ρ, R2_ratio(sw, 1, 2, 1 / 2))\n",
    "    c = real(tr(apply(ρ, sys.proj2s[1, 1])) + tr(apply(ρ, sys.proj2s[2, 2])))\n",
    "    return P_odd, c\n",
    "end\n",
    "function fid02_10(sys::System{3}, εs)\n",
    "    sw = SysWrapper(sys, εs)\n",
    "    ew = EmitWrapper(sys, pa, pb)\n",
    "    ρ = init_state(sw, ew, (1, 3))\n",
    "    # 02 -> 10\n",
    "    ρ = apply(ρ, sys.proj2sub2[1, 2])\n",
    "    normalize!(ρ)\n",
    "    P_odd = real(tr(apply(ρ, sys.proj2s[1, 2])) + tr(apply(ρ, sys.proj2s[2, 1])))\n",
    "    ρ = apply(ρ, R2_ratio(sw, 1, 2, 1 / 2))\n",
    "    c = real(tr(apply(ρ, sys.proj2s[1, 1])) + tr(apply(ρ, sys.proj2s[2, 2])))\n",
    "    return P_odd, c\n",
    "end\n",
    "function fid12_20(sys::System{3}, εs)\n",
    "    sw = SysWrapper(sys, εs)\n",
    "    ew = EmitWrapper(sys, pa, pb)\n",
    "    ρ = init_state(sw, ew, (2, 3))\n",
    "    # 12 -> 20\n",
    "    normalize!(ρ)\n",
    "    P_odd = real(tr(apply(ρ, sys.proj2s[1, 3])) + tr(apply(ρ, sys.proj2s[3, 1])))\n",
    "    ρ = apply(ρ, R2_ratio(sw, 1, 3, 1 / 2))\n",
    "    c = real(tr(apply(ρ, sys.proj2s[1, 1])) + tr(apply(ρ, sys.proj2s[3, 3])))\n",
    "    return P_odd, c\n",
    "end"
   ]
  },
  {
   "cell_type": "markdown",
   "id": "78b55afb-fa1a-49c7-81d0-3a6ae3ef762c",
   "metadata": {},
   "source": [
    "# $d=3$:"
   ]
  },
  {
   "cell_type": "code",
   "execution_count": 10,
   "id": "cb23c7af-ce38-4ac9-a93a-7764f886ea3e",
   "metadata": {},
   "outputs": [
    {
     "data": {
      "text/latex": [
       "\\section{Excitation probability \\textbf{\\$p=0.7\\$}}\n"
      ],
      "text/markdown": [
       "# Excitation probability **$p=0.7$**\n"
      ],
      "text/plain": [
       "\u001b[1m  Excitation probability \u001b[1m$p=0.7$\u001b[22m\u001b[22m\n",
       "  \u001b[1m≡≡≡≡≡≡≡≡≡≡≡≡≡≡≡≡≡≡≡≡≡≡≡≡≡≡≡≡≡≡\u001b[22m"
      ]
     },
     "metadata": {},
     "output_type": "display_data"
    },
    {
     "data": {
      "text/latex": [
       "\\subsection{Error for 01 -> 12}\n"
      ],
      "text/markdown": [
       "## Error for 01 -> 12\n"
      ],
      "text/plain": [
       "\u001b[1m  Error for 01 -> 12\u001b[22m\n",
       "  \u001b[1m==================\u001b[22m"
      ]
     },
     "metadata": {},
     "output_type": "display_data"
    },
    {
     "data": {
      "text/latex": [
       "\\textbf{Population: 5.33\\%}\n",
       "\n"
      ],
      "text/markdown": [
       "**Population: 5.33%**\n"
      ],
      "text/plain": [
       "  \u001b[1mPopulation: 5.33%\u001b[22m"
      ]
     },
     "metadata": {},
     "output_type": "display_data"
    },
    {
     "data": {
      "text/latex": [
       "\\textbf{Parity: 8.92\\%}\n",
       "\n"
      ],
      "text/markdown": [
       "**Parity: 8.92%**\n"
      ],
      "text/plain": [
       "  \u001b[1mParity: 8.92%\u001b[22m"
      ]
     },
     "metadata": {},
     "output_type": "display_data"
    },
    {
     "data": {
      "text/latex": [
       "\\textbf{Total: 7.12\\%}\n",
       "\n"
      ],
      "text/markdown": [
       "**Total: 7.12%**\n"
      ],
      "text/plain": [
       "  \u001b[1mTotal: 7.12%\u001b[22m"
      ]
     },
     "metadata": {},
     "output_type": "display_data"
    },
    {
     "data": {
      "text/plain": [
       "2×2 Matrix{Float64}:\n",
       " -6.41524  -6.41524\n",
       " -6.41524  -6.41524"
      ]
     },
     "metadata": {},
     "output_type": "display_data"
    },
    {
     "data": {
      "text/plain": [
       "2×2 Matrix{Float64}:\n",
       " -10.7303     7.25348\n",
       "   7.25348  -10.7303"
      ]
     },
     "metadata": {},
     "output_type": "display_data"
    },
    {
     "data": {
      "text/plain": [
       "2×2 Matrix{Float64}:\n",
       " -8.57278    0.419117\n",
       "  0.419117  -8.57278"
      ]
     },
     "metadata": {},
     "output_type": "display_data"
    },
    {
     "data": {
      "text/latex": [
       "\\subsection{Error for 02 -> 10}\n"
      ],
      "text/markdown": [
       "## Error for 02 -> 10\n"
      ],
      "text/plain": [
       "\u001b[1m  Error for 02 -> 10\u001b[22m\n",
       "  \u001b[1m==================\u001b[22m"
      ]
     },
     "metadata": {},
     "output_type": "display_data"
    },
    {
     "data": {
      "text/latex": [
       "\\textbf{Population: 0.0\\%}\n",
       "\n"
      ],
      "text/markdown": [
       "**Population: 0.0%**\n"
      ],
      "text/plain": [
       "  \u001b[1mPopulation: 0.0%\u001b[22m"
      ]
     },
     "metadata": {},
     "output_type": "display_data"
    },
    {
     "data": {
      "text/latex": [
       "\\textbf{Parity: 1.95\\%}\n",
       "\n"
      ],
      "text/markdown": [
       "**Parity: 1.95%**\n"
      ],
      "text/plain": [
       "  \u001b[1mParity: 1.95%\u001b[22m"
      ]
     },
     "metadata": {},
     "output_type": "display_data"
    },
    {
     "data": {
      "text/latex": [
       "\\textbf{Total: 0.98\\%}\n",
       "\n"
      ],
      "text/markdown": [
       "**Total: 0.98%**\n"
      ],
      "text/plain": [
       "  \u001b[1mTotal: 0.98%\u001b[22m"
      ]
     },
     "metadata": {},
     "output_type": "display_data"
    },
    {
     "data": {
      "text/plain": [
       "2×2 Matrix{Float64}:\n",
       " -1.77636e-15  -2.22045e-15\n",
       " -1.9984e-15   -1.77636e-15"
      ]
     },
     "metadata": {},
     "output_type": "display_data"
    },
    {
     "data": {
      "text/plain": [
       "2×2 Matrix{Float64}:\n",
       " -2.34965   -0.117751\n",
       " -0.117751  -2.34965"
      ]
     },
     "metadata": {},
     "output_type": "display_data"
    },
    {
     "data": {
      "text/plain": [
       "2×2 Matrix{Float64}:\n",
       " -1.17483    -0.0588753\n",
       " -0.0588753  -1.17483"
      ]
     },
     "metadata": {},
     "output_type": "display_data"
    },
    {
     "data": {
      "text/latex": [
       "\\subsection{Error for 12 -> 20}\n"
      ],
      "text/markdown": [
       "## Error for 12 -> 20\n"
      ],
      "text/plain": [
       "\u001b[1m  Error for 12 -> 20\u001b[22m\n",
       "  \u001b[1m==================\u001b[22m"
      ]
     },
     "metadata": {},
     "output_type": "display_data"
    },
    {
     "data": {
      "text/latex": [
       "\\textbf{Population: 7.38\\%}\n",
       "\n"
      ],
      "text/markdown": [
       "**Population: 7.38%**\n"
      ],
      "text/plain": [
       "  \u001b[1mPopulation: 7.38%\u001b[22m"
      ]
     },
     "metadata": {},
     "output_type": "display_data"
    },
    {
     "data": {
      "text/latex": [
       "\\textbf{Parity: 14.13\\%}\n",
       "\n"
      ],
      "text/markdown": [
       "**Parity: 14.13%**\n"
      ],
      "text/plain": [
       "  \u001b[1mParity: 14.13%\u001b[22m"
      ]
     },
     "metadata": {},
     "output_type": "display_data"
    },
    {
     "data": {
      "text/latex": [
       "\\textbf{Total: 10.76\\%}\n",
       "\n"
      ],
      "text/markdown": [
       "**Total: 10.76%**\n"
      ],
      "text/plain": [
       "  \u001b[1mTotal: 10.76%\u001b[22m"
      ]
     },
     "metadata": {},
     "output_type": "display_data"
    },
    {
     "data": {
      "text/plain": [
       "2×2 Matrix{Float64}:\n",
       " -8.88264  -6.41524\n",
       " -6.41524  -8.88264"
      ]
     },
     "metadata": {},
     "output_type": "display_data"
    },
    {
     "data": {
      "text/plain": [
       "2×2 Matrix{Float64}:\n",
       " -17.0115      0.255618\n",
       "   0.255618  -17.0115"
      ]
     },
     "metadata": {},
     "output_type": "display_data"
    },
    {
     "data": {
      "text/plain": [
       "2×2 Matrix{Float64}:\n",
       " -12.9471    -3.07981\n",
       "  -3.07981  -12.9471"
      ]
     },
     "metadata": {},
     "output_type": "display_data"
    },
    {
     "data": {
      "text/latex": [
       "\\section{Excitation probability \\textbf{\\$p=1.0\\$}}\n"
      ],
      "text/markdown": [
       "# Excitation probability **$p=1.0$**\n"
      ],
      "text/plain": [
       "\u001b[1m  Excitation probability \u001b[1m$p=1.0$\u001b[22m\u001b[22m\n",
       "  \u001b[1m≡≡≡≡≡≡≡≡≡≡≡≡≡≡≡≡≡≡≡≡≡≡≡≡≡≡≡≡≡≡\u001b[22m"
      ]
     },
     "metadata": {},
     "output_type": "display_data"
    },
    {
     "data": {
      "text/latex": [
       "\\subsection{Error for 01 -> 12}\n"
      ],
      "text/markdown": [
       "## Error for 01 -> 12\n"
      ],
      "text/plain": [
       "\u001b[1m  Error for 01 -> 12\u001b[22m\n",
       "  \u001b[1m==================\u001b[22m"
      ]
     },
     "metadata": {},
     "output_type": "display_data"
    },
    {
     "data": {
      "text/latex": [
       "\\textbf{Population: 4.1\\%}\n",
       "\n"
      ],
      "text/markdown": [
       "**Population: 4.1%**\n"
      ],
      "text/plain": [
       "  \u001b[1mPopulation: 4.1%\u001b[22m"
      ]
     },
     "metadata": {},
     "output_type": "display_data"
    },
    {
     "data": {
      "text/latex": [
       "\\textbf{Parity: 6.94\\%}\n",
       "\n"
      ],
      "text/markdown": [
       "**Parity: 6.94%**\n"
      ],
      "text/plain": [
       "  \u001b[1mParity: 6.94%\u001b[22m"
      ]
     },
     "metadata": {},
     "output_type": "display_data"
    },
    {
     "data": {
      "text/latex": [
       "\\textbf{Total: 5.52\\%}\n",
       "\n"
      ],
      "text/markdown": [
       "**Total: 5.52%**\n"
      ],
      "text/plain": [
       "  \u001b[1mTotal: 5.52%\u001b[22m"
      ]
     },
     "metadata": {},
     "output_type": "display_data"
    },
    {
     "data": {
      "text/plain": [
       "2×2 Matrix{Float64}:\n",
       " -4.9348  -4.9348\n",
       " -4.9348  -4.9348"
      ]
     },
     "metadata": {},
     "output_type": "display_data"
    },
    {
     "data": {
      "text/plain": [
       "2×2 Matrix{Float64}:\n",
       " -8.3547     0.952498\n",
       "  0.952498  -8.3547"
      ]
     },
     "metadata": {},
     "output_type": "display_data"
    },
    {
     "data": {
      "text/plain": [
       "2×2 Matrix{Float64}:\n",
       " -6.64475  -1.99115\n",
       " -1.99115  -6.64475"
      ]
     },
     "metadata": {},
     "output_type": "display_data"
    },
    {
     "data": {
      "text/latex": [
       "\\subsection{Error for 02 -> 10}\n"
      ],
      "text/markdown": [
       "## Error for 02 -> 10\n"
      ],
      "text/plain": [
       "\u001b[1m  Error for 02 -> 10\u001b[22m\n",
       "  \u001b[1m==================\u001b[22m"
      ]
     },
     "metadata": {},
     "output_type": "display_data"
    },
    {
     "data": {
      "text/latex": [
       "\\textbf{Population: -0.0\\%}\n",
       "\n"
      ],
      "text/markdown": [
       "**Population: -0.0%**\n"
      ],
      "text/plain": [
       "  \u001b[1mPopulation: -0.0%\u001b[22m"
      ]
     },
     "metadata": {},
     "output_type": "display_data"
    },
    {
     "data": {
      "text/latex": [
       "\\textbf{Parity: 3.07\\%}\n",
       "\n"
      ],
      "text/markdown": [
       "**Parity: 3.07%**\n"
      ],
      "text/plain": [
       "  \u001b[1mParity: 3.07%\u001b[22m"
      ]
     },
     "metadata": {},
     "output_type": "display_data"
    },
    {
     "data": {
      "text/latex": [
       "\\textbf{Total: 1.54\\%}\n",
       "\n"
      ],
      "text/markdown": [
       "**Total: 1.54%**\n"
      ],
      "text/plain": [
       "  \u001b[1mTotal: 1.54%\u001b[22m"
      ]
     },
     "metadata": {},
     "output_type": "display_data"
    },
    {
     "data": {
      "text/plain": [
       "2×2 Matrix{Float64}:\n",
       " 0.0          1.33227e-15\n",
       " 1.33227e-15  0.0"
      ]
     },
     "metadata": {},
     "output_type": "display_data"
    },
    {
     "data": {
      "text/plain": [
       "2×2 Matrix{Float64}:\n",
       " -3.7011   1.2337\n",
       "  1.2337  -3.7011"
      ]
     },
     "metadata": {},
     "output_type": "display_data"
    },
    {
     "data": {
      "text/plain": [
       "2×2 Matrix{Float64}:\n",
       " -1.85055   0.61685\n",
       "  0.61685  -1.85055"
      ]
     },
     "metadata": {},
     "output_type": "display_data"
    },
    {
     "data": {
      "text/latex": [
       "\\subsection{Error for 12 -> 20}\n"
      ],
      "text/markdown": [
       "## Error for 12 -> 20\n"
      ],
      "text/plain": [
       "\u001b[1m  Error for 12 -> 20\u001b[22m\n",
       "  \u001b[1m==================\u001b[22m"
      ]
     },
     "metadata": {},
     "output_type": "display_data"
    },
    {
     "data": {
      "text/latex": [
       "\\textbf{Population: 6.15\\%}\n",
       "\n"
      ],
      "text/markdown": [
       "**Population: 6.15%**\n"
      ],
      "text/plain": [
       "  \u001b[1mPopulation: 6.15%\u001b[22m"
      ]
     },
     "metadata": {},
     "output_type": "display_data"
    },
    {
     "data": {
      "text/latex": [
       "\\textbf{Parity: 8.31\\%}\n",
       "\n"
      ],
      "text/markdown": [
       "**Parity: 8.31%**\n"
      ],
      "text/plain": [
       "  \u001b[1mParity: 8.31%\u001b[22m"
      ]
     },
     "metadata": {},
     "output_type": "display_data"
    },
    {
     "data": {
      "text/latex": [
       "\\textbf{Total: 7.23\\%}\n",
       "\n"
      ],
      "text/markdown": [
       "**Total: 7.23%**\n"
      ],
      "text/plain": [
       "  \u001b[1mTotal: 7.23%\u001b[22m"
      ]
     },
     "metadata": {},
     "output_type": "display_data"
    },
    {
     "data": {
      "text/plain": [
       "2×2 Matrix{Float64}:\n",
       " -7.4022  -4.9348\n",
       " -4.9348  -7.4022"
      ]
     },
     "metadata": {},
     "output_type": "display_data"
    },
    {
     "data": {
      "text/plain": [
       "2×2 Matrix{Float64}:\n",
       " -10.0049     0.13532\n",
       "   0.13532  -10.0049"
      ]
     },
     "metadata": {},
     "output_type": "display_data"
    },
    {
     "data": {
      "text/plain": [
       "2×2 Matrix{Float64}:\n",
       " -8.70356  -2.39974\n",
       " -2.39974  -8.70356"
      ]
     },
     "metadata": {},
     "output_type": "display_data"
    }
   ],
   "source": [
    "display(md\"# Excitation probability **\\$p=0.7\\$**\")\n",
    "pa::Float64 = 0.7;\n",
    "pb::Float64 = 0.7;\n",
    "disp_sys(sys3, fid01_12, \"01 -> 12\")\n",
    "disp_sys(sys3, fid02_10, \"02 -> 10\")\n",
    "disp_sys(sys3, fid12_20, \"12 -> 20\")\n",
    "display(md\"# Excitation probability **\\$p=1.0\\$**\")\n",
    "pa::Float64 = 1;\n",
    "pb::Float64 = 1;\n",
    "disp_sys(sys3, fid01_12, \"01 -> 12\")\n",
    "disp_sys(sys3, fid02_10, \"02 -> 10\")\n",
    "disp_sys(sys3, fid12_20, \"12 -> 20\")"
   ]
  },
  {
   "cell_type": "code",
   "execution_count": 11,
   "id": "cbea4ec9-73df-48af-9b2b-7f37b8a56fbe",
   "metadata": {},
   "outputs": [
    {
     "data": {
      "text/plain": [
       "fid23_30 (generic function with 1 method)"
      ]
     },
     "execution_count": 11,
     "metadata": {},
     "output_type": "execute_result"
    }
   ],
   "source": [
    "function init_state(sw::SysWrapper{Sys} where Sys<:System{4}, ew::EmitWrapper, success)\n",
    "    ψ = R2_ratio(sw, 1, 4, 1 / 2) * R2_ratio(sw, 1, 3, 1 / 3) * R2_ratio(sw, 1, 2, 1 / 4) * sw.sys.ψ2s[1]\n",
    "    ρ = projector(ψ)\n",
    "    ρ = 1 in success ? detect_success(ρ, ew) : detect_fail(ρ, ew)\n",
    "    ρ = apply(ρ, R2_ratio(sw, 1, 2, 1))\n",
    "    ρ = 2 in success ? detect_success(ρ, ew) : detect_fail(ρ, ew)\n",
    "    ρ = apply(ρ, R2_ratio(sw, 1, 3, 1))\n",
    "    ρ = 3 in success ? detect_success(ρ, ew) : detect_fail(ρ, ew)\n",
    "    ρ = apply(ρ, R2_ratio(sw, 1, 4, 1))\n",
    "    return 4 in success ? detect_success(ρ, ew) : detect_fail(ρ, ew)\n",
    "end\n",
    "function fid01_12(sys::System{4}, εs)\n",
    "    sw = SysWrapper(sys, εs)\n",
    "    ew = EmitWrapper(sys, pa, pb)\n",
    "    ρ = init_state(sw, ew, (1, 2))\n",
    "    # 01 -> 12\n",
    "    ρ = apply(ρ, R2_ratio(sw, 1, 3, 1))\n",
    "    ρ = apply(ρ, sys.proj2sub2[1, 2])\n",
    "    normalize!(ρ)\n",
    "    P_odd = real(tr(apply(ρ, sys.proj2s[1, 2])) + tr(apply(ρ, sys.proj2s[2, 1])))\n",
    "    ρ = apply(ρ, R2_ratio(sw, 1, 2, 1 / 2))\n",
    "    c = real(tr(apply(ρ, sys.proj2s[1, 1])) + tr(apply(ρ, sys.proj2s[2, 2])))\n",
    "    return P_odd, c\n",
    "end\n",
    "function fid02_13(sys::System{4}, εs)\n",
    "    sw = SysWrapper(sys, εs)\n",
    "    ew = EmitWrapper(sys, pa, pb)\n",
    "    ρ = init_state(sw, ew, (1, 3))\n",
    "    # 02 -> 13\n",
    "    ρ = apply(ρ, R2_ratio(sw, 1, 4, 1))\n",
    "    ρ = apply(ρ, sys.proj2sub2[1, 2])\n",
    "    normalize!(ρ)\n",
    "    P_odd = real(tr(apply(ρ, sys.proj2s[1, 2])) + tr(apply(ρ, sys.proj2s[2, 1])))\n",
    "    ρ = apply(ρ, R2_ratio(sw, 1, 2, 1 / 2))\n",
    "    c = real(tr(apply(ρ, sys.proj2s[1, 1])) + tr(apply(ρ, sys.proj2s[2, 2])))\n",
    "    return P_odd, c\n",
    "end\n",
    "function fid03_10(sys::System{4}, εs)\n",
    "    sw = SysWrapper(sys, εs)\n",
    "    ew = EmitWrapper(sys, pa, pb)\n",
    "    ρ = init_state(sw, ew, (1, 4))\n",
    "    # 03 -> 10\n",
    "    ρ = apply(ρ, sys.proj2sub2[1, 2])\n",
    "    normalize!(ρ)\n",
    "    P_odd = real(tr(apply(ρ, sys.proj2s[1, 2])) + tr(apply(ρ, sys.proj2s[2, 1])))\n",
    "    ρ = apply(ρ, R2_ratio(sw, 1, 2, 1 / 2))\n",
    "    c = real(tr(apply(ρ, sys.proj2s[1, 1])) + tr(apply(ρ, sys.proj2s[2, 2])))\n",
    "    return P_odd, c\n",
    "end\n",
    "function fid12_23(sys::System{4}, εs)\n",
    "    sw = SysWrapper(sys, εs)\n",
    "    ew = EmitWrapper(sys, pa, pb)\n",
    "    ρ = init_state(sw, ew, (2, 3))\n",
    "    # 12 -> 23\n",
    "    ρ = apply(ρ, R2_ratio(sw, 1, 4, 1))\n",
    "    ρ = apply(ρ, sys.proj2sub2[1, 3])\n",
    "    normalize!(ρ)\n",
    "    P_odd = real(tr(apply(ρ, sys.proj2s[1, 3])) + tr(apply(ρ, sys.proj2s[3, 1])))\n",
    "    ρ = apply(ρ, R2_ratio(sw, 1, 3, 1 / 2))\n",
    "    c = real(tr(apply(ρ, sys.proj2s[1, 1])) + tr(apply(ρ, sys.proj2s[3, 3])))\n",
    "    return P_odd, c\n",
    "end\n",
    "function fid13_20(sys::System{4}, εs)\n",
    "    sw = SysWrapper(sys, εs)\n",
    "    ew = EmitWrapper(sys, pa, pb)\n",
    "    ρ = init_state(sw, ew, (2, 4))\n",
    "    # 13 -> 20\n",
    "    ρ = apply(ρ, sys.proj2sub2[1, 3])\n",
    "    normalize!(ρ)\n",
    "    P_odd = real(tr(apply(ρ, sys.proj2s[1, 3])) + tr(apply(ρ, sys.proj2s[3, 1])))\n",
    "    ρ = apply(ρ, R2_ratio(sw, 1, 3, 1 / 2))\n",
    "    c = real(tr(apply(ρ, sys.proj2s[1, 1])) + tr(apply(ρ, sys.proj2s[3, 3])))\n",
    "    return P_odd, c\n",
    "end\n",
    "function fid23_30(sys::System{4}, εs)\n",
    "    sw = SysWrapper(sys, εs)\n",
    "    ew = EmitWrapper(sys, pa, pb)\n",
    "    ρ = init_state(sw, ew, (3, 4))\n",
    "    # 23 -> 30\n",
    "    ρ = apply(ρ, sys.proj2sub2[1, 4])\n",
    "    normalize!(ρ)\n",
    "    P_odd = real(tr(apply(ρ, sys.proj2s[1, 4])) + tr(apply(ρ, sys.proj2s[4, 1])))\n",
    "    ρ = apply(ρ, R2_ratio(sw, 1, 4, 1 / 2))\n",
    "    c = real(tr(apply(ρ, sys.proj2s[1, 1])) + tr(apply(ρ, sys.proj2s[4, 4])))\n",
    "    return P_odd, c\n",
    "end"
   ]
  },
  {
   "cell_type": "markdown",
   "id": "8d913e60-c09b-408e-a107-4ecc83d2f913",
   "metadata": {},
   "source": [
    "# $d=4$:"
   ]
  },
  {
   "cell_type": "code",
   "execution_count": 12,
   "id": "0270ee60-1952-439d-a07c-b24c20953315",
   "metadata": {},
   "outputs": [
    {
     "data": {
      "text/latex": [
       "\\section{Excitation probability \\textbf{\\$p=0.7\\$}}\n"
      ],
      "text/markdown": [
       "# Excitation probability **$p=0.7$**\n"
      ],
      "text/plain": [
       "\u001b[1m  Excitation probability \u001b[1m$p=0.7$\u001b[22m\u001b[22m\n",
       "  \u001b[1m≡≡≡≡≡≡≡≡≡≡≡≡≡≡≡≡≡≡≡≡≡≡≡≡≡≡≡≡≡≡\u001b[22m"
      ]
     },
     "metadata": {},
     "output_type": "display_data"
    },
    {
     "data": {
      "text/latex": [
       "\\subsection{Error for 01 -> 12}\n"
      ],
      "text/markdown": [
       "## Error for 01 -> 12\n"
      ],
      "text/plain": [
       "\u001b[1m  Error for 01 -> 12\u001b[22m\n",
       "  \u001b[1m==================\u001b[22m"
      ]
     },
     "metadata": {},
     "output_type": "display_data"
    },
    {
     "data": {
      "text/latex": [
       "\\textbf{Population: 5.33\\%}\n",
       "\n"
      ],
      "text/markdown": [
       "**Population: 5.33%**\n"
      ],
      "text/plain": [
       "  \u001b[1mPopulation: 5.33%\u001b[22m"
      ]
     },
     "metadata": {},
     "output_type": "display_data"
    },
    {
     "data": {
      "text/latex": [
       "\\textbf{Parity: 10.04\\%}\n",
       "\n"
      ],
      "text/markdown": [
       "**Parity: 10.04%**\n"
      ],
      "text/plain": [
       "  \u001b[1mParity: 10.04%\u001b[22m"
      ]
     },
     "metadata": {},
     "output_type": "display_data"
    },
    {
     "data": {
      "text/latex": [
       "\\textbf{Total: 7.68\\%}\n",
       "\n"
      ],
      "text/markdown": [
       "**Total: 7.68%**\n"
      ],
      "text/plain": [
       "  \u001b[1mTotal: 7.68%\u001b[22m"
      ]
     },
     "metadata": {},
     "output_type": "display_data"
    },
    {
     "data": {
      "text/plain": [
       "2×2 Matrix{Float64}:\n",
       " -6.41524  -6.41524\n",
       " -6.41524  -6.41524"
      ]
     },
     "metadata": {},
     "output_type": "display_data"
    },
    {
     "data": {
      "text/plain": [
       "2×2 Matrix{Float64}:\n",
       " -12.079      8.60221\n",
       "   8.60221  -12.079"
      ]
     },
     "metadata": {},
     "output_type": "display_data"
    },
    {
     "data": {
      "text/plain": [
       "2×2 Matrix{Float64}:\n",
       " -9.24714   1.09348\n",
       "  1.09348  -9.24714"
      ]
     },
     "metadata": {},
     "output_type": "display_data"
    },
    {
     "data": {
      "text/latex": [
       "\\subsection{Error for 02 -> 13}\n"
      ],
      "text/markdown": [
       "## Error for 02 -> 13\n"
      ],
      "text/plain": [
       "\u001b[1m  Error for 02 -> 13\u001b[22m\n",
       "  \u001b[1m==================\u001b[22m"
      ]
     },
     "metadata": {},
     "output_type": "display_data"
    },
    {
     "data": {
      "text/latex": [
       "\\textbf{Population: 0.0\\%}\n",
       "\n"
      ],
      "text/markdown": [
       "**Population: 0.0%**\n"
      ],
      "text/plain": [
       "  \u001b[1mPopulation: 0.0%\u001b[22m"
      ]
     },
     "metadata": {},
     "output_type": "display_data"
    },
    {
     "data": {
      "text/latex": [
       "\\textbf{Parity: 2.37\\%}\n",
       "\n"
      ],
      "text/markdown": [
       "**Parity: 2.37%**\n"
      ],
      "text/plain": [
       "  \u001b[1mParity: 2.37%\u001b[22m"
      ]
     },
     "metadata": {},
     "output_type": "display_data"
    },
    {
     "data": {
      "text/latex": [
       "\\textbf{Total: 1.19\\%}\n",
       "\n"
      ],
      "text/markdown": [
       "**Total: 1.19%**\n"
      ],
      "text/plain": [
       "  \u001b[1mTotal: 1.19%\u001b[22m"
      ]
     },
     "metadata": {},
     "output_type": "display_data"
    },
    {
     "data": {
      "text/plain": [
       "2×2 Matrix{Float64}:\n",
       " -8.88178e-16   4.55191e-15\n",
       "  4.66294e-15  -8.88178e-16"
      ]
     },
     "metadata": {},
     "output_type": "display_data"
    },
    {
     "data": {
      "text/plain": [
       "2×2 Matrix{Float64}:\n",
       " -2.85456    0.387161\n",
       "  0.387161  -2.85456"
      ]
     },
     "metadata": {},
     "output_type": "display_data"
    },
    {
     "data": {
      "text/plain": [
       "2×2 Matrix{Float64}:\n",
       " -1.42728   0.19358\n",
       "  0.19358  -1.42728"
      ]
     },
     "metadata": {},
     "output_type": "display_data"
    },
    {
     "data": {
      "text/latex": [
       "\\subsection{Error for 03 -> 10}\n"
      ],
      "text/markdown": [
       "## Error for 03 -> 10\n"
      ],
      "text/plain": [
       "\u001b[1m  Error for 03 -> 10\u001b[22m\n",
       "  \u001b[1m==================\u001b[22m"
      ]
     },
     "metadata": {},
     "output_type": "display_data"
    },
    {
     "data": {
      "text/latex": [
       "\\textbf{Population: -0.0\\%}\n",
       "\n"
      ],
      "text/markdown": [
       "**Population: -0.0%**\n"
      ],
      "text/plain": [
       "  \u001b[1mPopulation: -0.0%\u001b[22m"
      ]
     },
     "metadata": {},
     "output_type": "display_data"
    },
    {
     "data": {
      "text/latex": [
       "\\textbf{Parity: 1.95\\%}\n",
       "\n"
      ],
      "text/markdown": [
       "**Parity: 1.95%**\n"
      ],
      "text/plain": [
       "  \u001b[1mParity: 1.95%\u001b[22m"
      ]
     },
     "metadata": {},
     "output_type": "display_data"
    },
    {
     "data": {
      "text/latex": [
       "\\textbf{Total: 0.98\\%}\n",
       "\n"
      ],
      "text/markdown": [
       "**Total: 0.98%**\n"
      ],
      "text/plain": [
       "  \u001b[1mTotal: 0.98%\u001b[22m"
      ]
     },
     "metadata": {},
     "output_type": "display_data"
    },
    {
     "data": {
      "text/plain": [
       "2×2 Matrix{Float64}:\n",
       " 1.24345e-14  1.28786e-14\n",
       " 1.28786e-14  1.24345e-14"
      ]
     },
     "metadata": {},
     "output_type": "display_data"
    },
    {
     "data": {
      "text/plain": [
       "2×2 Matrix{Float64}:\n",
       " -2.34965   -0.117751\n",
       " -0.117751  -2.34965"
      ]
     },
     "metadata": {},
     "output_type": "display_data"
    },
    {
     "data": {
      "text/plain": [
       "2×2 Matrix{Float64}:\n",
       " -1.17483    -0.0588753\n",
       " -0.0588753  -1.17483"
      ]
     },
     "metadata": {},
     "output_type": "display_data"
    },
    {
     "data": {
      "text/latex": [
       "\\subsection{Error for 12 -> 23}\n"
      ],
      "text/markdown": [
       "## Error for 12 -> 23\n"
      ],
      "text/plain": [
       "\u001b[1m  Error for 12 -> 23\u001b[22m\n",
       "  \u001b[1m==================\u001b[22m"
      ]
     },
     "metadata": {},
     "output_type": "display_data"
    },
    {
     "data": {
      "text/latex": [
       "\\textbf{Population: 5.33\\%}\n",
       "\n"
      ],
      "text/markdown": [
       "**Population: 5.33%**\n"
      ],
      "text/plain": [
       "  \u001b[1mPopulation: 5.33%\u001b[22m"
      ]
     },
     "metadata": {},
     "output_type": "display_data"
    },
    {
     "data": {
      "text/latex": [
       "\\textbf{Parity: 7.14\\%}\n",
       "\n"
      ],
      "text/markdown": [
       "**Parity: 7.14%**\n"
      ],
      "text/plain": [
       "  \u001b[1mParity: 7.14%\u001b[22m"
      ]
     },
     "metadata": {},
     "output_type": "display_data"
    },
    {
     "data": {
      "text/latex": [
       "\\textbf{Total: 6.23\\%}\n",
       "\n"
      ],
      "text/markdown": [
       "**Total: 6.23%**\n"
      ],
      "text/plain": [
       "  \u001b[1mTotal: 6.23%\u001b[22m"
      ]
     },
     "metadata": {},
     "output_type": "display_data"
    },
    {
     "data": {
      "text/plain": [
       "2×2 Matrix{Float64}:\n",
       " -6.41524  -6.41524\n",
       " -6.41524  -6.41524"
      ]
     },
     "metadata": {},
     "output_type": "display_data"
    },
    {
     "data": {
      "text/plain": [
       "2×2 Matrix{Float64}:\n",
       " -8.59199   5.11515\n",
       "  5.11515  -8.59199"
      ]
     },
     "metadata": {},
     "output_type": "display_data"
    },
    {
     "data": {
      "text/plain": [
       "2×2 Matrix{Float64}:\n",
       " -7.50361   -0.650048\n",
       " -0.650048  -7.50361"
      ]
     },
     "metadata": {},
     "output_type": "display_data"
    },
    {
     "data": {
      "text/latex": [
       "\\subsection{Error for 13 -> 20}\n"
      ],
      "text/markdown": [
       "## Error for 13 -> 20\n"
      ],
      "text/plain": [
       "\u001b[1m  Error for 13 -> 20\u001b[22m\n",
       "  \u001b[1m==================\u001b[22m"
      ]
     },
     "metadata": {},
     "output_type": "display_data"
    },
    {
     "data": {
      "text/latex": [
       "\\textbf{Population: -0.0\\%}\n",
       "\n"
      ],
      "text/markdown": [
       "**Population: -0.0%**\n"
      ],
      "text/plain": [
       "  \u001b[1mPopulation: -0.0%\u001b[22m"
      ]
     },
     "metadata": {},
     "output_type": "display_data"
    },
    {
     "data": {
      "text/latex": [
       "\\textbf{Parity: 5.22\\%}\n",
       "\n"
      ],
      "text/markdown": [
       "**Parity: 5.22%**\n"
      ],
      "text/plain": [
       "  \u001b[1mParity: 5.22%\u001b[22m"
      ]
     },
     "metadata": {},
     "output_type": "display_data"
    },
    {
     "data": {
      "text/latex": [
       "\\textbf{Total: 2.61\\%}\n",
       "\n"
      ],
      "text/markdown": [
       "**Total: 2.61%**\n"
      ],
      "text/plain": [
       "  \u001b[1mTotal: 2.61%\u001b[22m"
      ]
     },
     "metadata": {},
     "output_type": "display_data"
    },
    {
     "data": {
      "text/plain": [
       "2×2 Matrix{Float64}:\n",
       " 8.88178e-16  0.0\n",
       " 0.0          8.88178e-16"
      ]
     },
     "metadata": {},
     "output_type": "display_data"
    },
    {
     "data": {
      "text/plain": [
       "2×2 Matrix{Float64}:\n",
       " -6.28839   3.82099\n",
       "  3.82099  -6.28839"
      ]
     },
     "metadata": {},
     "output_type": "display_data"
    },
    {
     "data": {
      "text/plain": [
       "2×2 Matrix{Float64}:\n",
       " -3.1442    1.91049\n",
       "  1.91049  -3.1442"
      ]
     },
     "metadata": {},
     "output_type": "display_data"
    },
    {
     "data": {
      "text/latex": [
       "\\subsection{Error for 23 -> 30}\n"
      ],
      "text/markdown": [
       "## Error for 23 -> 30\n"
      ],
      "text/plain": [
       "\u001b[1m  Error for 23 -> 30\u001b[22m\n",
       "  \u001b[1m==================\u001b[22m"
      ]
     },
     "metadata": {},
     "output_type": "display_data"
    },
    {
     "data": {
      "text/latex": [
       "\\textbf{Population: 5.33\\%}\n",
       "\n"
      ],
      "text/markdown": [
       "**Population: 5.33%**\n"
      ],
      "text/plain": [
       "  \u001b[1mPopulation: 5.33%\u001b[22m"
      ]
     },
     "metadata": {},
     "output_type": "display_data"
    },
    {
     "data": {
      "text/latex": [
       "\\textbf{Parity: 8.88\\%}\n",
       "\n"
      ],
      "text/markdown": [
       "**Parity: 8.88%**\n"
      ],
      "text/plain": [
       "  \u001b[1mParity: 8.88%\u001b[22m"
      ]
     },
     "metadata": {},
     "output_type": "display_data"
    },
    {
     "data": {
      "text/latex": [
       "\\textbf{Total: 7.1\\%}\n",
       "\n"
      ],
      "text/markdown": [
       "**Total: 7.1%**\n"
      ],
      "text/plain": [
       "  \u001b[1mTotal: 7.1%\u001b[22m"
      ]
     },
     "metadata": {},
     "output_type": "display_data"
    },
    {
     "data": {
      "text/plain": [
       "2×2 Matrix{Float64}:\n",
       " -6.41524  -6.41524\n",
       " -6.41524  -6.41524"
      ]
     },
     "metadata": {},
     "output_type": "display_data"
    },
    {
     "data": {
      "text/plain": [
       "2×2 Matrix{Float64}:\n",
       " -10.688     -3.60044\n",
       "  -3.60044  -10.688"
      ]
     },
     "metadata": {},
     "output_type": "display_data"
    },
    {
     "data": {
      "text/plain": [
       "2×2 Matrix{Float64}:\n",
       " -8.55163  -5.00784\n",
       " -5.00784  -8.55163"
      ]
     },
     "metadata": {},
     "output_type": "display_data"
    },
    {
     "data": {
      "text/latex": [
       "\\section{Excitation probability \\textbf{\\$p=1.0\\$}}\n"
      ],
      "text/markdown": [
       "# Excitation probability **$p=1.0$**\n"
      ],
      "text/plain": [
       "\u001b[1m  Excitation probability \u001b[1m$p=1.0$\u001b[22m\u001b[22m\n",
       "  \u001b[1m≡≡≡≡≡≡≡≡≡≡≡≡≡≡≡≡≡≡≡≡≡≡≡≡≡≡≡≡≡≡\u001b[22m"
      ]
     },
     "metadata": {},
     "output_type": "display_data"
    },
    {
     "data": {
      "text/latex": [
       "\\subsection{Error for 01 -> 12}\n"
      ],
      "text/markdown": [
       "## Error for 01 -> 12\n"
      ],
      "text/plain": [
       "\u001b[1m  Error for 01 -> 12\u001b[22m\n",
       "  \u001b[1m==================\u001b[22m"
      ]
     },
     "metadata": {},
     "output_type": "display_data"
    },
    {
     "data": {
      "text/latex": [
       "\\textbf{Population: 4.1\\%}\n",
       "\n"
      ],
      "text/markdown": [
       "**Population: 4.1%**\n"
      ],
      "text/plain": [
       "  \u001b[1mPopulation: 4.1%\u001b[22m"
      ]
     },
     "metadata": {},
     "output_type": "display_data"
    },
    {
     "data": {
      "text/latex": [
       "\\textbf{Parity: 7.58\\%}\n",
       "\n"
      ],
      "text/markdown": [
       "**Parity: 7.58%**\n"
      ],
      "text/plain": [
       "  \u001b[1mParity: 7.58%\u001b[22m"
      ]
     },
     "metadata": {},
     "output_type": "display_data"
    },
    {
     "data": {
      "text/latex": [
       "\\textbf{Total: 5.84\\%}\n",
       "\n"
      ],
      "text/markdown": [
       "**Total: 5.84%**\n"
      ],
      "text/plain": [
       "  \u001b[1mTotal: 5.84%\u001b[22m"
      ]
     },
     "metadata": {},
     "output_type": "display_data"
    },
    {
     "data": {
      "text/plain": [
       "2×2 Matrix{Float64}:\n",
       " -4.9348  -4.9348\n",
       " -4.9348  -4.9348"
      ]
     },
     "metadata": {},
     "output_type": "display_data"
    },
    {
     "data": {
      "text/plain": [
       "2×2 Matrix{Float64}:\n",
       " -9.12049   1.71828\n",
       "  1.71828  -9.12049"
      ]
     },
     "metadata": {},
     "output_type": "display_data"
    },
    {
     "data": {
      "text/plain": [
       "2×2 Matrix{Float64}:\n",
       " -7.02764  -1.60826\n",
       " -1.60826  -7.02764"
      ]
     },
     "metadata": {},
     "output_type": "display_data"
    },
    {
     "data": {
      "text/latex": [
       "\\subsection{Error for 02 -> 13}\n"
      ],
      "text/markdown": [
       "## Error for 02 -> 13\n"
      ],
      "text/plain": [
       "\u001b[1m  Error for 02 -> 13\u001b[22m\n",
       "  \u001b[1m==================\u001b[22m"
      ]
     },
     "metadata": {},
     "output_type": "display_data"
    },
    {
     "data": {
      "text/latex": [
       "\\textbf{Population: 0.0\\%}\n",
       "\n"
      ],
      "text/markdown": [
       "**Population: 0.0%**\n"
      ],
      "text/plain": [
       "  \u001b[1mPopulation: 0.0%\u001b[22m"
      ]
     },
     "metadata": {},
     "output_type": "display_data"
    },
    {
     "data": {
      "text/latex": [
       "\\textbf{Parity: 3.87\\%}\n",
       "\n"
      ],
      "text/markdown": [
       "**Parity: 3.87%**\n"
      ],
      "text/plain": [
       "  \u001b[1mParity: 3.87%\u001b[22m"
      ]
     },
     "metadata": {},
     "output_type": "display_data"
    },
    {
     "data": {
      "text/latex": [
       "\\textbf{Total: 1.93\\%}\n",
       "\n"
      ],
      "text/markdown": [
       "**Total: 1.93%**\n"
      ],
      "text/plain": [
       "  \u001b[1mTotal: 1.93%\u001b[22m"
      ]
     },
     "metadata": {},
     "output_type": "display_data"
    },
    {
     "data": {
      "text/plain": [
       "2×2 Matrix{Float64}:\n",
       " -1.11022e-15   1.77636e-15\n",
       "  1.77636e-15  -1.11022e-15"
      ]
     },
     "metadata": {},
     "output_type": "display_data"
    },
    {
     "data": {
      "text/plain": [
       "2×2 Matrix{Float64}:\n",
       " -4.6536   2.1862\n",
       "  2.1862  -4.6536"
      ]
     },
     "metadata": {},
     "output_type": "display_data"
    },
    {
     "data": {
      "text/plain": [
       "2×2 Matrix{Float64}:\n",
       " -2.3268   1.0931\n",
       "  1.0931  -2.3268"
      ]
     },
     "metadata": {},
     "output_type": "display_data"
    },
    {
     "data": {
      "text/latex": [
       "\\subsection{Error for 03 -> 10}\n"
      ],
      "text/markdown": [
       "## Error for 03 -> 10\n"
      ],
      "text/plain": [
       "\u001b[1m  Error for 03 -> 10\u001b[22m\n",
       "  \u001b[1m==================\u001b[22m"
      ]
     },
     "metadata": {},
     "output_type": "display_data"
    },
    {
     "data": {
      "text/latex": [
       "\\textbf{Population: -0.0\\%}\n",
       "\n"
      ],
      "text/markdown": [
       "**Population: -0.0%**\n"
      ],
      "text/plain": [
       "  \u001b[1mPopulation: -0.0%\u001b[22m"
      ]
     },
     "metadata": {},
     "output_type": "display_data"
    },
    {
     "data": {
      "text/latex": [
       "\\textbf{Parity: 3.07\\%}\n",
       "\n"
      ],
      "text/markdown": [
       "**Parity: 3.07%**\n"
      ],
      "text/plain": [
       "  \u001b[1mParity: 3.07%\u001b[22m"
      ]
     },
     "metadata": {},
     "output_type": "display_data"
    },
    {
     "data": {
      "text/latex": [
       "\\textbf{Total: 1.54\\%}\n",
       "\n"
      ],
      "text/markdown": [
       "**Total: 1.54%**\n"
      ],
      "text/plain": [
       "  \u001b[1mTotal: 1.54%\u001b[22m"
      ]
     },
     "metadata": {},
     "output_type": "display_data"
    },
    {
     "data": {
      "text/plain": [
       "2×2 Matrix{Float64}:\n",
       " 0.0          8.32667e-16\n",
       " 8.32667e-16  0.0"
      ]
     },
     "metadata": {},
     "output_type": "display_data"
    },
    {
     "data": {
      "text/plain": [
       "2×2 Matrix{Float64}:\n",
       " -3.7011   1.2337\n",
       "  1.2337  -3.7011"
      ]
     },
     "metadata": {},
     "output_type": "display_data"
    },
    {
     "data": {
      "text/plain": [
       "2×2 Matrix{Float64}:\n",
       " -1.85055   0.61685\n",
       "  0.61685  -1.85055"
      ]
     },
     "metadata": {},
     "output_type": "display_data"
    },
    {
     "data": {
      "text/latex": [
       "\\subsection{Error for 12 -> 23}\n"
      ],
      "text/markdown": [
       "## Error for 12 -> 23\n"
      ],
      "text/plain": [
       "\u001b[1m  Error for 12 -> 23\u001b[22m\n",
       "  \u001b[1m==================\u001b[22m"
      ]
     },
     "metadata": {},
     "output_type": "display_data"
    },
    {
     "data": {
      "text/latex": [
       "\\textbf{Population: 4.1\\%}\n",
       "\n"
      ],
      "text/markdown": [
       "**Population: 4.1%**\n"
      ],
      "text/plain": [
       "  \u001b[1mPopulation: 4.1%\u001b[22m"
      ]
     },
     "metadata": {},
     "output_type": "display_data"
    },
    {
     "data": {
      "text/latex": [
       "\\textbf{Parity: 6.2\\%}\n",
       "\n"
      ],
      "text/markdown": [
       "**Parity: 6.2%**\n"
      ],
      "text/plain": [
       "  \u001b[1mParity: 6.2%\u001b[22m"
      ]
     },
     "metadata": {},
     "output_type": "display_data"
    },
    {
     "data": {
      "text/latex": [
       "\\textbf{Total: 5.15\\%}\n",
       "\n"
      ],
      "text/markdown": [
       "**Total: 5.15%**\n"
      ],
      "text/plain": [
       "  \u001b[1mTotal: 5.15%\u001b[22m"
      ]
     },
     "metadata": {},
     "output_type": "display_data"
    },
    {
     "data": {
      "text/plain": [
       "2×2 Matrix{Float64}:\n",
       " -4.9348  -4.9348\n",
       " -4.9348  -4.9348"
      ]
     },
     "metadata": {},
     "output_type": "display_data"
    },
    {
     "data": {
      "text/plain": [
       "2×2 Matrix{Float64}:\n",
       " -7.45959     0.0573859\n",
       "  0.0573859  -7.45959"
      ]
     },
     "metadata": {},
     "output_type": "display_data"
    },
    {
     "data": {
      "text/plain": [
       "2×2 Matrix{Float64}:\n",
       " -6.1972   -2.43871\n",
       " -2.43871  -6.1972"
      ]
     },
     "metadata": {},
     "output_type": "display_data"
    },
    {
     "data": {
      "text/latex": [
       "\\subsection{Error for 13 -> 20}\n"
      ],
      "text/markdown": [
       "## Error for 13 -> 20\n"
      ],
      "text/plain": [
       "\u001b[1m  Error for 13 -> 20\u001b[22m\n",
       "  \u001b[1m==================\u001b[22m"
      ]
     },
     "metadata": {},
     "output_type": "display_data"
    },
    {
     "data": {
      "text/latex": [
       "\\textbf{Population: 0.0\\%}\n",
       "\n"
      ],
      "text/markdown": [
       "**Population: 0.0%**\n"
      ],
      "text/plain": [
       "  \u001b[1mPopulation: 0.0%\u001b[22m"
      ]
     },
     "metadata": {},
     "output_type": "display_data"
    },
    {
     "data": {
      "text/latex": [
       "\\textbf{Parity: 3.38\\%}\n",
       "\n"
      ],
      "text/markdown": [
       "**Parity: 3.38%**\n"
      ],
      "text/plain": [
       "  \u001b[1mParity: 3.38%\u001b[22m"
      ]
     },
     "metadata": {},
     "output_type": "display_data"
    },
    {
     "data": {
      "text/latex": [
       "\\textbf{Total: 1.69\\%}\n",
       "\n"
      ],
      "text/markdown": [
       "**Total: 1.69%**\n"
      ],
      "text/plain": [
       "  \u001b[1mTotal: 1.69%\u001b[22m"
      ]
     },
     "metadata": {},
     "output_type": "display_data"
    },
    {
     "data": {
      "text/plain": [
       "2×2 Matrix{Float64}:\n",
       " -8.88178e-16   6.93889e-18\n",
       "  6.93889e-18  -8.88178e-16"
      ]
     },
     "metadata": {},
     "output_type": "display_data"
    },
    {
     "data": {
      "text/plain": [
       "2×2 Matrix{Float64}:\n",
       " -4.07005   1.60265\n",
       "  1.60265  -4.07005"
      ]
     },
     "metadata": {},
     "output_type": "display_data"
    },
    {
     "data": {
      "text/plain": [
       "2×2 Matrix{Float64}:\n",
       " -2.03503    0.801325\n",
       "  0.801325  -2.03503"
      ]
     },
     "metadata": {},
     "output_type": "display_data"
    },
    {
     "data": {
      "text/latex": [
       "\\subsection{Error for 23 -> 30}\n"
      ],
      "text/markdown": [
       "## Error for 23 -> 30\n"
      ],
      "text/plain": [
       "\u001b[1m  Error for 23 -> 30\u001b[22m\n",
       "  \u001b[1m==================\u001b[22m"
      ]
     },
     "metadata": {},
     "output_type": "display_data"
    },
    {
     "data": {
      "text/latex": [
       "\\textbf{Population: 4.1\\%}\n",
       "\n"
      ],
      "text/markdown": [
       "**Population: 4.1%**\n"
      ],
      "text/plain": [
       "  \u001b[1mPopulation: 4.1%\u001b[22m"
      ]
     },
     "metadata": {},
     "output_type": "display_data"
    },
    {
     "data": {
      "text/latex": [
       "\\textbf{Parity: 6.26\\%}\n",
       "\n"
      ],
      "text/markdown": [
       "**Parity: 6.26%**\n"
      ],
      "text/plain": [
       "  \u001b[1mParity: 6.26%\u001b[22m"
      ]
     },
     "metadata": {},
     "output_type": "display_data"
    },
    {
     "data": {
      "text/latex": [
       "\\textbf{Total: 5.18\\%}\n",
       "\n"
      ],
      "text/markdown": [
       "**Total: 5.18%**\n"
      ],
      "text/plain": [
       "  \u001b[1mTotal: 5.18%\u001b[22m"
      ]
     },
     "metadata": {},
     "output_type": "display_data"
    },
    {
     "data": {
      "text/plain": [
       "2×2 Matrix{Float64}:\n",
       " -4.9348  -4.9348\n",
       " -4.9348  -4.9348"
      ]
     },
     "metadata": {},
     "output_type": "display_data"
    },
    {
     "data": {
      "text/plain": [
       "2×2 Matrix{Float64}:\n",
       " -7.53752   0.13532\n",
       "  0.13532  -7.53752"
      ]
     },
     "metadata": {},
     "output_type": "display_data"
    },
    {
     "data": {
      "text/plain": [
       "2×2 Matrix{Float64}:\n",
       " -6.23616  -2.39974\n",
       " -2.39974  -6.23616"
      ]
     },
     "metadata": {},
     "output_type": "display_data"
    }
   ],
   "source": [
    "display(md\"# Excitation probability **\\$p=0.7\\$**\")\n",
    "pa::Float64 = 0.7;\n",
    "pb::Float64 = 0.7;\n",
    "disp_sys(sys4, fid01_12, \"01 -> 12\")\n",
    "disp_sys(sys4, fid02_13, \"02 -> 13\")\n",
    "disp_sys(sys4, fid03_10, \"03 -> 10\")\n",
    "disp_sys(sys4, fid12_23, \"12 -> 23\")\n",
    "disp_sys(sys4, fid13_20, \"13 -> 20\")\n",
    "disp_sys(sys4, fid23_30, \"23 -> 30\")\n",
    "display(md\"# Excitation probability **\\$p=1.0\\$**\")\n",
    "pa::Float64 = 1;\n",
    "pb::Float64 = 1;\n",
    "disp_sys(sys4, fid01_12, \"01 -> 12\")\n",
    "disp_sys(sys4, fid02_13, \"02 -> 13\")\n",
    "disp_sys(sys4, fid03_10, \"03 -> 10\")\n",
    "disp_sys(sys4, fid12_23, \"12 -> 23\")\n",
    "disp_sys(sys4, fid13_20, \"13 -> 20\")\n",
    "disp_sys(sys4, fid23_30, \"23 -> 30\")"
   ]
  }
 ],
 "metadata": {
  "kernelspec": {
   "display_name": "Julia 1.12.0-DEV",
   "language": "julia",
   "name": "julia-1.12"
  },
  "language_info": {
   "file_extension": ".jl",
   "mimetype": "application/julia",
   "name": "julia",
   "version": "1.12.0"
  }
 },
 "nbformat": 4,
 "nbformat_minor": 5
}
