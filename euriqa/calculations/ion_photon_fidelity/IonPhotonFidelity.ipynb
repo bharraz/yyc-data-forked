{
 "cells": [
  {
   "cell_type": "code",
   "execution_count": 1,
   "id": "7a02460b-4499-464f-a39d-360d2966c92c",
   "metadata": {},
   "outputs": [
    {
     "data": {
      "text/plain": [
       "min_fidelity! (generic function with 2 methods)"
      ]
     },
     "execution_count": 1,
     "metadata": {},
     "output_type": "execute_result"
    }
   ],
   "source": [
    "include(\"utils.jl\")"
   ]
  },
  {
   "cell_type": "code",
   "execution_count": 2,
   "id": "3f3cd2bb-d0db-47ce-98b1-15084522c67e",
   "metadata": {},
   "outputs": [],
   "source": [
    "using Markdown"
   ]
  },
  {
   "cell_type": "code",
   "execution_count": 3,
   "id": "6e02b631-0658-486f-baab-2861bf32ddff",
   "metadata": {},
   "outputs": [
    {
     "data": {
      "text/plain": [
       "min_fidelity! (generic function with 3 methods)"
      ]
     },
     "execution_count": 3,
     "metadata": {},
     "output_type": "execute_result"
    }
   ],
   "source": [
    "struct ExpInfo{N}\n",
    "    c::IonIonConstraints{N}\n",
    "    corr::Vector{Tuple{Int,Float64}}\n",
    "    function ExpInfo{N}() where N\n",
    "        return new{N}(IonIonConstraints{N}(), Tuple{Int,Float64}[])\n",
    "    end\n",
    "end\n",
    "\n",
    "function combine_fid(f1, u1, f2, u2)\n",
    "    f = (f1 + f2) / 2\n",
    "    u = sqrt(u1^2 + u2^2) / 2\n",
    "    return f, u\n",
    "end\n",
    "\n",
    "function pair_data!(info::ExpInfo{N}, i, j, count, total, fid, fid_unc, pop, pop_unc) where N\n",
    "    @assert i <= N && j <= N\n",
    "    count_unc = sqrt(count)\n",
    "    constraint_pair!(info.c, i, j, fid_lb=fid - fid_unc, fid_ub=fid + fid_unc,\n",
    "                     rate_lb=(count - count_unc) / total, rate_ub=(count + count_unc) / total)\n",
    "    push!(info.corr, (count, pop - pop_unc))\n",
    "end\n",
    "\n",
    "function min_fidelity!(info::ExpInfo; kws...)\n",
    "    fid, _ = min_fidelity!(info.c; kws...)\n",
    "    # Ignore the count uncertainty here.\n",
    "    corr = (1 + sum(c[1] * c[2] for c in info.corr) / sum(c[1] for c in info.corr)) / 2\n",
    "    return fid * corr, fid\n",
    "end"
   ]
  },
  {
   "cell_type": "code",
   "execution_count": 4,
   "id": "f15def5c-19dc-4f5e-82a9-299aa73c5d64",
   "metadata": {},
   "outputs": [
    {
     "name": "stdout",
     "output_type": "stream",
     "text": [
      "Initial result: 0.9673652691963166\n",
      "Randomized result: 0.9673652691963166, 0.9673652691963166\n",
      "Round 2 result: 0.9673652691836394\n",
      "Randomized result: 0.9673652691836343, 0.9673652691836394\n",
      "Round 3 result: 0.9673652691836379\n",
      "Randomized result: 0.9673652691836359, 0.9673652691836379\n",
      "Round 4 result: 0.9673652691836375\n",
      "Randomized result: 0.9673652691836375, 0.9673652691836365\n",
      "Final result: 0.9673652691836372\n"
     ]
    },
    {
     "data": {
      "text/markdown": [
       "# d=2 ion-photon fidelity **95.9%**\n",
       "\n",
       "(**96.7 %** assuming perfect correlation)\n"
      ],
      "text/plain": [
       "\u001b[1m  d=2 ion-photon fidelity \u001b[1m95.9%\u001b[22m\u001b[22m\n",
       "  \u001b[1m≡≡≡≡≡≡≡≡≡≡≡≡≡≡≡≡≡≡≡≡≡≡≡≡≡≡≡≡≡\u001b[22m\n",
       "\n",
       "  (\u001b[1m96.7 %\u001b[22m assuming perfect correlation)"
      ]
     },
     "metadata": {},
     "output_type": "display_data"
    }
   ],
   "source": [
    "info2 = ExpInfo{2}()\n",
    "pair_data!(info2, 1, 2, 380 + 374 + 2109 + 2009, 50000,\n",
    "           combine_fid(0.943, 0.011, 0.947, 0.012)...,\n",
    "           combine_fid(0.988, 0.006, 0.986, 0.006)...)\n",
    "fid2, fid2′ = min_fidelity!(info2, nrounds=5)\n",
    "display(md\"\"\"\n",
    "# d=2 ion-photon fidelity **$(round(fid2 * 100, digits=1))%**\n",
    "\n",
    "(**$(round(fid2′ * 100, digits=1)) %** assuming perfect correlation)\n",
    "\"\"\")"
   ]
  },
  {
   "cell_type": "code",
   "execution_count": 5,
   "id": "e2f3e131-60eb-4a18-a67d-43f7eb310cbc",
   "metadata": {},
   "outputs": [
    {
     "name": "stdout",
     "output_type": "stream",
     "text": [
      "Initial result: 0.9401988270837086\n",
      "Randomized result: 0.9398609441654502, 0.9398610408374733\n",
      "Round 2 result: 0.939233085838523\n",
      "Randomized result: 0.9397934978221002, 0.9398125475051365\n",
      "Round 3 result: 0.9392329332405014\n",
      "Randomized result: 0.9398036568351728, 0.9398033423856242\n",
      "Round 4 result: 0.9392329998064065\n",
      "Randomized result: 0.9398033998445796, 0.9398033550789826\n",
      "Final result: 0.9392330324966185\n"
     ]
    },
    {
     "data": {
      "text/markdown": [
       "# d=3 ion-photon fidelity **93.1%**\n",
       "\n",
       "(**93.9 %** assuming perfect correlation)\n"
      ],
      "text/plain": [
       "\u001b[1m  d=3 ion-photon fidelity \u001b[1m93.1%\u001b[22m\u001b[22m\n",
       "  \u001b[1m≡≡≡≡≡≡≡≡≡≡≡≡≡≡≡≡≡≡≡≡≡≡≡≡≡≡≡≡≡\u001b[22m\n",
       "\n",
       "  (\u001b[1m93.9 %\u001b[22m assuming perfect correlation)"
      ]
     },
     "metadata": {},
     "output_type": "display_data"
    }
   ],
   "source": [
    "info3 = ExpInfo{3}()\n",
    "pair_data!(info3, 1, 2, 220 + 194 + 3423 + 3416, 250000,\n",
    "           combine_fid(0.912, 0.012, 0.935, 0.010)...,\n",
    "           combine_fid(0.984, 0.009, 0.987, 0.008)...)\n",
    "pair_data!(info3, 1, 3, 212 + 220 + 3560 + 3499, 250000,\n",
    "           combine_fid(0.947, 0.016, 0.946, 0.011)...,\n",
    "           combine_fid(0.993, 0.006, 0.984, 0.009)...)\n",
    "pair_data!(info3, 2, 3, 191 + 212 + 3382 + 3350, 250000,\n",
    "           combine_fid(0.903, 0.014, 0.898, 0.013)...,\n",
    "           combine_fid(0.992, 0.007, 0.993, 0.006)...)\n",
    "fid3, fid3′ = min_fidelity!(info3, nrounds=5)\n",
    "display(md\"\"\"\n",
    "# d=3 ion-photon fidelity **$(round(fid3 * 100, digits=1))%**\n",
    "\n",
    "(**$(round(fid3′ * 100, digits=1)) %** assuming perfect correlation)\n",
    "\"\"\")"
   ]
  },
  {
   "cell_type": "code",
   "execution_count": 6,
   "id": "fa226eac-601b-46d0-a7e9-d60ede21ef85",
   "metadata": {},
   "outputs": [
    {
     "name": "stdout",
     "output_type": "stream",
     "text": [
      "Initial result: 0.9235184722970151\n",
      "Randomized result: 0.9231367873723818, 0.9232740321510318\n",
      "Round 2 result: 0.9235282375759264\n",
      "Randomized result: 0.9232686873632514, 0.9233024629746179\n",
      "Round 3 result: 0.9235282452581953\n",
      "Randomized result: 0.9232381727560834, 0.9232739820822645\n",
      "Round 4 result: 0.9235389789464936\n",
      "Randomized result: 0.9232886372546651, 0.9230600155710736\n",
      "Final result: 0.9235283187721219\n"
     ]
    },
    {
     "data": {
      "text/markdown": [
       "# d=4 ion-photon fidelity **91.3%**\n",
       "\n",
       "(**92.4 %** assuming perfect correlation)\n"
      ],
      "text/plain": [
       "\u001b[1m  d=4 ion-photon fidelity \u001b[1m91.3%\u001b[22m\u001b[22m\n",
       "  \u001b[1m≡≡≡≡≡≡≡≡≡≡≡≡≡≡≡≡≡≡≡≡≡≡≡≡≡≡≡≡≡\u001b[22m\n",
       "\n",
       "  (\u001b[1m92.4 %\u001b[22m assuming perfect correlation)"
      ]
     },
     "metadata": {},
     "output_type": "display_data"
    }
   ],
   "source": [
    "info4 = ExpInfo{4}()\n",
    "pair_data!(info4, 1, 2, 290 + 304 + 1142 + 1030, 500000,\n",
    "           combine_fid(0.953, 0.020, 0.941, 0.016)...,\n",
    "           combine_fid(0.991, 0.006, 0.992, 0.005)...)\n",
    "pair_data!(info4, 1, 3, 367 + 323 + 1346 + 1238, 500000,\n",
    "           combine_fid(0.952, 0.016, 0.938, 0.012)...,\n",
    "           combine_fid(0.993, 0.004, 0.992, 0.005)...)\n",
    "pair_data!(info4, 2, 3, 286 + 309 + 1160 + 1149, 500000,\n",
    "           combine_fid(0.922, 0.016, 0.922, 0.018)...,\n",
    "           combine_fid(0.977, 0.009, 0.973, 0.009)...)\n",
    "pair_data!(info4, 1, 4, 333 + 332 + 1236 + 1275, 500000,\n",
    "           combine_fid(0.896, 0.017, 0.862, 0.019)...,\n",
    "           combine_fid(0.966, 0.010, 0.953, 0.012)...)\n",
    "pair_data!(info4, 2, 4, 295 + 294 + 1107 + 1070, 500000,\n",
    "           combine_fid(0.982, 0.013, 0.972, 0.014)...,\n",
    "           combine_fid(0.988, 0.006, 0.985, 0.007)...)\n",
    "pair_data!(info4, 3, 4, 361 + 338 + 1284 + 1262, 500000,\n",
    "           combine_fid(0.863, 0.020, 0.842, 0.020)...,\n",
    "           combine_fid(0.982, 0.007, 0.993, 0.005)...)\n",
    "fid4, fid4′ = min_fidelity!(info4, nrounds=5)\n",
    "display(md\"\"\"\n",
    "# d=4 ion-photon fidelity **$(round(fid4 * 100, digits=1))%**\n",
    "\n",
    "(**$(round(fid4′ * 100, digits=1)) %** assuming perfect correlation)\n",
    "\"\"\")"
   ]
  }
 ],
 "metadata": {
  "kernelspec": {
   "display_name": "Julia 1.12.0-DEV",
   "language": "julia",
   "name": "julia-1.12"
  },
  "language_info": {
   "file_extension": ".jl",
   "mimetype": "application/julia",
   "name": "julia",
   "version": "1.12.0"
  }
 },
 "nbformat": 4,
 "nbformat_minor": 5
}
