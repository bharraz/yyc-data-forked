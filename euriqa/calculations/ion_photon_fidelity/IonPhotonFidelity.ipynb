{
 "cells": [
  {
   "cell_type": "code",
   "execution_count": 1,
   "id": "7a02460b-4499-464f-a39d-360d2966c92c",
   "metadata": {},
   "outputs": [
    {
     "data": {
      "text/plain": [
       "min_fidelity! (generic function with 2 methods)"
      ]
     },
     "execution_count": 1,
     "metadata": {},
     "output_type": "execute_result"
    }
   ],
   "source": [
    "include(\"utils.jl\")"
   ]
  },
  {
   "cell_type": "code",
   "execution_count": 2,
   "id": "b672faf4-261d-4e37-bcca-7298ded56069",
   "metadata": {},
   "outputs": [],
   "source": [
    "c = IonIonConstraints{4}();"
   ]
  },
  {
   "cell_type": "code",
   "execution_count": 3,
   "id": "f15def5c-19dc-4f5e-82a9-299aa73c5d64",
   "metadata": {},
   "outputs": [
    {
     "name": "stdout",
     "output_type": "stream",
     "text": [
      "  3.451369 seconds (11.57 M allocations: 541.758 MiB, 1.93% gc time, 77.61% compilation time)\n",
      "Initial result: 0.9038348415266731\n",
      "  6.583534 seconds (36.48 M allocations: 1.441 GiB, 2.30% gc time)\n",
      "  6.612026 seconds (36.48 M allocations: 1.441 GiB, 2.04% gc time)\n",
      "Randomized result: 0.9022859132740514, 0.9023252873973031\n",
      "  6.718207 seconds (37.26 M allocations: 1.458 GiB, 2.02% gc time)\n",
      "Round 2 result: 0.8760354057580858\n",
      "  6.671741 seconds (36.70 M allocations: 1.446 GiB, 2.10% gc time)\n",
      "  6.653454 seconds (36.72 M allocations: 1.446 GiB, 2.09% gc time)\n",
      "Randomized result: 0.8761546661261856, 0.876453759643797\n",
      "  1.416338 seconds (7.87 M allocations: 316.631 MiB, 1.91% gc time)\n",
      "Round 3 result: 0.8763936132760209\n",
      "  6.617827 seconds (36.48 M allocations: 1.441 GiB, 2.09% gc time)\n",
      "  6.667825 seconds (36.48 M allocations: 1.441 GiB, 2.06% gc time)\n",
      "Randomized result: 0.8760080111017743, 0.8760174772081828\n",
      "  0.734488 seconds (3.93 M allocations: 158.466 MiB, 2.14% gc time)\n",
      "Final result: 0.8763943689684529\n"
     ]
    }
   ],
   "source": [
    "for i in 1:3\n",
    "    for j in i + 1:4\n",
    "        constraint_pair!(c, i, j, fid_lb=0.88, fid_ub=1, rate_lb=0.04, rate_ub=0.1)\n",
    "    end\n",
    "end\n",
    "fid, fid_m = min_fidelity!(c);"
   ]
  },
  {
   "cell_type": "code",
   "execution_count": 4,
   "id": "e2f3e131-60eb-4a18-a67d-43f7eb310cbc",
   "metadata": {},
   "outputs": [
    {
     "name": "stdout",
     "output_type": "stream",
     "text": [
      "  0.780452 seconds (4.37 M allocations: 179.064 MiB, 2.54% gc time)\n",
      "Initial result: 0.903834841531101\n",
      "  6.595892 seconds (36.48 M allocations: 1.441 GiB, 2.04% gc time)\n",
      "  6.573553 seconds (36.48 M allocations: 1.441 GiB, 2.06% gc time)\n",
      "Randomized result: 0.902311639771712, 0.9023845271226741\n",
      "  2.550988 seconds (14.10 M allocations: 564.670 MiB, 2.05% gc time)\n",
      "Round 2 result: 0.8299104526703124\n",
      "  6.584117 seconds (36.55 M allocations: 1.443 GiB, 2.07% gc time)\n",
      "  6.632451 seconds (36.53 M allocations: 1.442 GiB, 2.13% gc time)\n",
      "Randomized result: 0.829695614132438, 0.829672887365081\n",
      "  1.563976 seconds (8.46 M allocations: 340.413 MiB, 1.83% gc time)\n",
      "Round 3 result: 0.8299622092932957\n",
      "  6.577730 seconds (36.48 M allocations: 1.441 GiB, 2.16% gc time)\n",
      "  6.625157 seconds (36.48 M allocations: 1.441 GiB, 2.11% gc time)\n",
      "Randomized result: 0.8295093204390905, 0.8295931165692411\n",
      "  1.195691 seconds (6.64 M allocations: 268.162 MiB, 1.81% gc time)\n",
      "Final result: 0.8299640954015252\n"
     ]
    }
   ],
   "source": [
    "for i in 1:3\n",
    "    for j in i + 1:4\n",
    "        constraint_pair!(c, i, j, fid_lb=0.88, fid_ub=1, rate_lb=0.02, rate_ub=0.12)\n",
    "    end\n",
    "end\n",
    "fid, fid_m = min_fidelity!(c);"
   ]
  },
  {
   "cell_type": "code",
   "execution_count": 5,
   "id": "fa226eac-601b-46d0-a7e9-d60ede21ef85",
   "metadata": {},
   "outputs": [
    {
     "name": "stdout",
     "output_type": "stream",
     "text": [
      "  0.821946 seconds (4.39 M allocations: 179.563 MiB, 4.70% gc time)\n",
      "Initial result: 0.9208203932499369\n",
      "  6.630711 seconds (36.48 M allocations: 1.441 GiB, 2.11% gc time)\n",
      "  6.523897 seconds (36.48 M allocations: 1.441 GiB, 2.06% gc time)\n",
      "Randomized result: 0.9193086969842852, 0.919271928281984\n",
      "  0.740936 seconds (4.11 M allocations: 166.074 MiB, 2.37% gc time)\n",
      "Round 2 result: 0.9195303219140277\n",
      "  6.549249 seconds (36.48 M allocations: 1.441 GiB, 2.07% gc time)\n",
      "  6.506090 seconds (36.48 M allocations: 1.441 GiB, 2.06% gc time)\n",
      "Randomized result: 0.9187877626437166, 0.9187551953404407\n",
      "  0.600850 seconds (3.34 M allocations: 134.694 MiB, 1.88% gc time)\n",
      "Round 3 result: 0.9195342313433135\n",
      "  6.543904 seconds (36.48 M allocations: 1.441 GiB, 2.05% gc time)\n",
      "  6.590639 seconds (36.48 M allocations: 1.441 GiB, 2.05% gc time)\n",
      "Randomized result: 0.9186916833208135, 0.9187712191297865\n",
      "  2.349272 seconds (13.26 M allocations: 535.673 MiB, 1.97% gc time)\n",
      "Final result: 0.9195341701025687\n"
     ]
    }
   ],
   "source": [
    "for i in 1:3\n",
    "    for j in i + 1:4\n",
    "        constraint_pair!(c, i, j, fid_lb=0.9, fid_ub=0.95, rate_lb=0.09, rate_ub=0.1)\n",
    "    end\n",
    "end\n",
    "fid, fid_m = min_fidelity!(c);"
   ]
  }
 ],
 "metadata": {
  "kernelspec": {
   "display_name": "Julia 1.12.0-DEV",
   "language": "julia",
   "name": "julia-1.12"
  },
  "language_info": {
   "file_extension": ".jl",
   "mimetype": "application/julia",
   "name": "julia",
   "version": "1.12.0"
  }
 },
 "nbformat": 4,
 "nbformat_minor": 5
}
