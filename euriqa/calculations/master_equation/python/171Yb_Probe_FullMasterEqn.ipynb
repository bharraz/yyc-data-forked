{
 "cells": [
  {
   "cell_type": "code",
   "execution_count": 1,
   "id": "33642e3a-af8d-4643-8812-980f777e64e7",
   "metadata": {},
   "outputs": [],
   "source": [
    "import numpy as np\n",
    "import matplotlib.pyplot as plt\n",
    "from qutip import *\n",
    "from const_mesolve import const_mesolve"
   ]
  },
  {
   "cell_type": "code",
   "execution_count": 2,
   "id": "6ccd09e9-5dda-4f26-b820-a05188079214",
   "metadata": {},
   "outputs": [],
   "source": [
    "# 3P1 linewidth \n",
    "Gamma = 182e3 * 2 * np.pi\n",
    "\n",
    "# I_sat: 0.14 W/cm^2\n",
    "I_sat = 0.14\n",
    "\n",
    "# Branching ratio:\n",
    "# --    --    --  --\n",
    "#  \\    |     /\n",
    "#   1  2/3  1/3\n",
    "#       --"
   ]
  },
  {
   "cell_type": "code",
   "execution_count": 3,
   "id": "fb788322-6e9c-400c-9690-31393d44572b",
   "metadata": {},
   "outputs": [],
   "source": [
    "def Freq_offset(B=60):\n",
    "    return (np.array([0, 3, 3, 0])           # Tensor light shift\n",
    "            + 1.4*B*np.array([0, 1, 2, 3])   # Zeeman splitting\n",
    "            + 0.1)*2e6*np.pi                 # Detuning from -3/2\n",
    "\n",
    "def Zeeman_01(B=60):\n",
    "    return -750*B*2*np.pi\n",
    "\n",
    "def R_sc(detuning, I=I_sat):\n",
    "    return Gamma/2*(I/I_sat)/(1+4*(detuning/Gamma)**2+I/I_sat)\n",
    "\n",
    "# def Omega_s2p(B=60, I=I_sat):\n",
    "#     Omega_ = Gamma*np.sqrt(I/(3*2*I_sat))\n",
    "#     return Omega_"
   ]
  },
  {
   "cell_type": "code",
   "execution_count": 4,
   "id": "6569a01e-c31a-4351-b912-612a04c7d119",
   "metadata": {},
   "outputs": [
    {
     "data": {
      "text/plain": [
       "5.681716201672969"
      ]
     },
     "execution_count": 4,
     "metadata": {},
     "output_type": "execute_result"
    }
   ],
   "source": [
    "R_sc(2*np.pi*50e6, 3*I_sat)#/2/np.pi"
   ]
  },
  {
   "cell_type": "code",
   "execution_count": 5,
   "id": "0db9908f-c2a9-4a14-b393-33b3e56b25b8",
   "metadata": {},
   "outputs": [],
   "source": [
    "M_02 = np.array([[0, 0, 1, 0, 0, 0], [0, 0, 0, 0, 0, 0], [1, 0, 0, 0, 0, 0], [0, 0, 0, 0, 0, 0], [0, 0, 0, 0, 0, 0], [0, 0, 0, 0, 0, 0]])\n",
    "M_03 = np.array([[0, 0, 0, 1, 0, 0], [0, 0, 0, 0, 0, 0], [0, 0, 0, 0, 0, 0], [1, 0, 0, 0, 0, 0], [0, 0, 0, 0, 0, 0], [0, 0, 0, 0, 0, 0]])\n",
    "M_04 = np.array([[0, 0, 0, 0, 1, 0], [0, 0, 0, 0, 0, 0], [0, 0, 0, 0, 0, 0], [0, 0, 0, 0, 0, 0], [1, 0, 0, 0, 0, 0], [0, 0, 0, 0, 0, 0]])\n",
    "M_13 = np.array([[0, 0, 0, 0, 0, 0], [0, 0, 0, 1, 0, 0], [0, 0, 0, 0, 0, 0], [0, 1, 0, 0, 0, 0], [0, 0, 0, 0, 0, 0], [0, 0, 0, 0, 0, 0]])\n",
    "M_14 = np.array([[0, 0, 0, 0, 0, 0], [0, 0, 0, 0, 1, 0], [0, 0, 0, 0, 0, 0], [0, 0, 0, 0, 0, 0], [0, 1, 0, 0, 0, 0], [0, 0, 0, 0, 0, 0]])\n",
    "M_15 = np.array([[0, 0, 0, 0, 0, 0], [0, 0, 0, 0, 0, 1], [0, 0, 0, 0, 0, 0], [0, 0, 0, 0, 0, 0], [0, 0, 0, 0, 0, 0], [0, 1, 0, 0, 0, 0]])\n",
    "Hx_02 = Qobj(M_02)\n",
    "Hx_03 = Qobj(M_03)\n",
    "Hx_04 = Qobj(M_04)\n",
    "Hx_13 = Qobj(M_13)\n",
    "Hx_14 = Qobj(M_14)\n",
    "Hx_15 = Qobj(M_15)\n",
    "\n",
    "M_20 = np.array([[0, 0, 1, 0, 0, 0], [0, 0, 0, 0, 0, 0], [0, 0, 0, 0, 0, 0], [0, 0, 0, 0, 0, 0], [0, 0, 0, 0, 0, 0], [0, 0, 0, 0, 0, 0]])\n",
    "M_30 = np.array([[0, 0, 0, 1, 0, 0], [0, 0, 0, 0, 0, 0], [0, 0, 0, 0, 0, 0], [0, 0, 0, 0, 0, 0], [0, 0, 0, 0, 0, 0], [0, 0, 0, 0, 0, 0]])\n",
    "M_40 = np.array([[0, 0, 0, 0, 1, 0], [0, 0, 0, 0, 0, 0], [0, 0, 0, 0, 0, 0], [0, 0, 0, 0, 0, 0], [0, 0, 0, 0, 0, 0], [0, 0, 0, 0, 0, 0]])\n",
    "M_31 = np.array([[0, 0, 0, 0, 0, 0], [0, 0, 0, 1, 0, 0], [0, 0, 0, 0, 0, 0], [0, 0, 0, 0, 0, 0], [0, 0, 0, 0, 0, 0], [0, 0, 0, 0, 0, 0]])\n",
    "M_41 = np.array([[0, 0, 0, 0, 0, 0], [0, 0, 0, 0, 1, 0], [0, 0, 0, 0, 0, 0], [0, 0, 0, 0, 0, 0], [0, 0, 0, 0, 0, 0], [0, 0, 0, 0, 0, 0]])\n",
    "M_51 = np.array([[0, 0, 0, 0, 0, 0], [0, 0, 0, 0, 0, 1], [0, 0, 0, 0, 0, 0], [0, 0, 0, 0, 0, 0], [0, 0, 0, 0, 0, 0], [0, 0, 0, 0, 0, 0]])\n",
    "C_20 = Qobj(M_20)\n",
    "C_30 = Qobj(M_30)\n",
    "C_40 = Qobj(M_40)\n",
    "C_31 = Qobj(M_31)\n",
    "C_41 = Qobj(M_41)\n",
    "C_51 = Qobj(M_51)"
   ]
  },
  {
   "cell_type": "code",
   "execution_count": 6,
   "id": "626e5c41-f58f-4ba9-9fec-b853b2644fd7",
   "metadata": {},
   "outputs": [],
   "source": [
    "# C_51\n",
    "# fock_dm(6, 5)"
   ]
  },
  {
   "cell_type": "code",
   "execution_count": 48,
   "id": "62514fa8",
   "metadata": {},
   "outputs": [],
   "source": [
    "def H_full(tList, B=60, I=3*I_sat):\n",
    "    # (1S0, mF=-1/2), (1S0, mF=1/2), (3P1, mF=-3/2), (3P1, mF=-1/2), (3P1, mF=1/2), (3P1, mF=3/2)\n",
    "    Omega_s2p = Gamma*np.sqrt(I/(3*2*I_sat))\n",
    "    H = Zeeman_01(B)*fock_dm(6, 1) + Freq_offset(B)[0]*fock_dm(6, 2) + Freq_offset(B)[1]*fock_dm(6, 3) \\\n",
    "        + Freq_offset(B)[2]*fock_dm(6, 4) + Freq_offset(B)[3]*fock_dm(6, 5) + Omega_s2p*(Hx_02+2/3*Hx_03+1/3*Hx_04+1/3*Hx_13+2/3*Hx_14+Hx_15)\n",
    "        \n",
    "    c_ops = [np.sqrt(Gamma)*C_20, \n",
    "             np.sqrt(Gamma*2/3)*C_30, \n",
    "             np.sqrt(Gamma*1/3)*C_40, \n",
    "             np.sqrt(Gamma*1/3)*C_31, \n",
    "             np.sqrt(Gamma*2/3)*C_41, \n",
    "             np.sqrt(Gamma)*C_51, ]\n",
    "    \n",
    "    psi_0 = fock(6, 0)\n",
    "    obs = [fock_dm(6, 0), fock_dm(6, 1), fock_dm(6, 2),\n",
    "           fock_dm(6, 3), fock_dm(6, 4), fock_dm(6, 5)]\n",
    "    \n",
    "    states = const_mesolve(H, psi_0, tList, c_ops, obs).expect\n",
    "    \n",
    "    return states"
   ]
  },
  {
   "cell_type": "code",
   "execution_count": 63,
   "id": "a7ceb9dc-6dce-464f-aed0-770ae33050ef",
   "metadata": {},
   "outputs": [],
   "source": [
    "tList = np.linspace(0, 10, 1501)\n",
    "test = H_full(tList, I=3*I_sat)"
   ]
  },
  {
   "cell_type": "code",
   "execution_count": 64,
   "id": "d4d3d3a8-79c4-44de-93f1-64b72fb6cbfc",
   "metadata": {},
   "outputs": [
    {
     "data": {
      "text/plain": [
       "(-0.05, 1.05)"
      ]
     },
     "execution_count": 64,
     "metadata": {},
     "output_type": "execute_result"
    },
    {
     "data": {
      "image/png": "[encoded data removed]",
      "text/plain": [
       "<Figure size 640x480 with 1 Axes>"
      ]
     },
     "metadata": {},
     "output_type": "display_data"
    }
   ],
   "source": [
    "plt.plot(tList, test[0], label=\"0\")\n",
    "plt.plot(tList, test[1], label=\"1\")\n",
    "plt.plot(tList, test[2], label=\"2\")\n",
    "plt.plot(tList, test[3], label=\"3\")\n",
    "plt.plot(tList, test[4], label=\"4\")\n",
    "plt.plot(tList, test[5], label=\"5\")\n",
    "plt.legend(ncol=3)\n",
    "plt.ylim([-0.05, 1.05])\n",
    "# # np.array(test).shape\n",
    "# test[0]"
   ]
  },
  {
   "cell_type": "code",
   "execution_count": 10,
   "id": "8fbd7def-0ce5-4f15-9c19-a7a0b82aff8d",
   "metadata": {},
   "outputs": [
    {
     "data": {
      "text/plain": [
       "'other'"
      ]
     },
     "execution_count": 10,
     "metadata": {},
     "output_type": "execute_result"
    }
   ],
   "source": [
    "test = (tensor(fock(4, 2), fock(4, 0).dag()))\n",
    "# test\n",
    "test.dims=[4, 4]\n",
    "test.type\n",
    "# test.type='oper'"
   ]
  },
  {
   "cell_type": "code",
   "execution_count": 11,
   "id": "76e791fa-36aa-44c6-a981-a90cbce57568",
   "metadata": {},
   "outputs": [
    {
     "data": {
      "text/latex": [
       "Quantum object: dims = [[4], [4]], shape = (4, 4), type = oper, isherm = True $ \\\\ \\left(\\begin{matrix}0.0 & 0.0 & 0.0 & 0.0\\\\0.0 & 0.0 & 0.0 & 1.0\\\\0.0 & 0.0 & 0.0 & 0.0\\\\0.0 & 1.0 & 0.0 & 0.0\\\\\\end{matrix}\\right)$"
      ],
      "text/plain": [
       "Quantum object: dims = [[4], [4]], shape = (4, 4), type = oper, isherm = True\n",
       "Qobj data =\n",
       "[[0. 0. 0. 0.]\n",
       " [0. 0. 0. 1.]\n",
       " [0. 0. 0. 0.]\n",
       " [0. 1. 0. 0.]]"
      ]
     },
     "execution_count": 11,
     "metadata": {},
     "output_type": "execute_result"
    }
   ],
   "source": [
    "M_02 = np.array([[0, 0, 1, 0], [0, 0, 0, 0], [1, 0, 0, 0], [0, 0, 0, 0]])\n",
    "M_03 = np.array([[0, 0, 0, 1], [0, 0, 0, 0], [0, 0, 0, 0], [1, 0, 0, 0]])\n",
    "M_13 = np.array([[0, 0, 0, 0], [0, 0, 0, 1], [0, 0, 0, 0], [0, 1, 0, 0]])\n",
    "Qobj(M_13)"
   ]
  },
  {
   "cell_type": "code",
   "execution_count": 12,
   "id": "5d2f1743-f643-40f4-9c7e-a3fe4ebba0a7",
   "metadata": {},
   "outputs": [
    {
     "data": {
      "text/latex": [
       "Quantum object: dims = [[6], [6]], shape = (6, 6), type = oper, isherm = True $ \\\\ \\left(\\begin{matrix}0.0 & 0.0 & 0.0 & 0.0 & 0.0 & 0.0\\\\0.0 & 0.0 & 0.0 & 1.0 & 0.0 & 0.0\\\\0.0 & 0.0 & 0.0 & 0.0 & 0.0 & 0.0\\\\0.0 & 1.0 & 0.0 & 0.0 & 0.0 & 0.0\\\\0.0 & 0.0 & 0.0 & 0.0 & 0.0 & 0.0\\\\0.0 & 0.0 & 0.0 & 0.0 & 0.0 & 0.0\\\\\\end{matrix}\\right)$"
      ],
      "text/plain": [
       "Quantum object: dims = [[6], [6]], shape = (6, 6), type = oper, isherm = True\n",
       "Qobj data =\n",
       "[[0. 0. 0. 0. 0. 0.]\n",
       " [0. 0. 0. 1. 0. 0.]\n",
       " [0. 0. 0. 0. 0. 0.]\n",
       " [0. 1. 0. 0. 0. 0.]\n",
       " [0. 0. 0. 0. 0. 0.]\n",
       " [0. 0. 0. 0. 0. 0.]]"
      ]
     },
     "execution_count": 12,
     "metadata": {},
     "output_type": "execute_result"
    }
   ],
   "source": [
    "Hx_13"
   ]
  },
  {
   "cell_type": "code",
   "execution_count": null,
   "id": "e51a1930-c145-4560-b240-858939003a11",
   "metadata": {},
   "outputs": [],
   "source": []
  }
 ],
 "metadata": {
  "kernelspec": {
   "display_name": "Python 3 (ipykernel)",
   "language": "python",
   "name": "python3"
  },
  "language_info": {
   "codemirror_mode": {
    "name": "ipython",
    "version": 3
   },
   "file_extension": ".py",
   "mimetype": "text/x-python",
   "name": "python",
   "nbconvert_exporter": "python",
   "pygments_lexer": "ipython3",
   "version": "3.10.10"
  }
 },
 "nbformat": 4,
 "nbformat_minor": 5
}
