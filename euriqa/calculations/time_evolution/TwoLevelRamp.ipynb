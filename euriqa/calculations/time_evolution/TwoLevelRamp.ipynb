{
 "cells": [
  {
   "cell_type": "code",
   "execution_count": 2,
   "id": "d540ef48-b485-4f3d-8d7d-4a20a57c7822",
   "metadata": {},
   "outputs": [],
   "source": [
    "include(\"two-level.jl\")\n",
    "using BenchmarkTools\n",
    "using OrdinaryDiffEq\n",
    "using PyPlot"
   ]
  },
  {
   "cell_type": "code",
   "execution_count": 8,
   "id": "18da4d4f-9714-4d28-9980-8d939302cbbd",
   "metadata": {},
   "outputs": [
    {
     "data": {
      "text/plain": [
       "get_p2 (generic function with 1 method)"
      ]
     },
     "execution_count": 8,
     "metadata": {},
     "output_type": "execute_result"
    }
   ],
   "source": [
    "function up_and_down(Ωmax, δ, t)\n",
    "    ψ0 = (1.0+0im, 0.0im)\n",
    "    ψ1 = evolve(ψ0, TwoLevelPropagator(0, Ωmax / t, δ, 0), t)\n",
    "    ψ2 = evolve(ψ1, TwoLevelPropagator(Ωmax, -Ωmax / t, δ, 0), t)\n",
    "    return ψ2\n",
    "end\n",
    "get_p1(ψ) = abs2(ψ[1])\n",
    "get_p2(ψ) = abs2(ψ[2])"
   ]
  },
  {
   "cell_type": "code",
   "execution_count": 18,
   "id": "3903a524-742c-4a68-99a4-2e6a4434aa76",
   "metadata": {},
   "outputs": [
    {
     "data": {
      "text/plain": [
       "-1.8849555921538759e6:188.50498446461083:1.8849555921538759e6"
      ]
     },
     "execution_count": 18,
     "metadata": {},
     "output_type": "execute_result"
    }
   ],
   "source": [
    "Ωmax = 2π * 400e3\n",
    "tlen = 100e-6\n",
    "δs = 2π .* range(-300e3, 300e3, 20000)"
   ]
  },
  {
   "cell_type": "code",
   "execution_count": 19,
   "id": "660696fb-94b7-435c-832b-1ad3c7b7bc17",
   "metadata": {},
   "outputs": [
    {
     "data": {
      "image/png": "[encoded data removed]",
      "text/plain": [
       "Figure(PyObject <Figure size 640x480 with 1 Axes>)"
      ]
     },
     "metadata": {},
     "output_type": "display_data"
    },
    {
     "data": {
      "text/plain": [
       "1-element Vector{PyCall.PyObject}:\n",
       " PyObject <matplotlib.lines.Line2D object at 0xfffe4659cf80>"
      ]
     },
     "execution_count": 19,
     "metadata": {},
     "output_type": "execute_result"
    }
   ],
   "source": [
    "plot(δs, get_p1.(up_and_down.(Ωmax, δs, tlen)))"
   ]
  },
  {
   "cell_type": "code",
   "execution_count": 5,
   "id": "354707c8-ccb7-495a-b80d-d2187f58ee9c",
   "metadata": {},
   "outputs": [
    {
     "name": "stdout",
     "output_type": "stream",
     "text": [
      "  676.849 μs (16473 allocations: 1.07 MiB)\n",
      "  2.708 μs (87 allocations: 5.41 KiB)\n"
     ]
    }
   ],
   "source": [
    "@btime sim_LZ(MagnusCalc);\n",
    "@btime sim_LZ(MagnusCalc, 2);"
   ]
  },
  {
   "cell_type": "code",
   "execution_count": 6,
   "id": "a35a405f-4ce4-450a-9e4b-a8cf60fe5155",
   "metadata": {},
   "outputs": [
    {
     "name": "stdout",
     "output_type": "stream",
     "text": [
      "  22.957 μs (6 allocations: 39.33 KiB)\n",
      "  171.917 ns (4 allocations: 224 bytes)\n"
     ]
    }
   ],
   "source": [
    "@btime sim_LZ(MagnusAnalyticCalc);\n",
    "@btime sim_LZ(MagnusAnalyticCalc, 2);"
   ]
  },
  {
   "cell_type": "code",
   "execution_count": 7,
   "id": "0d8f86c3-acac-4a96-857a-10b039a298a0",
   "metadata": {},
   "outputs": [
    {
     "data": {
      "text/plain": [
       "sim_LZ2 (generic function with 2 methods)"
      ]
     },
     "execution_count": 7,
     "metadata": {},
     "output_type": "execute_result"
    }
   ],
   "source": [
    "function sim_LZ2(::Type{T}, npoints=1001; kws...) where T\n",
    "    sys = T(100, 100, -50000, 50000, 10)\n",
    "    ts, ψs = evolve(sys, npoints; kws...)\n",
    "end"
   ]
  },
  {
   "cell_type": "code",
   "execution_count": 8,
   "id": "1af25581-dfe0-4357-a3ad-a6d71b6de23e",
   "metadata": {},
   "outputs": [
    {
     "name": "stdout",
     "output_type": "stream",
     "text": [
      "  101.803 ms (3141 allocations: 238.75 KiB)\n",
      "  102.117 ms (129 allocations: 7.92 KiB)\n",
      "  102.364 ms (17151 allocations: 895.72 KiB)\n",
      "  101.941 ms (153 allocations: 9.30 KiB)\n",
      "  96.949 ms (25157 allocations: 1.24 MiB)\n",
      "  95.631 ms (167 allocations: 10.17 KiB)\n"
     ]
    }
   ],
   "source": [
    "@btime sim_LZ2(LabBasisCalc);\n",
    "@btime sim_LZ2(LabBasisCalc, 2);\n",
    "@btime sim_LZ2(LabBasisCalc, alg=Vern7());\n",
    "@btime sim_LZ2(LabBasisCalc, 2, alg=Vern7());\n",
    "@btime sim_LZ2(LabBasisCalc, alg=Vern9());\n",
    "@btime sim_LZ2(LabBasisCalc, 2, alg=Vern9());"
   ]
  },
  {
   "cell_type": "code",
   "execution_count": 9,
   "id": "8ae6c512-f7f8-41c5-8aa9-74a45049c5c6",
   "metadata": {},
   "outputs": [
    {
     "name": "stdout",
     "output_type": "stream",
     "text": [
      "  208.337 ms (17114 allocations: 550.92 KiB)\n",
      "  207.877 ms (152 allocations: 8.47 KiB)\n",
      "  140.026 ms (31124 allocations: 1.18 MiB)\n",
      "  137.795 ms (176 allocations: 9.84 KiB)\n",
      "  124.843 ms (39130 allocations: 1.55 MiB)\n",
      "  123.392 ms (190 allocations: 10.72 KiB)\n"
     ]
    }
   ],
   "source": [
    "@btime sim_LZ2(RotBasisCalc);\n",
    "@btime sim_LZ2(RotBasisCalc, 2);\n",
    "@btime sim_LZ2(RotBasisCalc, alg=Vern7());\n",
    "@btime sim_LZ2(RotBasisCalc, 2, alg=Vern7());\n",
    "@btime sim_LZ2(RotBasisCalc, alg=Vern9());\n",
    "@btime sim_LZ2(RotBasisCalc, 2, alg=Vern9());"
   ]
  },
  {
   "cell_type": "code",
   "execution_count": 10,
   "id": "78d77398-fa15-436d-9c6c-546ae8d370de",
   "metadata": {},
   "outputs": [
    {
     "name": "stdout",
     "output_type": "stream",
     "text": [
      "  905.135 μs (16093 allocations: 1.16 MiB)\n",
      "  3.469 μs (87 allocations: 5.41 KiB)\n"
     ]
    }
   ],
   "source": [
    "@btime sim_LZ2(MagnusCalc);\n",
    "@btime sim_LZ2(MagnusCalc, 2);"
   ]
  },
  {
   "cell_type": "code",
   "execution_count": 11,
   "id": "3e43cec6-81cd-4cc8-9736-de39bb8e6839",
   "metadata": {},
   "outputs": [
    {
     "name": "stdout",
     "output_type": "stream",
     "text": [
      "  27.915 μs (6 allocations: 39.33 KiB)\n",
      "  172.885 ns (4 allocations: 224 bytes)\n"
     ]
    }
   ],
   "source": [
    "@btime sim_LZ2(MagnusAnalyticCalc);\n",
    "@btime sim_LZ2(MagnusAnalyticCalc, 2);"
   ]
  }
 ],
 "metadata": {
  "kernelspec": {
   "display_name": "Julia 1.12.0-DEV",
   "language": "julia",
   "name": "julia-1.12"
  },
  "language_info": {
   "file_extension": ".jl",
   "mimetype": "application/julia",
   "name": "julia",
   "version": "1.12.0"
  }
 },
 "nbformat": 4,
 "nbformat_minor": 5
}
