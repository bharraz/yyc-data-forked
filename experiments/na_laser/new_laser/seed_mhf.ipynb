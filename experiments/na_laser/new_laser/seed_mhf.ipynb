{
 "cells": [
  {
   "cell_type": "code",
   "execution_count": 1,
   "metadata": {
    "collapsed": true
   },
   "outputs": [],
   "source": [
    "using Scical"
   ]
  },
  {
   "cell_type": "code",
   "execution_count": 2,
   "metadata": {
    "collapsed": true
   },
   "outputs": [],
   "source": [
    "using PyPlot"
   ]
  },
  {
   "cell_type": "code",
   "execution_count": 3,
   "metadata": {
    "collapsed": false
   },
   "outputs": [
    {
     "data": {
      "text/plain": [
       "7x2 Array{Float64,2}:\n",
       " 485.0  477.0\n",
       " 473.0  462.0\n",
       " 453.0  444.0\n",
       " 438.0  427.0\n",
       " 420.0  409.0\n",
       " 385.0  374.0\n",
       " 349.0  337.0"
      ]
     },
     "execution_count": 3,
     "metadata": {},
     "output_type": "execute_result"
    }
   ],
   "source": [
    "data = readcsv(\"mhf_320.csv\")"
   ]
  },
  {
   "cell_type": "code",
   "execution_count": 4,
   "metadata": {
    "collapsed": false
   },
   "outputs": [
    {
     "data": {
      "text/plain": [
       "gen_mhf_img (generic function with 1 method)"
      ]
     },
     "execution_count": 4,
     "metadata": {},
     "output_type": "execute_result"
    }
   ],
   "source": [
    "function gen_mhf_img(i_min, i_max, height, data)\n",
    "    res = ones(height, i_max - i_min + 1, 3)\n",
    "    fill!(sub(res, (:, :, 2:3)), 0)\n",
    "    for idx in 1:size(data, 1)\n",
    "        i_high, i_low = data[idx, :]\n",
    "        i_low = Int(round(i_low)) - i_min + 1\n",
    "        i_high = Int(round(i_high)) - i_min + 1\n",
    "        fill!(sub(res, (:, i_low:i_high, 1)), 0)\n",
    "        fill!(sub(res, (:, i_low:i_high, 2)), 1)\n",
    "    end\n",
    "    res\n",
    "end"
   ]
  },
  {
   "cell_type": "code",
   "execution_count": 5,
   "metadata": {
    "collapsed": false
   },
   "outputs": [],
   "source": [
    "img = gen_mhf_img(330, 500, 20, data);"
   ]
  },
  {
   "cell_type": "code",
   "execution_count": 6,
   "metadata": {
    "collapsed": false
   },
   "outputs": [
    {
     "data": {
      "image/png": "[encoded data removed]",
      "text/plain": [
       "PyPlot.Figure(PyObject <matplotlib.figure.Figure object at 0x7f61ec8c9b70>)"
      ]
     },
     "metadata": {},
     "output_type": "display_data"
    }
   ],
   "source": [
    "imshow(img, extent=[330, 500, 0, 20])\n",
    "tick_params(axis=\"y\", which=\"both\", left=\"off\", labelleft=\"off\")\n",
    "savefig(\"new_mhf.png\"; bbox_inches=\"tight\")"
   ]
  }
 ],
 "metadata": {
  "kernelspec": {
   "display_name": "Julia 0.4.0-dev",
   "language": "julia",
   "name": "julia-0.4"
  },
  "language_info": {
   "name": "julia",
   "version": "0.4.0"
  }
 },
 "nbformat": 4,
 "nbformat_minor": 0
}
