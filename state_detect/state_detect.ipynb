{
 "metadata": {
  "name": "",
  "signature": "sha256:21e02c388242428dd2c1c4aaff3f3604f2f940a4ca301e4a85069a3291c88536"
 },
 "nbformat": 3,
 "nbformat_minor": 0,
 "worksheets": [
  {
   "cells": [
    {
     "cell_type": "heading",
     "level": 1,
     "metadata": {},
     "source": [
      "Planning about hyperfine/Zeeman state manipulation and detection"
     ]
    },
    {
     "cell_type": "code",
     "collapsed": false,
     "input": [
      "%pylab inline\n",
      "from pyscical import *\n",
      "from IPython import display"
     ],
     "language": "python",
     "metadata": {},
     "outputs": [
      {
       "output_type": "stream",
       "stream": "stdout",
       "text": [
        "Populating the interactive namespace from numpy and matplotlib\n"
       ]
      }
     ],
     "prompt_number": 1
    },
    {
     "cell_type": "markdown",
     "metadata": {},
     "source": [
      "## Goals\n",
      "In order to do Raman sideband cooling and STIRAP, we need hyperfine state detection and manipulation. This includes:\n",
      "\n",
      "1. Optical pumping to a single Zeeman level (without too much heating)\n",
      "2. Imaging of atom in a specific Zeeman level (at least for the stretched state)\n",
      "3. Raman spectroscopy (Raman transition plus state dependent imaging)\n",
      "4. Sideband cooling\n",
      "\n",
      "## Methods and requirements\n",
      "### Optical pumping\n",
      "Since we don't want too much heating during the pumping process, we need dark state pumping. Without a strong magnetic field, the only way to do it AFAIK is pumping on a $F \\rightarrow F$ transition with $\\sigma_\\pm$ light.\n",
      "\n",
      "#### Transitions to use\n",
      "For Cesium, we should be able to use the $F4'$ state in the $P_{3/2}$ manifold. For sodium, however, since the separation between the $F2'$ and $F3'$ state is only $6\\ (5.95)$ linewidth and the coupling to the cycling transition in $F3'$ is $6$ times stronger, there will be significant off-resonance coupling and may introduce a lot of heating. It is probably possible to do the initial pumping on this line but we might want to pump on the $D1$ line to minimize this issue for sideband cooling where it matters a lot.\n",
      "\n",
      "#### Requirements\n",
      "For free space dark state pumping, the main requirements are the alignment between the beam and the field as well as the polarization of the beam. These can be done with the atoms from the MOT although we need to be a little bit careful about the waveplates we use and make sure that we can get the best polarization inside the cell.\n",
      "\n",
      "In addition to the requirements from free space pumping, pumping in a tightly focused optical tweezer introduce more problems.\n",
      "\n",
      "First of all, the frequency of the pumping light needs to be slightly detuned from the free space transition because of the light shift (tens of MHz).\n",
      "\n",
      "The bigger issue is the vector light shift caused by the difference of AC Stark effect on the $D1$ and $D2$ transitions. According to [Mikhail's Raman sideband cooling paper](http://arxiv.org/abs/1209.3028), the vector shift in the ground state is given by\n",
      "\n",
      "$$U(\\vec r)=-U_0(\\vec r)\\frac{\\delta_2-\\delta_1}{\\delta_2+2\\delta_1}\\vec C(\\vec r)\\cdot g_F\\vec F$$\n",
      "\n",
      "where $\\delta_1$ ($\\delta_2$) is the detuning of the trapping light from the $D1$ ($D2$) line and $\\vec C=\\Im[\\vec\\varepsilon\\times\\vec\\varepsilon^*]$ is _\"a basis-independent way of expressing the normal vector of the polarization ellipse and the degree of ellipticity\"_\n",
      "\n",
      "This can also be treated as a effective magnetic field\n",
      "\n",
      "$$\\vec B=-\\frac{U_0}{\\mu_B}\\frac{\\delta_2-\\delta_1}{\\delta_2+2\\delta_1}\\vec C$$\n",
      "\n",
      "The direction of this field is perpendicular to the polarization of the light and the direction of propagation so it doesn't interfere with the optical pumping if the external field we apply is stronger than this effective field and is parallel with it. However, due to the state dependent effect of this field on the trapping potential, we need to apply a field that is perpendicular to it and the field will affect the alignment between the beam and the field.\n",
      "\n",
      "According to the same paper, the maximum gradient of the polarization $\\dfrac{\\text{d}C}{\\text{d}x}$ appears at the focus and is given by $A\\dfrac{\\alpha\\sin\\alpha}{\\lambda}$ where $\\alpha$ is the numerical aperture and $A$ is a factor depending on the illumination which is $3.1$ for uniform and $2.6$ for Gaussian. The maximum of this effective field appears roughly $\\dfrac{\\lambda}{2}$ from the focus.\n",
      "\n",
      "For our setup,"
     ]
    },
    {
     "cell_type": "code",
     "collapsed": false,
     "input": [
      "NA = 0.55\n",
      "C_x = 2.6 * NA * sin(NA)\n",
      "display.Math(r'\\dfrac{\\text{d} C}{\\text{d} x}=\\dfrac{%.3g}{\\lambda}' % C_x)"
     ],
     "language": "python",
     "metadata": {},
     "outputs": [
      {
       "latex": [
        "$$\\dfrac{\\text{d} C}{\\text{d} x}=\\dfrac{0.747}{\\lambda}$$"
       ],
       "metadata": {},
       "output_type": "pyout",
       "prompt_number": 2,
       "text": [
        "<IPython.core.display.Math at 0x7f092aa8f9e8>"
       ]
      }
     ],
     "prompt_number": 2
    },
    {
     "cell_type": "markdown",
     "metadata": {},
     "source": [
      "The factor from detuning.\n",
      "\n",
      "* For Sodium"
     ]
    },
    {
     "cell_type": "code",
     "collapsed": false,
     "input": [
      "freq_na_d1 = c / 589.76e-9\n",
      "freq_na_d2 = c / 589.16e-9\n",
      "freq_na_trap = c / 635e-9\n",
      "\n",
      "delta_na_d1 = freq_na_d1 - freq_na_trap\n",
      "delta_na_d2 = freq_na_d2 - freq_na_trap\n",
      "\n",
      "ddelta_na = (delta_na_d2 - delta_na_d1) / (delta_na_d2 + 2 * delta_na_d1)\n",
      "ddelta_na"
     ],
     "language": "python",
     "metadata": {},
     "outputs": [
      {
       "metadata": {},
       "output_type": "pyout",
       "prompt_number": 3,
       "text": [
        "0.004742239068116065"
       ]
      }
     ],
     "prompt_number": 3
    },
    {
     "cell_type": "markdown",
     "metadata": {},
     "source": [
      "* For Cesium"
     ]
    },
    {
     "cell_type": "code",
     "collapsed": false,
     "input": [
      "freq_cs_d1 = c / 894.59e-9\n",
      "freq_cs_d2 = c / 852.35e-9\n",
      "freq_cs_trap = c / 980e-9\n",
      "\n",
      "delta_cs_d1 = freq_cs_d1 - freq_cs_trap\n",
      "delta_cs_d2 = freq_cs_d2 - freq_cs_trap\n",
      "\n",
      "ddelta_cs = (delta_cs_d2 - delta_cs_d1) / (delta_cs_d2 + 2 * delta_cs_d1)\n",
      "ddelta_cs"
     ],
     "language": "python",
     "metadata": {},
     "outputs": [
      {
       "metadata": {},
       "output_type": "pyout",
       "prompt_number": 4,
       "text": [
        "0.1593392640087017"
       ]
      }
     ],
     "prompt_number": 4
    },
    {
     "cell_type": "markdown",
     "metadata": {},
     "source": [
      "Maximum effective field for $1$mK trap.\n",
      "\n",
      "* For Sodium\n",
      "\n",
      "    Assuming a relatively large wavefunction"
     ]
    },
    {
     "cell_type": "code",
     "collapsed": false,
     "input": [
      "B_na_max = ddelta_na * 20e6 / 1.4e6 * C_x * 0.5\n",
      "display.Math(r'B^{Na}_{max} = %.3g\\text{G}' % B_na_max)"
     ],
     "language": "python",
     "metadata": {},
     "outputs": [
      {
       "latex": [
        "$$B^{Na}_{max} = 0.0253\\text{G}$$"
       ],
       "metadata": {},
       "output_type": "pyout",
       "prompt_number": 5,
       "text": [
        "<IPython.core.display.Math at 0x7f092aa8f940>"
       ]
      }
     ],
     "prompt_number": 5
    },
    {
     "cell_type": "markdown",
     "metadata": {},
     "source": [
      "* For Cesium\n",
      "\n",
      "    Assuming $50$kHz trapping frequency for maximum vibrational state $n = 5^2 = 25$"
     ]
    },
    {
     "cell_type": "code",
     "collapsed": false,
     "input": [
      "eta_cs_trap = sqrt(hbar / (135e-3 / N_A) / (2 * pi * 50e3)) / 980e-9\n",
      "B_cs_max = ddelta_cs * 20e6 / 1.4e6 * C_x * eta_cs_trap * 5\n",
      "display.Math(r'B^{Cs}_{max} = %.3g\\text{G}' % B_cs_max)"
     ],
     "language": "python",
     "metadata": {},
     "outputs": [
      {
       "latex": [
        "$$B^{Cs}_{max} = 0.336\\text{G}$$"
       ],
       "metadata": {},
       "output_type": "pyout",
       "prompt_number": 6,
       "text": [
        "<IPython.core.display.Math at 0x7f092aa8ffd0>"
       ]
      }
     ],
     "prompt_number": 6
    },
    {
     "cell_type": "markdown",
     "metadata": {},
     "source": [
      "The maximum field we can provide is about $20$G. Assuming the misalignment is about $1$%.\n",
      "\n",
      "Possibility of off-resonance scattering during the dark state pumping due to the effective field from the ODT\n",
      "\n",
      "* For Cesium"
     ]
    },
    {
     "cell_type": "code",
     "collapsed": false,
     "input": [
      "db_cs = sqrt((B_cs_max / 20)**2 + 0.01**2)\n",
      "\n",
      "p_cs_off = db_cs / (1 + 4 * (0.37 * 20 / 5.23)**2) * (7 / 30) / (7 / 120)\n",
      "display.Math('P^{Cs}_{off} = %.3g' % p_cs_off)"
     ],
     "language": "python",
     "metadata": {},
     "outputs": [
      {
       "latex": [
        "$$P^{Cs}_{off} = 0.00868$$"
       ],
       "metadata": {},
       "output_type": "pyout",
       "prompt_number": 7,
       "text": [
        "<IPython.core.display.Math at 0x7f092aa9c208>"
       ]
      }
     ],
     "prompt_number": 7
    },
    {
     "cell_type": "markdown",
     "metadata": {},
     "source": [
      "* For Sodium (On $D1$ line)"
     ]
    },
    {
     "cell_type": "code",
     "collapsed": false,
     "input": [
      "db_na = sqrt((B_na_max / 20)**2 + 0.01**2)\n",
      "\n",
      "p_na_off = db_na / (1 + 4 * (0.23 * 20 / 9.77)**2) * (1 / 6) / (1 / 12)\n",
      "display.Math('P^{Na}_{off} = %.3g' % p_na_off)"
     ],
     "language": "python",
     "metadata": {},
     "outputs": [
      {
       "latex": [
        "$$P^{Na}_{off} = 0.0107$$"
       ],
       "metadata": {},
       "output_type": "pyout",
       "prompt_number": 8,
       "text": [
        "<IPython.core.display.Math at 0x7f092aa9c2e8>"
       ]
      }
     ],
     "prompt_number": 8
    },
    {
     "cell_type": "markdown",
     "metadata": {},
     "source": [
      "### State dependent imaging\n",
      "\n",
      "AFAIK, there are two possible ways to do state dependent imaging.\n",
      "\n",
      "1. Collect the fluorescence from the cycling transition without repumper\n",
      "\n",
      "2. Use the cycling transition to blow away atoms in the stretch state and do normal imaging on the atoms left\n",
      "\n",
      "Both ways relies on the cycling of the transition, which is limited by the off-resonance coupling to the $F \\rightarrow F$ transition when the beam and the polarization is not perfectly aligned with the field. This alignment is also affected by the effective field from the dipole trap.\n",
      "\n",
      "The number of cycling photons because of the effective field\n",
      "\n",
      "* For Cesium"
     ]
    },
    {
     "cell_type": "code",
     "collapsed": false,
     "input": [
      "n_cs_cycle = (db_cs / (1 + 4 * (251 / 5.23)**2) / (1 / 2) * (7 / 30))**-1 / (1 + (7 / 30) / (7 / 120 + 5 / 24))\n",
      "display.Math('n^{Cs}_{cycle} = %.3g' % n_cs_cycle)"
     ],
     "language": "python",
     "metadata": {},
     "outputs": [
      {
       "latex": [
        "$$n^{Cs}_{cycle} = 5.39e+05$$"
       ],
       "metadata": {},
       "output_type": "pyout",
       "prompt_number": 9,
       "text": [
        "<IPython.core.display.Math at 0x7f092aa9c240>"
       ]
      }
     ],
     "prompt_number": 9
    },
    {
     "cell_type": "markdown",
     "metadata": {},
     "source": [
      "* For Sodium"
     ]
    },
    {
     "cell_type": "code",
     "collapsed": false,
     "input": [
      "n_na_cycle = (db_na / (1 + 4 * (58.3 / 9.79)**2) / (1 / 2) * (1 / 6))**-1 / (1 + (1 / 6) / (1 / 12 + 1 / 4))\n",
      "display.Math('n^{Na}_{cycle} = %.3g' % n_na_cycle)"
     ],
     "language": "python",
     "metadata": {},
     "outputs": [
      {
       "latex": [
        "$$n^{Na}_{cycle} = 2.83e+04$$"
       ],
       "metadata": {},
       "output_type": "pyout",
       "prompt_number": 10,
       "text": [
        "<IPython.core.display.Math at 0x7f092aa9c4e0>"
       ]
      }
     ],
     "prompt_number": 10
    },
    {
     "cell_type": "markdown",
     "metadata": {},
     "source": [
      "These should be enough photons to see on the camera / kick the atom out of the trap."
     ]
    },
    {
     "cell_type": "markdown",
     "metadata": {},
     "source": [
      "### Raman spectroscopy\n",
      "We need Raman spectroscopy to,\n",
      "\n",
      "1. measure trapping frequency (also possible with parametric heating)\n",
      "2. measure the temperature of the single atom (also possible with release and recapture)\n",
      "3. measure Rabi frequency of the Raman transitions and test/diagnose sideband cooling.\n",
      "\n",
      "We are mostly interested in driving Raman transitions on the stretched states since these are the states we want to sideband cool into.\n",
      "\n",
      "#### Experiment procedure\n",
      "\n",
      "1. Optical pump the atoms into the stretched state\n",
      "2. Drive a Raman transition (either on the carrier or the sideband) into the other hyperfine state\n",
      "3. Either image on a cycling transition to see atoms disappearing or use the cycling transition to kick atoms away and do normal imaging to see the atoms drived to the other state."
     ]
    },
    {
     "cell_type": "markdown",
     "metadata": {},
     "source": [
      "## TODO\n",
      "1. $F$ pumping and imaging\n",
      "\n",
      "    Due to the separation between the $F4'$ and $F5'$ states in Cesium, we can probably test the schemes we will use without having to align the imaging beam with the external field.\n",
      "\n",
      "    Things we can do with $F$ pumping and imaging:\n",
      "\n",
      "    1. Use $F4$ or $F3$ light only to pump the atoms into $F3$ or $F4$ state. (And we can do normal imaging to make sure we still have them)\n",
      "\n",
      "    2. Try doing florescence imaging of $F4$ atoms with only resonant $F4\\rightarrow F5'$ light. (After $F$ pumping). The atom should scatter $2000$ to $3000$ photons before they get pumped into the $F3$ state, which may or may not be enough to see.\n",
      "\n",
      "    3. Try using only $F4\\rightarrow F5$ light to kick the $F4$ atom out of the trap. (Also after $F$ pumping). We can try to decrease the trapping depth when applying the kicking light if necessary. After that, we can do normal imaging to see what is left.\n",
      "\n",
      "2. $m_F$ pumping and imaging\n",
      "\n",
      "    For $m_F$ pumping, we need to install the extra bread board and align the beam with the field.\n",
      "\n",
      "3. Raman spectroscopy"
     ]
    },
    {
     "cell_type": "markdown",
     "metadata": {},
     "source": [
      "## More detailed TODO\n",
      "* Pumping beam alignment\n",
      "    * _Part of dark state pumping and cycling transition optimization_\n",
      "    * Possible issues\n",
      "        1. Getting enough signal-to-noise\n",
      "    * Required by\n",
      "        * Dark state pumping in ODT\n",
      "        * (Likely for sodium) Zeeman level sensitive imaging in ODT\n",
      "* Dark state pumping in free space\n",
      "    * Requirement\n",
      "        1. _Zeeman state sensitive imaging in free space_\n",
      "    * Possible issues\n",
      "        1. Heating\n",
      "        2. Finite pumping/imaging time\n",
      "    * Preliminary plan\n",
      "        * Measuring heating while scanning the pump beam alignment\n",
      "    * Required by\n",
      "        * (Not strictly needed) Dark state pumping in ODT\n",
      "* Hypefine level sensitive imaging in ODT\n",
      "    * Requires\n",
      "        1. (Not strictly needed) _Imaging in ODT without cooling_\n",
      "    * Possible issues\n",
      "        1. Heating during imaging without cooling\n",
      "        2. Scatter enough photons without repumper\n",
      "    * Preliminary plan\n",
      "        * Use the corresponding hyperfine line to kick atom out of the trap\n",
      "    * Required by\n",
      "        * (For characterization) Zeeman state manipulation with Raman transition or RF\n",
      "        * State preparation in ODT\n",
      "        * (Not strictly needed) Zeeman level sensitive imaging in ODT\n",
      "* State preparation in ODT\n",
      "    * Requires\n",
      "        1. Hyperfine level sensitive imaging in ODT\n",
      "    * Possible issues\n",
      "        1. Heating\n",
      "    * Preliminary plan\n",
      "        * Doesn't have to be dark state or $m_F$ level pumping but needs to be robust and might need to be optimized at the same time with imaging/detection.\n",
      "        * Possible schemes are:\n",
      "            1. Hyperfine level pumping\n",
      "            2. Bright/dark state $m_F$ pumping without optimization on heating\n",
      "    * Required by\n",
      "        * Driving sideband with Raman transition\n",
      "        * Zeeman state manipulation with Raman transition or RF\n",
      "        * Zeeman level sensitive imaging in ODT\n",
      "* Measuring trap frequency\n",
      "    * Possible issues\n",
      "        1. Signal-to-noise\n",
      "    * Preliminary plan\n",
      "        1. Parametric heating\n",
      "    * Required by\n",
      "        * (Not strictly needed) Driving sideband with Raman transition\n",
      "* Zeeman state manipulation with Raman transition or RF\n",
      "    * Goal\n",
      "        * Transfer atom between Zeeman levels between hyperfine states, either in free space or in ODT\n",
      "    * Requirements\n",
      "        1. State preparation in ODT\n",
      "        2. (For characterization) Hyperfine level sensitive imaging in ODT\n",
      "    * Possible issues\n",
      "        1. Raman coherence time\n",
      "        2. Polarization and selection rules\n",
      "    * Required by\n",
      "        * (Very likely for cesium) Zeeman level sensitive imaging in ODT\n",
      "* Zeeman level sensitive imaging in ODT\n",
      "    * Goal\n",
      "        * Measure the probability in different Zeeman levels (or at least in the stretched states)\n",
      "    * Requirements\n",
      "        1. (Not strictly needed) Hyperfine state sensitive imaging in ODT\n",
      "        2. (Not strictly needed) _Imaging in ODT without cooling_\n",
      "        3. State preparation in ODT\n",
      "        4. (Very likely for cesium) Zeeman state manipulation with Raman transition or RF\n",
      "        5. (Likely for sodium) Pumping beam alignment\n",
      "    * Possible issues\n",
      "        1. Collecting enough photon for imaging\n",
      "        2. (When not using Raman transition or RF to manipulate Zeeman levels) Getting a high distinction ratio bewteen different Zeman states.\n",
      "    * Preliminary plan\n",
      "        * There's multiple ways we can do this\n",
      "            1. If the atom cannot cycle a lot of photon except on the cycling transition (for a small excited state hyperfine structure), we can use the cycling transition to image (if we can collect enough photon on it) or to push out the atom in the stretched state and image the rest (if it can produce enough heating).\n",
      "            2. If the excited state has enough splitting, we can do hyperfine state sensitive imaging and use RF or Raman transition to pick out certain Zeeman state.\n",
      "            3. There might also be fancier scheme if we can get a EIT etc...\n",
      "    * Required by\n",
      "        * (For characterization) Dark state pumping in ODT\n",
      "        * Raman thermometry\n",
      "        * (For characterization, not strictly needed) Driving sideband with Raman transition\n",
      "* Driving sideband with Raman transition\n",
      "    * Goal\n",
      "        * Show that we can drive sideband\n",
      "        * Prepare for sideband cooling\n",
      "    * Requirements\n",
      "        1. (Not strictly needed) Measuring trap frequency\n",
      "        2. State preparation in ODT\n",
      "        3. (For characterization, not strictly needed) Zeeman level sensitive imaging in ODT\n",
      "        4. (For characterization) Hyperfine level sensitive imaging in ODT\n",
      "    * Possible issues\n",
      "        1. Raman laser coherence and stability\n",
      "        2. Field stability\n",
      "        3. Fidelity of initial state preparation\n",
      "        4. Raman beam polarization and direction (including checking that we do not hit a zero in the matrix element accidentally)\n",
      "    * Preliminary plan\n",
      "        * State sensitive imaging with a scan of Raman detuning\n",
      "        * Characterize stability (of field, laser, trap etc.), linewidth/trap frequency distribution\n",
      "    * Required by\n",
      "        * Raman sideband cooling\n",
      "        * Raman thermometry\n",
      "* Raman thermometry\n",
      "    * Goal\n",
      "        * Measure probability distribution or temperature of atom in the ODT\n",
      "    * Requirements\n",
      "        1. Driving sideband with Raman transition\n",
      "        2. Zeeman level sensitive imaging in ODT\n",
      "    * Possible issues\n",
      "        1. Data interpretation\n",
      "        2. Anharmonicity of the ODT\n",
      "        3. Repeatability and signal-to-noise\n",
      "    * Preliminary plan\n",
      "        * Experiment should be straight if we can drive sideband and do state sensitive imaging.\n",
      "        * Might need to work on stability (in general) to get a high precision measurement of the temperature or the probability distribution.\n",
      "    * Required by\n",
      "        * (For characterization) Raman sideband cooling\n",
      "        * (For characterization) Dark state pumping in ODT\n",
      "* Dark state pumping in ODT\n",
      "    * Goal\n",
      "        * Pump atom in the ODT to the stretched state\n",
      "        * Do no heat atom up in the dark state\n",
      "    * Requirements\n",
      "        1. (Not strictly needed) Dark state pumping in free space\n",
      "        2. Pumping beam alignment\n",
      "        3. (For characterization) Zeeman level sensitive imaging in ODT\n",
      "        4. (For characterization) Raman thermometry\n",
      "    * Possible issues\n",
      "        1. Heating\n",
      "        2. Fictitious magnetic field from elliptical polarization of the ODT\n",
      "    * Preliminary plan\n",
      "        * Measure the state distribution (or the number/possibility in the stretched state) as a function of pump time (or other parameters)\n",
      "        * Measure heating (compare temperature or probability distribution of dark state atom with and without pumping)\n",
      "    * Required by\n",
      "        * Raman sideband cooling\n",
      "* Raman sideband cooling\n",
      "    * Goal\n",
      "        * Get a high probability in the vibrational ground state\n",
      "    * Requirements\n",
      "        1. Driving sideband with Raman transition\n",
      "        2. Dark state pumping in ODT\n",
      "        3. (For characterization) Raman thermometry\n",
      "    * Possible issues\n",
      "        1. Cooling sequence and parameters\n",
      "        2. Darkness of ground state\n",
      "    * Preliminary plan\n",
      "        * Check the effect of Raman transition on the atom temperature\n",
      "        * Check the effect of dark state pumping on the atom temperature\n",
      "        * Optimize sequence possibly with help from simulation"
     ]
    },
    {
     "cell_type": "markdown",
     "metadata": {},
     "source": [
      "## Preliminary plan (For cesium)\n",
      "1. $F$ pumping and hyperfine state sensitive imaging in free space\n",
      "    * Hyperfine state sensitive imaging (two possible approaches)\n",
      "        1. Shine MOT light on the $F=4$ to $F'=5$ transition (possibly with red detuning to get some cooling) without repumper and collect florescence\n",
      "        2. Use the optical pumping beam on the $F=4$ to $F'=5$ transition to push out atoms in the $F=4$ state\n",
      "    * We can scatter about $1 + \\left(\\dfrac{2\\cdot251}{5.23}\\right)^2 \\approx 9214$ photons on the $4\\rightarrow5'$ transition\n",
      "    * $F$ pumping would be using $4\\rightarrow4'$ transition, the signal to look for is the absence of atoms without repumper and atoms with repumper. (and that we can see $F=4$ atoms without the repumper)\n",
      "    * We can try this with or without a bias field (or with the MOT field)\n",
      "    * We can also try using the optical pumping beam with different polarization if we cannot see a signal\n",
      "    * For all state dependent imaging (especially true for hyperfine state detection), we want a imaging / pumping power below $I_{sat_{}}$\n",
      "    * The advantage of doing hyperfine state detection first is that we can use the MOT light to do it and it will not push the cloud in on direction. Otherwise, we can scatter more photons on the cycling transition.\n",
      "2. Drive Raman transition in free space\n",
      "    * Once we've got hyperfine state detection work, we can try driving Raman transition between $F=4$ and $F=3$.\n",
      "    * We can use as high power as possible to begin with, but to distinguish Zeeman levels the Rabi frequency needs to be smaller than the Zeeman spiting.\n",
      "    * Need to be careful with selection rules and light polarization. For this measurment, we can cheat by pointing the magnetic field in a different direction (to get all of $\\sigma^\\pm$ and $\\pi$ components)\n",
      "    * The transition we want to drive depends on the initial state we prepare them into\n",
      "        1. If we prepare them in $F=4$, the atom out of the MOT should be mostly in $m_F=4$ and we can help them by doing some $m_F$ puming. We can then drive $m_F=4\\rightarrow m_F=3$ or $m_F=4\\rightarrow m_F=2$ transition ($\\left|\\Delta m_F\\right|\\leqslant2$ for Raman transition)\n",
      "        2. If we pump them into $F=3$, it's likely that we get mulitple $m_F$'s. We can scan the frequency and try to see multiple resonances\n",
      "3. Map Zeeman levels in free space\n",
      "    * Mainly part of the step above. Possibly usint the Raman resonance to calibrate the bias field and understand the state distribution\n",
      "4. Bright state $m_F$ pumping in free space\n",
      "    * Shine $|4, 4\\rangle\\rightarrow|5', 5\\rangle$ light with repumper in the optical pumping path and measure the state distribution and temperature afterward\n",
      "    * Not strictly needed if ODT is ready\n",
      "5. Dark state $m_F$ pumping and pumping beam alignment (rough) in free space\n",
      "    * Shine $|4, 4\\rangle\\rightarrow|4', 4\\rangle$ light with repumper in the optical pumping path and measure the state distribution and temperature afterward\n",
      "    * Try to get a lowest temperature (to the degree that is possible to do) by aligning the pumping beam (direction and polarization)\n",
      "    * Not strictly needed if ODT is ready\n",
      "6. (If possible) Fine alignment of pumping beam by measuring heating or fluorescence during pumping\n",
      "    * Part of previous step. A little more characteristic if the ODT is not ready\n",
      "7. $F$ pumping and hyperfine state sensitive imaging in ODT\n",
      "    * Similar to free space\n",
      "    * May need to image ODT without cooling (depending on the scheme)\n",
      "8. Drive Raman transition (on carrier) in ODT\n",
      "    * Similar to free space\n",
      "    * We can also try to see if there's any differential light shift between Zeeman levels caused by the ODT and see how does the ODT polarization and magnetic field direction affect this\n",
      "9. Map Zeeman levels in ODT\n",
      "    * Similar to free space\n",
      "10. Drive Raman sideband\n",
      "    * We can also try parametric heating and get a sense of the trapping frequency\n",
      "    * May need to set up mulitple Raman beams (two at least for sure) but we can start simple\n",
      "11. Raman thermometry\n",
      "    * Measure the height of sideband (possibly from different directions)\n",
      "    * Get a good signal-to-noise\n",
      "    * Measure heating in the trap (due to noise of the ODT power etc)\n",
      "12. Bright state pumping in ODT\n",
      "    * Measure heating and check if we have a big enough bias field (and align bias field with ODT polarization)\n",
      "13. Dark state $m_F$ pumping in ODT\n",
      "    * Similar to free space\n",
      "14. Fine pumping beam alignment in ODT\n",
      "    * Part of previos step\n",
      "    * Measure heating and optimize alignment to get as little heating as possible\n",
      "15. Raman sideband cooling\n",
      "    * Go step by step and optimize the sequence"
     ]
    }
   ],
   "metadata": {}
  }
 ]
}