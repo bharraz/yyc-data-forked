{
 "metadata": {
  "name": "",
  "signature": "sha256:7ed0844aefddb8e3933e850771b7e4492af06340fe1b81ace744986a8297254a"
 },
 "nbformat": 3,
 "nbformat_minor": 0,
 "worksheets": [
  {
   "cells": [
    {
     "cell_type": "heading",
     "level": 1,
     "metadata": {},
     "source": [
      "Controller, Cable, Laser pin out of the TimeBase lasers"
     ]
    },
    {
     "cell_type": "markdown",
     "metadata": {},
     "source": [
      "## LD-1001 controller output\n",
      "* Connector type\n",
      "\n",
      "    15-pin D-sub\n",
      "\n",
      "* Pin out    \n",
      "    * 1: **TS1 TEC+**\n",
      "    * 2: **TS1 TEC-**\n",
      "    * 4: **TS2: Heater**\n",
      "    * 5: **TS2: Heater**\n",
      "    * 7: **LD+ (anode)**\n",
      "    * 9: **TS1: Thermistor**\n",
      "    * 10: **TS1: Thermistor**\n",
      "    * 11: **TS2: Thermistor**\n",
      "    * 12: **TS2: Thermistor**\n",
      "    * 14: **LD- (cathode)**"
     ]
    },
    {
     "cell_type": "markdown",
     "metadata": {},
     "source": [
      "## Cables\n",
      "1. MOT laser\n",
      "    * Controller side colors\n",
      "        * 1: **Brown + Brown-Green**\n",
      "        * 2: **Green + White-Green**\n",
      "        * 3: _**Yellow**_\n",
      "        * 4: _**NC**_\n",
      "        * 5: _**NC**_\n",
      "        * 6: _**Pink**_\n",
      "        * 7: **Red + Red-Blue**\n",
      "        * 8: **Purple**\n",
      "        * 9: **White**\n",
      "        * 10: **Pink-Grey**\n",
      "        * 11: _**NC**_\n",
      "        * 12: _**NC**_\n",
      "        * 13: _**Black**_\n",
      "        * 14: **Blue + Yellow-Brown**\n",
      "        * 15: _**Grey**_\n",
      "    * Laser side colors\n",
      "        * A: **Red + Red-Blue**\n",
      "        * B: **Green + White-Green**\n",
      "        * C: **Brown + Brown-Green**\n",
      "        * D: **White**\n",
      "        * E: **Pink-Grey**\n",
      "        * F: **NC**\n",
      "        * G: **Black**\n",
      "        * H: **Grey**\n",
      "        * J: **Pink**\n",
      "        * K: **Blue + Yellow-Brown**\n",
      "        * L: **Purple**\n",
      "        * M: **Yellow**\n",
      "2. Raman laser\n",
      "    * Controller side colors\n",
      "        * 1: **Brown + Brown-Green**\n",
      "        * 2: **Green + White-Green**\n",
      "        * 3: _**NC**_\n",
      "        * 4: _**Grey**_\n",
      "        * 5: _**Black**_\n",
      "        * 6: _**NC**_\n",
      "        * 7: **Red + Red-Blue**\n",
      "        * 8: **Purple**\n",
      "        * 9: **White**\n",
      "        * 10: **Pink-Grey**\n",
      "        * 11: _**Pink**_\n",
      "        * 12: _**Yellow**_\n",
      "        * 13: _**NC**_\n",
      "        * 14: **Blue + Yellow-Brown**\n",
      "        * 15: _**NC**_\n"
     ]
    },
    {
     "cell_type": "markdown",
     "metadata": {},
     "source": [
      "## Laser input\n",
      "* MOT laser (derived from the pin out of the controller and cable)\n",
      "    * A: **LD+ (anode)**\n",
      "    * B: **TS1 TEC-**\n",
      "    * C: **TS1 TEC+**\n",
      "    * D: **TS1: Thermistor**\n",
      "    * E: **TS1: Thermistor**\n",
      "    * F: **NC**\n",
      "    * G: **-**\n",
      "    * H: **-**\n",
      "    * J: **NC**\n",
      "    * K: **LD- (cathode)**\n",
      "    * L: **-**\n",
      "    * M: **-**"
     ]
    }
   ],
   "metadata": {}
  }
 ]
}