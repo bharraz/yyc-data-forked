{
 "cells": [
  {
   "cell_type": "markdown",
   "metadata": {},
   "source": [
    "# Basic\n",
    "\n",
    "* REPL\n",
    "* Numbers\n",
    "\n",
    "    * Integer\n",
    "    * Floating Points\n",
    "    * Complex\n",
    "    * Bool\n",
    "\n",
    "* Strings\n",
    "\n",
    "    * ASCII\n",
    "    * UTF8\n",
    "    * typing unicode literals\n",
    "\n",
    "* Operators\n",
    "\n",
    "    * `+`, `-`, `*`, `/`, `\\`, `div`, `%`, `^`\n",
    "    * `.+`, `.-`, `.*`, `./`, `.\\`, `.%`, `.^`\n",
    "    * `&`, `|`, `$`, `~`, `>>`, `>>>`, `<<`\n",
    "    * `&&`, `||`\n",
    "    * `<`, `>`, `>=`, `<=`, `==`, `!=`, `===`, `!==`\n",
    "\n",
    "* Control flow\n",
    "\n",
    "    * `if` (`||`, `&&`, `? :`)\n",
    "    * `while`\n",
    "    * `for`\n",
    "    * `@goto` (don't use)\n",
    "    * `try`\n",
    "\n",
    "* Scope\n",
    "\n",
    "    * Global and local\n",
    "    * `eval`\n",
    "    * Closure\n",
    "    * `begin` and `let`\n"
   ]
  },
  {
   "cell_type": "markdown",
   "metadata": {},
   "source": [
    "# Arrays\n",
    "\n",
    "* Passing by reference\n",
    "* `slice`\n",
    "* `eltype`\n",
    "* Multi-dimensional arrays\n",
    "* Comprehension (maybe avoid)\n",
    "* `@inbounds`\n"
   ]
  },
  {
   "cell_type": "markdown",
   "metadata": {},
   "source": [
    "# Workflow\n",
    "\n",
    "* REPL\n",
    "* Run scripts from command line\n",
    "* IJulia notebook\n",
    "* Caveat\n"
   ]
  },
  {
   "cell_type": "markdown",
   "metadata": {},
   "source": [
    "# Functions\n",
    "\n",
    "* Arguments\n",
    "* `return`\n",
    "* Passing by reference again\n",
    "* anonymous function (maybe avoid for now?)\n"
   ]
  },
  {
   "cell_type": "markdown",
   "metadata": {},
   "source": [
    "# Types\n",
    "\n",
    "* `type` vs `immutable`\n",
    "* Parametrized type\n"
   ]
  },
  {
   "cell_type": "markdown",
   "metadata": {},
   "source": [
    "# Performance\n",
    "\n",
    "* Dynamic language\n",
    "* Type inference\n",
    "* Type stability\n",
    "* Global variables\n",
    "* Vectorized vs devectorized -- why is vectorized code fast in MATLAB\n",
    "* Fast array access\n"
   ]
  }
 ],
 "metadata": {
  "kernelspec": {
   "display_name": "Julia 0.5.0-dev",
   "language": "julia",
   "name": "julia-0.5"
  },
  "language_info": {
   "file_extension": ".jl",
   "mimetype": "application/julia",
   "name": "julia",
   "version": "0.5.0"
  }
 },
 "nbformat": 4,
 "nbformat_minor": 0
}
