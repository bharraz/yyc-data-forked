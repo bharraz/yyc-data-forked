{
 "cells": [
  {
   "cell_type": "markdown",
   "metadata": {},
   "source": [
    "#### RMA\n",
    "\n",
    "`MD100915-01`\n",
    "\n",
    "#### Problem and what we've tried\n",
    "\n",
    "The diffraction efficiency is $\\approx 2\\%$ instead of the $\\approx 40\\%$ quoted on the data sheet. We could get up to $12\\%$ for the other one we have (serial number `*48` instead of `*47`) but it is still lower than the spec number. We followed the procedure on the manual to couple the light. It is usually quit easy to get to very close to our maximum efficiency ($2\\%$ and $10\\%$) but not any higher. \n",
    "\n",
    "We noticed that as we move the beam closer to the transducer, the efficiency is still getting higher when the beam starts to get clipped on the edge of the window so we suspect that the window is not big enough. When talking to you before sending this back, we are suggested to check if we can see the transducer from the window. If I understand the question correctly, the transducer is not really visible and we can only see the interface to it from the AOM crystal side, suggesting that the window might be too small.\n",
    "\n",
    "#### Other info\n",
    "\n",
    "The maximum intensity quoted ($5\\text{W}\\cdot\\text{mm}^{-2}$) is very low given the beam size. We were told that the number is very conservative and it should be able to handle around $100\\text{W}\\cdot\\text{mm}^{-2}$ although I didn't remember asking if it is for pulses or for continuous beam. The beam power we have is about $30-40\\text{mW}$ so I would like to make sure that it is safe to put in $10-20\\text{W}\\cdot\\text{mm}^{-2}$ (corresponding to $50-70\\mu m$ beam diameter) continiously without damaging the crystal.\n",
    "\n",
    "#### Contact info\n",
    "\n",
    "|Name|Yichao Yu|\n",
    "|----|---------|\n",
    "|Email|yyc1992@gmail.com|\n",
    "|Address|12 Oxford St. Converse 123, Cambridege, MA, 02138|\n",
    "\n",
    "Other info can be found on our group website if needed http://faculty.chemistry.harvard.edu/kni/research\n",
    "\n",
    "Please update us (preferably through email) when you have identified the problem and/or have an estimate of how long it would take to fix it.\n",
    "\n",
    "Thank you.\n"
   ]
  }
 ],
 "metadata": {
  "kernelspec": {
   "display_name": "Julia 0.5.0-dev",
   "language": "julia",
   "name": "julia-0.5"
  },
  "language_info": {
   "file_extension": ".jl",
   "mimetype": "application/julia",
   "name": "julia",
   "version": "0.5.0"
  }
 },
 "nbformat": 4,
 "nbformat_minor": 0
}
